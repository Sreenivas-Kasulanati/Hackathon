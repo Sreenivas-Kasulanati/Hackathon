{
 "cells": [
  {
   "cell_type": "code",
   "execution_count": 10,
   "metadata": {},
   "outputs": [],
   "source": [
    "import pandas as pd\n",
    "import numpy as np\n",
    "import matplotlib as plt\n",
    "import seaborn as sns\n",
    "import re\n",
    "%matplotlib inline"
   ]
  },
  {
   "cell_type": "markdown",
   "metadata": {},
   "source": [
    "### Converted text file to csv files"
   ]
  },
  {
   "cell_type": "code",
   "execution_count": 11,
   "metadata": {},
   "outputs": [],
   "source": [
    "train = pd.read_csv(\"Train.csv\")  #imported files\n",
    "test = pd.read_csv(\"Test.csv\")"
   ]
  },
  {
   "cell_type": "code",
   "execution_count": 9,
   "metadata": {},
   "outputs": [],
   "source": [
    "train.columns = [\"duration\",\"protocol_type\",\"service\",\"flag\",\"src_bytes\",\"dst_bytes\",\"land\",\n",
    "\"wrong_fragment\",\"urgent\",\"hot\",\"num_failed_logins\",\"logged_in\",\n",
    "\"num_compromised\",\"root_shell\",\"su_attempted\",\"num_root\",\"num_file_creations\",\n",
    "\"num_shells\",\"num_access_files\",\"num_outbound_cmds\",\"is_host_login\",\n",
    "\"is_guest_login\",\"count\",\"srv_count\",\"serror_rate\", \"srv_serror_rate\",\n",
    "\"rerror_rate\",\"srv_rerror_rate\",\"same_srv_rate\", \"diff_srv_rate\", \"srv_diff_host_rate\",\"dst_host_count\",\"dst_host_srv_count\",\"dst_host_same_srv_rate\",\n",
    "\"dst_host_diff_srv_rate\",\"dst_host_same_src_port_rate\",\"dst_host_srv_diff_host_rate\",\"dst_host_serror_rate\",\"dst_host_srv_serror_rate\",\n",
    "\"dst_host_rerror_rate\",\"dst_host_srv_rerror_rate\",\"attack\", \"last_flag\"]\n"
   ]
  },
  {
   "cell_type": "code",
   "execution_count": 4,
   "metadata": {
    "scrolled": true
   },
   "outputs": [
    {
     "name": "stdout",
     "output_type": "stream",
     "text": [
      "<class 'pandas.core.frame.DataFrame'>\n",
      "RangeIndex: 125972 entries, 0 to 125971\n",
      "Data columns (total 43 columns):\n",
      "duration                       125972 non-null int64\n",
      "protocol_type                  125972 non-null object\n",
      "service                        125972 non-null object\n",
      "flag                           125972 non-null object\n",
      "src_bytes                      125972 non-null int64\n",
      "dst_bytes                      125972 non-null int64\n",
      "land                           125972 non-null int64\n",
      "wrong_fragment                 125972 non-null int64\n",
      "urgent                         125972 non-null int64\n",
      "hot                            125972 non-null int64\n",
      "num_failed_logins              125972 non-null int64\n",
      "logged_in                      125972 non-null int64\n",
      "num_compromised                125972 non-null int64\n",
      "root_shell                     125972 non-null int64\n",
      "su_attempted                   125972 non-null int64\n",
      "num_root                       125972 non-null int64\n",
      "num_file_creations             125972 non-null int64\n",
      "num_shells                     125972 non-null int64\n",
      "num_access_files               125972 non-null int64\n",
      "num_outbound_cmds              125972 non-null int64\n",
      "is_host_login                  125972 non-null int64\n",
      "is_guest_login                 125972 non-null int64\n",
      "count                          125972 non-null int64\n",
      "srv_count                      125972 non-null int64\n",
      "serror_rate                    125972 non-null float64\n",
      "srv_serror_rate                125972 non-null float64\n",
      "rerror_rate                    125972 non-null float64\n",
      "srv_rerror_rate                125972 non-null float64\n",
      "same_srv_rate                  125972 non-null float64\n",
      "diff_srv_rate                  125972 non-null float64\n",
      "srv_diff_host_rate             125972 non-null float64\n",
      "dst_host_count                 125972 non-null int64\n",
      "dst_host_srv_count             125972 non-null int64\n",
      "dst_host_same_srv_rate         125972 non-null float64\n",
      "dst_host_diff_srv_rate         125972 non-null float64\n",
      "dst_host_same_src_port_rate    125972 non-null float64\n",
      "dst_host_srv_diff_host_rate    125972 non-null float64\n",
      "dst_host_serror_rate           125972 non-null float64\n",
      "dst_host_srv_serror_rate       125972 non-null float64\n",
      "dst_host_rerror_rate           125972 non-null float64\n",
      "dst_host_srv_rerror_rate       125972 non-null float64\n",
      "attack                         125972 non-null object\n",
      "last_flag                      125972 non-null int64\n",
      "dtypes: float64(15), int64(24), object(4)\n",
      "memory usage: 41.3+ MB\n"
     ]
    }
   ],
   "source": [
    "train.info()"
   ]
  },
  {
   "cell_type": "code",
   "execution_count": 8,
   "metadata": {},
   "outputs": [
    {
     "data": {
      "text/html": [
       "<div>\n",
       "<style scoped>\n",
       "    .dataframe tbody tr th:only-of-type {\n",
       "        vertical-align: middle;\n",
       "    }\n",
       "\n",
       "    .dataframe tbody tr th {\n",
       "        vertical-align: top;\n",
       "    }\n",
       "\n",
       "    .dataframe thead th {\n",
       "        text-align: right;\n",
       "    }\n",
       "</style>\n",
       "<table border=\"1\" class=\"dataframe\">\n",
       "  <thead>\n",
       "    <tr style=\"text-align: right;\">\n",
       "      <th></th>\n",
       "      <th>0</th>\n",
       "      <th>tcp</th>\n",
       "      <th>ftp_data</th>\n",
       "      <th>SF</th>\n",
       "      <th>491</th>\n",
       "      <th>0.1</th>\n",
       "      <th>0.2</th>\n",
       "      <th>0.3</th>\n",
       "      <th>0.4</th>\n",
       "      <th>0.5</th>\n",
       "      <th>...</th>\n",
       "      <th>0.17.1</th>\n",
       "      <th>0.03</th>\n",
       "      <th>0.17.2</th>\n",
       "      <th>0.24</th>\n",
       "      <th>0.25</th>\n",
       "      <th>0.26</th>\n",
       "      <th>0.05</th>\n",
       "      <th>0.27</th>\n",
       "      <th>normal</th>\n",
       "      <th>20</th>\n",
       "    </tr>\n",
       "  </thead>\n",
       "  <tbody>\n",
       "    <tr>\n",
       "      <th>0</th>\n",
       "      <td>0</td>\n",
       "      <td>udp</td>\n",
       "      <td>other</td>\n",
       "      <td>SF</td>\n",
       "      <td>146</td>\n",
       "      <td>0</td>\n",
       "      <td>0</td>\n",
       "      <td>0</td>\n",
       "      <td>0</td>\n",
       "      <td>0</td>\n",
       "      <td>...</td>\n",
       "      <td>0.00</td>\n",
       "      <td>0.60</td>\n",
       "      <td>0.88</td>\n",
       "      <td>0.00</td>\n",
       "      <td>0.00</td>\n",
       "      <td>0.00</td>\n",
       "      <td>0.0</td>\n",
       "      <td>0.00</td>\n",
       "      <td>normal</td>\n",
       "      <td>15</td>\n",
       "    </tr>\n",
       "    <tr>\n",
       "      <th>1</th>\n",
       "      <td>0</td>\n",
       "      <td>tcp</td>\n",
       "      <td>private</td>\n",
       "      <td>S0</td>\n",
       "      <td>0</td>\n",
       "      <td>0</td>\n",
       "      <td>0</td>\n",
       "      <td>0</td>\n",
       "      <td>0</td>\n",
       "      <td>0</td>\n",
       "      <td>...</td>\n",
       "      <td>0.10</td>\n",
       "      <td>0.05</td>\n",
       "      <td>0.00</td>\n",
       "      <td>0.00</td>\n",
       "      <td>1.00</td>\n",
       "      <td>1.00</td>\n",
       "      <td>0.0</td>\n",
       "      <td>0.00</td>\n",
       "      <td>neptune</td>\n",
       "      <td>19</td>\n",
       "    </tr>\n",
       "    <tr>\n",
       "      <th>2</th>\n",
       "      <td>0</td>\n",
       "      <td>tcp</td>\n",
       "      <td>http</td>\n",
       "      <td>SF</td>\n",
       "      <td>232</td>\n",
       "      <td>8153</td>\n",
       "      <td>0</td>\n",
       "      <td>0</td>\n",
       "      <td>0</td>\n",
       "      <td>0</td>\n",
       "      <td>...</td>\n",
       "      <td>1.00</td>\n",
       "      <td>0.00</td>\n",
       "      <td>0.03</td>\n",
       "      <td>0.04</td>\n",
       "      <td>0.03</td>\n",
       "      <td>0.01</td>\n",
       "      <td>0.0</td>\n",
       "      <td>0.01</td>\n",
       "      <td>normal</td>\n",
       "      <td>21</td>\n",
       "    </tr>\n",
       "    <tr>\n",
       "      <th>3</th>\n",
       "      <td>0</td>\n",
       "      <td>tcp</td>\n",
       "      <td>http</td>\n",
       "      <td>SF</td>\n",
       "      <td>199</td>\n",
       "      <td>420</td>\n",
       "      <td>0</td>\n",
       "      <td>0</td>\n",
       "      <td>0</td>\n",
       "      <td>0</td>\n",
       "      <td>...</td>\n",
       "      <td>1.00</td>\n",
       "      <td>0.00</td>\n",
       "      <td>0.00</td>\n",
       "      <td>0.00</td>\n",
       "      <td>0.00</td>\n",
       "      <td>0.00</td>\n",
       "      <td>0.0</td>\n",
       "      <td>0.00</td>\n",
       "      <td>normal</td>\n",
       "      <td>21</td>\n",
       "    </tr>\n",
       "    <tr>\n",
       "      <th>4</th>\n",
       "      <td>0</td>\n",
       "      <td>tcp</td>\n",
       "      <td>private</td>\n",
       "      <td>REJ</td>\n",
       "      <td>0</td>\n",
       "      <td>0</td>\n",
       "      <td>0</td>\n",
       "      <td>0</td>\n",
       "      <td>0</td>\n",
       "      <td>0</td>\n",
       "      <td>...</td>\n",
       "      <td>0.07</td>\n",
       "      <td>0.07</td>\n",
       "      <td>0.00</td>\n",
       "      <td>0.00</td>\n",
       "      <td>0.00</td>\n",
       "      <td>0.00</td>\n",
       "      <td>1.0</td>\n",
       "      <td>1.00</td>\n",
       "      <td>neptune</td>\n",
       "      <td>21</td>\n",
       "    </tr>\n",
       "  </tbody>\n",
       "</table>\n",
       "<p>5 rows × 43 columns</p>\n",
       "</div>"
      ],
      "text/plain": [
       "   0  tcp ftp_data   SF  491   0.1  0.2  0.3  0.4  0.5 ...  0.17.1  0.03  \\\n",
       "0  0  udp    other   SF  146     0    0    0    0    0 ...    0.00  0.60   \n",
       "1  0  tcp  private   S0    0     0    0    0    0    0 ...    0.10  0.05   \n",
       "2  0  tcp     http   SF  232  8153    0    0    0    0 ...    1.00  0.00   \n",
       "3  0  tcp     http   SF  199   420    0    0    0    0 ...    1.00  0.00   \n",
       "4  0  tcp  private  REJ    0     0    0    0    0    0 ...    0.07  0.07   \n",
       "\n",
       "   0.17.2  0.24  0.25  0.26  0.05  0.27   normal  20  \n",
       "0    0.88  0.00  0.00  0.00   0.0  0.00   normal  15  \n",
       "1    0.00  0.00  1.00  1.00   0.0  0.00  neptune  19  \n",
       "2    0.03  0.04  0.03  0.01   0.0  0.01   normal  21  \n",
       "3    0.00  0.00  0.00  0.00   0.0  0.00   normal  21  \n",
       "4    0.00  0.00  0.00  0.00   1.0  1.00  neptune  21  \n",
       "\n",
       "[5 rows x 43 columns]"
      ]
     },
     "execution_count": 8,
     "metadata": {},
     "output_type": "execute_result"
    }
   ],
   "source": [
    "train.head()"
   ]
  },
  {
   "cell_type": "code",
   "execution_count": 774,
   "metadata": {},
   "outputs": [],
   "source": [
    "test.columns = [\"duration\",\"protocol_type\",\"service\",\"flag\",\"src_bytes\",\"dst_bytes\",\"land\",\n",
    "\"wrong_fragment\",\"urgent\",\"hot\",\"num_failed_logins\",\"logged_in\",\n",
    "\"num_compromised\",\"root_shell\",\"su_attempted\",\"num_root\",\"num_file_creations\",\n",
    "\"num_shells\",\"num_access_files\",\"num_outbound_cmds\",\"is_host_login\",\n",
    "\"is_guest_login\",\"count\",\"srv_count\",\"serror_rate\", \"srv_serror_rate\",\n",
    "\"rerror_rate\",\"srv_rerror_rate\",\"same_srv_rate\", \"diff_srv_rate\", \"srv_diff_host_rate\",\"dst_host_count\",\"dst_host_srv_count\",\"dst_host_same_srv_rate\",\n",
    "\"dst_host_diff_srv_rate\",\"dst_host_same_src_port_rate\",\"dst_host_srv_diff_host_rate\",\"dst_host_serror_rate\",\"dst_host_srv_serror_rate\",\n",
    "\"dst_host_rerror_rate\",\"dst_host_srv_rerror_rate\",\"attack\", \"last_flag\"]"
   ]
  },
  {
   "cell_type": "code",
   "execution_count": 775,
   "metadata": {
    "scrolled": true
   },
   "outputs": [
    {
     "name": "stdout",
     "output_type": "stream",
     "text": [
      "<class 'pandas.core.frame.DataFrame'>\n",
      "RangeIndex: 22543 entries, 0 to 22542\n",
      "Data columns (total 43 columns):\n",
      "duration                       22543 non-null int64\n",
      "protocol_type                  22543 non-null object\n",
      "service                        22543 non-null object\n",
      "flag                           22543 non-null object\n",
      "src_bytes                      22543 non-null int64\n",
      "dst_bytes                      22543 non-null int64\n",
      "land                           22543 non-null int64\n",
      "wrong_fragment                 22543 non-null int64\n",
      "urgent                         22543 non-null int64\n",
      "hot                            22543 non-null int64\n",
      "num_failed_logins              22543 non-null int64\n",
      "logged_in                      22543 non-null int64\n",
      "num_compromised                22543 non-null int64\n",
      "root_shell                     22543 non-null int64\n",
      "su_attempted                   22543 non-null int64\n",
      "num_root                       22543 non-null int64\n",
      "num_file_creations             22543 non-null int64\n",
      "num_shells                     22543 non-null int64\n",
      "num_access_files               22543 non-null int64\n",
      "num_outbound_cmds              22543 non-null int64\n",
      "is_host_login                  22543 non-null int64\n",
      "is_guest_login                 22543 non-null int64\n",
      "count                          22543 non-null int64\n",
      "srv_count                      22543 non-null int64\n",
      "serror_rate                    22543 non-null float64\n",
      "srv_serror_rate                22543 non-null float64\n",
      "rerror_rate                    22543 non-null float64\n",
      "srv_rerror_rate                22543 non-null float64\n",
      "same_srv_rate                  22543 non-null float64\n",
      "diff_srv_rate                  22543 non-null float64\n",
      "srv_diff_host_rate             22543 non-null float64\n",
      "dst_host_count                 22543 non-null int64\n",
      "dst_host_srv_count             22543 non-null int64\n",
      "dst_host_same_srv_rate         22543 non-null float64\n",
      "dst_host_diff_srv_rate         22543 non-null float64\n",
      "dst_host_same_src_port_rate    22543 non-null float64\n",
      "dst_host_srv_diff_host_rate    22543 non-null float64\n",
      "dst_host_serror_rate           22543 non-null float64\n",
      "dst_host_srv_serror_rate       22543 non-null float64\n",
      "dst_host_rerror_rate           22543 non-null float64\n",
      "dst_host_srv_rerror_rate       22543 non-null float64\n",
      "attack                         22543 non-null object\n",
      "last_flag                      22543 non-null int64\n",
      "dtypes: float64(15), int64(24), object(4)\n",
      "memory usage: 7.4+ MB\n"
     ]
    }
   ],
   "source": [
    "test.info()"
   ]
  },
  {
   "cell_type": "code",
   "execution_count": 776,
   "metadata": {},
   "outputs": [
    {
     "data": {
      "text/html": [
       "<div>\n",
       "<style scoped>\n",
       "    .dataframe tbody tr th:only-of-type {\n",
       "        vertical-align: middle;\n",
       "    }\n",
       "\n",
       "    .dataframe tbody tr th {\n",
       "        vertical-align: top;\n",
       "    }\n",
       "\n",
       "    .dataframe thead th {\n",
       "        text-align: right;\n",
       "    }\n",
       "</style>\n",
       "<table border=\"1\" class=\"dataframe\">\n",
       "  <thead>\n",
       "    <tr style=\"text-align: right;\">\n",
       "      <th></th>\n",
       "      <th>duration</th>\n",
       "      <th>src_bytes</th>\n",
       "      <th>dst_bytes</th>\n",
       "      <th>land</th>\n",
       "      <th>wrong_fragment</th>\n",
       "      <th>urgent</th>\n",
       "      <th>hot</th>\n",
       "      <th>num_failed_logins</th>\n",
       "      <th>logged_in</th>\n",
       "      <th>num_compromised</th>\n",
       "      <th>...</th>\n",
       "      <th>dst_host_srv_count</th>\n",
       "      <th>dst_host_same_srv_rate</th>\n",
       "      <th>dst_host_diff_srv_rate</th>\n",
       "      <th>dst_host_same_src_port_rate</th>\n",
       "      <th>dst_host_srv_diff_host_rate</th>\n",
       "      <th>dst_host_serror_rate</th>\n",
       "      <th>dst_host_srv_serror_rate</th>\n",
       "      <th>dst_host_rerror_rate</th>\n",
       "      <th>dst_host_srv_rerror_rate</th>\n",
       "      <th>last_flag</th>\n",
       "    </tr>\n",
       "  </thead>\n",
       "  <tbody>\n",
       "    <tr>\n",
       "      <th>count</th>\n",
       "      <td>125972.000000</td>\n",
       "      <td>1.259720e+05</td>\n",
       "      <td>1.259720e+05</td>\n",
       "      <td>125972.000000</td>\n",
       "      <td>125972.000000</td>\n",
       "      <td>125972.000000</td>\n",
       "      <td>125972.000000</td>\n",
       "      <td>125972.000000</td>\n",
       "      <td>125972.000000</td>\n",
       "      <td>125972.000000</td>\n",
       "      <td>...</td>\n",
       "      <td>125972.000000</td>\n",
       "      <td>125972.000000</td>\n",
       "      <td>125972.000000</td>\n",
       "      <td>125972.000000</td>\n",
       "      <td>125972.000000</td>\n",
       "      <td>125972.000000</td>\n",
       "      <td>125972.000000</td>\n",
       "      <td>125972.000000</td>\n",
       "      <td>125972.000000</td>\n",
       "      <td>125972.000000</td>\n",
       "    </tr>\n",
       "    <tr>\n",
       "      <th>mean</th>\n",
       "      <td>287.146929</td>\n",
       "      <td>4.556710e+04</td>\n",
       "      <td>1.977927e+04</td>\n",
       "      <td>0.000198</td>\n",
       "      <td>0.022688</td>\n",
       "      <td>0.000111</td>\n",
       "      <td>0.204411</td>\n",
       "      <td>0.001222</td>\n",
       "      <td>0.395739</td>\n",
       "      <td>0.279253</td>\n",
       "      <td>...</td>\n",
       "      <td>115.653725</td>\n",
       "      <td>0.521244</td>\n",
       "      <td>0.082952</td>\n",
       "      <td>0.148379</td>\n",
       "      <td>0.032543</td>\n",
       "      <td>0.284455</td>\n",
       "      <td>0.278487</td>\n",
       "      <td>0.118832</td>\n",
       "      <td>0.120241</td>\n",
       "      <td>19.504056</td>\n",
       "    </tr>\n",
       "    <tr>\n",
       "      <th>std</th>\n",
       "      <td>2604.525522</td>\n",
       "      <td>5.870354e+06</td>\n",
       "      <td>4.021285e+06</td>\n",
       "      <td>0.014086</td>\n",
       "      <td>0.253531</td>\n",
       "      <td>0.014366</td>\n",
       "      <td>2.149977</td>\n",
       "      <td>0.045239</td>\n",
       "      <td>0.489011</td>\n",
       "      <td>23.942137</td>\n",
       "      <td>...</td>\n",
       "      <td>110.702886</td>\n",
       "      <td>0.448950</td>\n",
       "      <td>0.188922</td>\n",
       "      <td>0.308998</td>\n",
       "      <td>0.112564</td>\n",
       "      <td>0.444785</td>\n",
       "      <td>0.445670</td>\n",
       "      <td>0.306559</td>\n",
       "      <td>0.319460</td>\n",
       "      <td>2.291512</td>\n",
       "    </tr>\n",
       "    <tr>\n",
       "      <th>min</th>\n",
       "      <td>0.000000</td>\n",
       "      <td>0.000000e+00</td>\n",
       "      <td>0.000000e+00</td>\n",
       "      <td>0.000000</td>\n",
       "      <td>0.000000</td>\n",
       "      <td>0.000000</td>\n",
       "      <td>0.000000</td>\n",
       "      <td>0.000000</td>\n",
       "      <td>0.000000</td>\n",
       "      <td>0.000000</td>\n",
       "      <td>...</td>\n",
       "      <td>0.000000</td>\n",
       "      <td>0.000000</td>\n",
       "      <td>0.000000</td>\n",
       "      <td>0.000000</td>\n",
       "      <td>0.000000</td>\n",
       "      <td>0.000000</td>\n",
       "      <td>0.000000</td>\n",
       "      <td>0.000000</td>\n",
       "      <td>0.000000</td>\n",
       "      <td>0.000000</td>\n",
       "    </tr>\n",
       "    <tr>\n",
       "      <th>25%</th>\n",
       "      <td>0.000000</td>\n",
       "      <td>0.000000e+00</td>\n",
       "      <td>0.000000e+00</td>\n",
       "      <td>0.000000</td>\n",
       "      <td>0.000000</td>\n",
       "      <td>0.000000</td>\n",
       "      <td>0.000000</td>\n",
       "      <td>0.000000</td>\n",
       "      <td>0.000000</td>\n",
       "      <td>0.000000</td>\n",
       "      <td>...</td>\n",
       "      <td>10.000000</td>\n",
       "      <td>0.050000</td>\n",
       "      <td>0.000000</td>\n",
       "      <td>0.000000</td>\n",
       "      <td>0.000000</td>\n",
       "      <td>0.000000</td>\n",
       "      <td>0.000000</td>\n",
       "      <td>0.000000</td>\n",
       "      <td>0.000000</td>\n",
       "      <td>18.000000</td>\n",
       "    </tr>\n",
       "    <tr>\n",
       "      <th>50%</th>\n",
       "      <td>0.000000</td>\n",
       "      <td>4.400000e+01</td>\n",
       "      <td>0.000000e+00</td>\n",
       "      <td>0.000000</td>\n",
       "      <td>0.000000</td>\n",
       "      <td>0.000000</td>\n",
       "      <td>0.000000</td>\n",
       "      <td>0.000000</td>\n",
       "      <td>0.000000</td>\n",
       "      <td>0.000000</td>\n",
       "      <td>...</td>\n",
       "      <td>63.000000</td>\n",
       "      <td>0.510000</td>\n",
       "      <td>0.020000</td>\n",
       "      <td>0.000000</td>\n",
       "      <td>0.000000</td>\n",
       "      <td>0.000000</td>\n",
       "      <td>0.000000</td>\n",
       "      <td>0.000000</td>\n",
       "      <td>0.000000</td>\n",
       "      <td>20.000000</td>\n",
       "    </tr>\n",
       "    <tr>\n",
       "      <th>75%</th>\n",
       "      <td>0.000000</td>\n",
       "      <td>2.760000e+02</td>\n",
       "      <td>5.160000e+02</td>\n",
       "      <td>0.000000</td>\n",
       "      <td>0.000000</td>\n",
       "      <td>0.000000</td>\n",
       "      <td>0.000000</td>\n",
       "      <td>0.000000</td>\n",
       "      <td>1.000000</td>\n",
       "      <td>0.000000</td>\n",
       "      <td>...</td>\n",
       "      <td>255.000000</td>\n",
       "      <td>1.000000</td>\n",
       "      <td>0.070000</td>\n",
       "      <td>0.060000</td>\n",
       "      <td>0.020000</td>\n",
       "      <td>1.000000</td>\n",
       "      <td>1.000000</td>\n",
       "      <td>0.000000</td>\n",
       "      <td>0.000000</td>\n",
       "      <td>21.000000</td>\n",
       "    </tr>\n",
       "    <tr>\n",
       "      <th>max</th>\n",
       "      <td>42908.000000</td>\n",
       "      <td>1.379964e+09</td>\n",
       "      <td>1.309937e+09</td>\n",
       "      <td>1.000000</td>\n",
       "      <td>3.000000</td>\n",
       "      <td>3.000000</td>\n",
       "      <td>77.000000</td>\n",
       "      <td>5.000000</td>\n",
       "      <td>1.000000</td>\n",
       "      <td>7479.000000</td>\n",
       "      <td>...</td>\n",
       "      <td>255.000000</td>\n",
       "      <td>1.000000</td>\n",
       "      <td>1.000000</td>\n",
       "      <td>1.000000</td>\n",
       "      <td>1.000000</td>\n",
       "      <td>1.000000</td>\n",
       "      <td>1.000000</td>\n",
       "      <td>1.000000</td>\n",
       "      <td>1.000000</td>\n",
       "      <td>21.000000</td>\n",
       "    </tr>\n",
       "  </tbody>\n",
       "</table>\n",
       "<p>8 rows × 39 columns</p>\n",
       "</div>"
      ],
      "text/plain": [
       "            duration     src_bytes     dst_bytes           land  \\\n",
       "count  125972.000000  1.259720e+05  1.259720e+05  125972.000000   \n",
       "mean      287.146929  4.556710e+04  1.977927e+04       0.000198   \n",
       "std      2604.525522  5.870354e+06  4.021285e+06       0.014086   \n",
       "min         0.000000  0.000000e+00  0.000000e+00       0.000000   \n",
       "25%         0.000000  0.000000e+00  0.000000e+00       0.000000   \n",
       "50%         0.000000  4.400000e+01  0.000000e+00       0.000000   \n",
       "75%         0.000000  2.760000e+02  5.160000e+02       0.000000   \n",
       "max     42908.000000  1.379964e+09  1.309937e+09       1.000000   \n",
       "\n",
       "       wrong_fragment         urgent            hot  num_failed_logins  \\\n",
       "count   125972.000000  125972.000000  125972.000000      125972.000000   \n",
       "mean         0.022688       0.000111       0.204411           0.001222   \n",
       "std          0.253531       0.014366       2.149977           0.045239   \n",
       "min          0.000000       0.000000       0.000000           0.000000   \n",
       "25%          0.000000       0.000000       0.000000           0.000000   \n",
       "50%          0.000000       0.000000       0.000000           0.000000   \n",
       "75%          0.000000       0.000000       0.000000           0.000000   \n",
       "max          3.000000       3.000000      77.000000           5.000000   \n",
       "\n",
       "           logged_in  num_compromised      ...        dst_host_srv_count  \\\n",
       "count  125972.000000    125972.000000      ...             125972.000000   \n",
       "mean        0.395739         0.279253      ...                115.653725   \n",
       "std         0.489011        23.942137      ...                110.702886   \n",
       "min         0.000000         0.000000      ...                  0.000000   \n",
       "25%         0.000000         0.000000      ...                 10.000000   \n",
       "50%         0.000000         0.000000      ...                 63.000000   \n",
       "75%         1.000000         0.000000      ...                255.000000   \n",
       "max         1.000000      7479.000000      ...                255.000000   \n",
       "\n",
       "       dst_host_same_srv_rate  dst_host_diff_srv_rate  \\\n",
       "count           125972.000000           125972.000000   \n",
       "mean                 0.521244                0.082952   \n",
       "std                  0.448950                0.188922   \n",
       "min                  0.000000                0.000000   \n",
       "25%                  0.050000                0.000000   \n",
       "50%                  0.510000                0.020000   \n",
       "75%                  1.000000                0.070000   \n",
       "max                  1.000000                1.000000   \n",
       "\n",
       "       dst_host_same_src_port_rate  dst_host_srv_diff_host_rate  \\\n",
       "count                125972.000000                125972.000000   \n",
       "mean                      0.148379                     0.032543   \n",
       "std                       0.308998                     0.112564   \n",
       "min                       0.000000                     0.000000   \n",
       "25%                       0.000000                     0.000000   \n",
       "50%                       0.000000                     0.000000   \n",
       "75%                       0.060000                     0.020000   \n",
       "max                       1.000000                     1.000000   \n",
       "\n",
       "       dst_host_serror_rate  dst_host_srv_serror_rate  dst_host_rerror_rate  \\\n",
       "count         125972.000000             125972.000000         125972.000000   \n",
       "mean               0.284455                  0.278487              0.118832   \n",
       "std                0.444785                  0.445670              0.306559   \n",
       "min                0.000000                  0.000000              0.000000   \n",
       "25%                0.000000                  0.000000              0.000000   \n",
       "50%                0.000000                  0.000000              0.000000   \n",
       "75%                1.000000                  1.000000              0.000000   \n",
       "max                1.000000                  1.000000              1.000000   \n",
       "\n",
       "       dst_host_srv_rerror_rate      last_flag  \n",
       "count             125972.000000  125972.000000  \n",
       "mean                   0.120241      19.504056  \n",
       "std                    0.319460       2.291512  \n",
       "min                    0.000000       0.000000  \n",
       "25%                    0.000000      18.000000  \n",
       "50%                    0.000000      20.000000  \n",
       "75%                    0.000000      21.000000  \n",
       "max                    1.000000      21.000000  \n",
       "\n",
       "[8 rows x 39 columns]"
      ]
     },
     "execution_count": 776,
     "metadata": {},
     "output_type": "execute_result"
    }
   ],
   "source": [
    "train.describe()"
   ]
  },
  {
   "cell_type": "code",
   "execution_count": 777,
   "metadata": {},
   "outputs": [
    {
     "data": {
      "text/html": [
       "<div>\n",
       "<style scoped>\n",
       "    .dataframe tbody tr th:only-of-type {\n",
       "        vertical-align: middle;\n",
       "    }\n",
       "\n",
       "    .dataframe tbody tr th {\n",
       "        vertical-align: top;\n",
       "    }\n",
       "\n",
       "    .dataframe thead th {\n",
       "        text-align: right;\n",
       "    }\n",
       "</style>\n",
       "<table border=\"1\" class=\"dataframe\">\n",
       "  <thead>\n",
       "    <tr style=\"text-align: right;\">\n",
       "      <th></th>\n",
       "      <th>duration</th>\n",
       "      <th>src_bytes</th>\n",
       "      <th>dst_bytes</th>\n",
       "      <th>land</th>\n",
       "      <th>wrong_fragment</th>\n",
       "      <th>urgent</th>\n",
       "      <th>hot</th>\n",
       "      <th>num_failed_logins</th>\n",
       "      <th>logged_in</th>\n",
       "      <th>num_compromised</th>\n",
       "      <th>...</th>\n",
       "      <th>dst_host_srv_count</th>\n",
       "      <th>dst_host_same_srv_rate</th>\n",
       "      <th>dst_host_diff_srv_rate</th>\n",
       "      <th>dst_host_same_src_port_rate</th>\n",
       "      <th>dst_host_srv_diff_host_rate</th>\n",
       "      <th>dst_host_serror_rate</th>\n",
       "      <th>dst_host_srv_serror_rate</th>\n",
       "      <th>dst_host_rerror_rate</th>\n",
       "      <th>dst_host_srv_rerror_rate</th>\n",
       "      <th>last_flag</th>\n",
       "    </tr>\n",
       "  </thead>\n",
       "  <tbody>\n",
       "    <tr>\n",
       "      <th>count</th>\n",
       "      <td>22543.000000</td>\n",
       "      <td>2.254300e+04</td>\n",
       "      <td>2.254300e+04</td>\n",
       "      <td>22543.000000</td>\n",
       "      <td>22543.000000</td>\n",
       "      <td>22543.000000</td>\n",
       "      <td>22543.000000</td>\n",
       "      <td>22543.000000</td>\n",
       "      <td>22543.000000</td>\n",
       "      <td>22543.000000</td>\n",
       "      <td>...</td>\n",
       "      <td>22543.000000</td>\n",
       "      <td>22543.000000</td>\n",
       "      <td>22543.000000</td>\n",
       "      <td>22543.000000</td>\n",
       "      <td>22543.000000</td>\n",
       "      <td>22543.000000</td>\n",
       "      <td>22543.000000</td>\n",
       "      <td>22543.000000</td>\n",
       "      <td>22543.000000</td>\n",
       "      <td>22543.000000</td>\n",
       "    </tr>\n",
       "    <tr>\n",
       "      <th>mean</th>\n",
       "      <td>218.868784</td>\n",
       "      <td>1.039591e+04</td>\n",
       "      <td>2.056110e+03</td>\n",
       "      <td>0.000311</td>\n",
       "      <td>0.008428</td>\n",
       "      <td>0.000710</td>\n",
       "      <td>0.105399</td>\n",
       "      <td>0.021648</td>\n",
       "      <td>0.442222</td>\n",
       "      <td>0.119904</td>\n",
       "      <td>...</td>\n",
       "      <td>140.756332</td>\n",
       "      <td>0.608747</td>\n",
       "      <td>0.090541</td>\n",
       "      <td>0.132267</td>\n",
       "      <td>0.019639</td>\n",
       "      <td>0.097818</td>\n",
       "      <td>0.099430</td>\n",
       "      <td>0.233351</td>\n",
       "      <td>0.226649</td>\n",
       "      <td>18.017833</td>\n",
       "    </tr>\n",
       "    <tr>\n",
       "      <th>std</th>\n",
       "      <td>1407.207069</td>\n",
       "      <td>4.727969e+05</td>\n",
       "      <td>2.121976e+04</td>\n",
       "      <td>0.017619</td>\n",
       "      <td>0.142602</td>\n",
       "      <td>0.036474</td>\n",
       "      <td>0.928448</td>\n",
       "      <td>0.150331</td>\n",
       "      <td>0.496661</td>\n",
       "      <td>7.269758</td>\n",
       "      <td>...</td>\n",
       "      <td>111.783059</td>\n",
       "      <td>0.435681</td>\n",
       "      <td>0.220722</td>\n",
       "      <td>0.306274</td>\n",
       "      <td>0.085396</td>\n",
       "      <td>0.273144</td>\n",
       "      <td>0.281872</td>\n",
       "      <td>0.387204</td>\n",
       "      <td>0.400851</td>\n",
       "      <td>4.270409</td>\n",
       "    </tr>\n",
       "    <tr>\n",
       "      <th>min</th>\n",
       "      <td>0.000000</td>\n",
       "      <td>0.000000e+00</td>\n",
       "      <td>0.000000e+00</td>\n",
       "      <td>0.000000</td>\n",
       "      <td>0.000000</td>\n",
       "      <td>0.000000</td>\n",
       "      <td>0.000000</td>\n",
       "      <td>0.000000</td>\n",
       "      <td>0.000000</td>\n",
       "      <td>0.000000</td>\n",
       "      <td>...</td>\n",
       "      <td>0.000000</td>\n",
       "      <td>0.000000</td>\n",
       "      <td>0.000000</td>\n",
       "      <td>0.000000</td>\n",
       "      <td>0.000000</td>\n",
       "      <td>0.000000</td>\n",
       "      <td>0.000000</td>\n",
       "      <td>0.000000</td>\n",
       "      <td>0.000000</td>\n",
       "      <td>0.000000</td>\n",
       "    </tr>\n",
       "    <tr>\n",
       "      <th>25%</th>\n",
       "      <td>0.000000</td>\n",
       "      <td>0.000000e+00</td>\n",
       "      <td>0.000000e+00</td>\n",
       "      <td>0.000000</td>\n",
       "      <td>0.000000</td>\n",
       "      <td>0.000000</td>\n",
       "      <td>0.000000</td>\n",
       "      <td>0.000000</td>\n",
       "      <td>0.000000</td>\n",
       "      <td>0.000000</td>\n",
       "      <td>...</td>\n",
       "      <td>15.000000</td>\n",
       "      <td>0.070000</td>\n",
       "      <td>0.000000</td>\n",
       "      <td>0.000000</td>\n",
       "      <td>0.000000</td>\n",
       "      <td>0.000000</td>\n",
       "      <td>0.000000</td>\n",
       "      <td>0.000000</td>\n",
       "      <td>0.000000</td>\n",
       "      <td>17.000000</td>\n",
       "    </tr>\n",
       "    <tr>\n",
       "      <th>50%</th>\n",
       "      <td>0.000000</td>\n",
       "      <td>5.400000e+01</td>\n",
       "      <td>4.600000e+01</td>\n",
       "      <td>0.000000</td>\n",
       "      <td>0.000000</td>\n",
       "      <td>0.000000</td>\n",
       "      <td>0.000000</td>\n",
       "      <td>0.000000</td>\n",
       "      <td>0.000000</td>\n",
       "      <td>0.000000</td>\n",
       "      <td>...</td>\n",
       "      <td>168.000000</td>\n",
       "      <td>0.920000</td>\n",
       "      <td>0.010000</td>\n",
       "      <td>0.000000</td>\n",
       "      <td>0.000000</td>\n",
       "      <td>0.000000</td>\n",
       "      <td>0.000000</td>\n",
       "      <td>0.000000</td>\n",
       "      <td>0.000000</td>\n",
       "      <td>20.000000</td>\n",
       "    </tr>\n",
       "    <tr>\n",
       "      <th>75%</th>\n",
       "      <td>0.000000</td>\n",
       "      <td>2.870000e+02</td>\n",
       "      <td>6.010000e+02</td>\n",
       "      <td>0.000000</td>\n",
       "      <td>0.000000</td>\n",
       "      <td>0.000000</td>\n",
       "      <td>0.000000</td>\n",
       "      <td>0.000000</td>\n",
       "      <td>1.000000</td>\n",
       "      <td>0.000000</td>\n",
       "      <td>...</td>\n",
       "      <td>255.000000</td>\n",
       "      <td>1.000000</td>\n",
       "      <td>0.060000</td>\n",
       "      <td>0.030000</td>\n",
       "      <td>0.010000</td>\n",
       "      <td>0.000000</td>\n",
       "      <td>0.000000</td>\n",
       "      <td>0.360000</td>\n",
       "      <td>0.170000</td>\n",
       "      <td>21.000000</td>\n",
       "    </tr>\n",
       "    <tr>\n",
       "      <th>max</th>\n",
       "      <td>57715.000000</td>\n",
       "      <td>6.282565e+07</td>\n",
       "      <td>1.345927e+06</td>\n",
       "      <td>1.000000</td>\n",
       "      <td>3.000000</td>\n",
       "      <td>3.000000</td>\n",
       "      <td>101.000000</td>\n",
       "      <td>4.000000</td>\n",
       "      <td>1.000000</td>\n",
       "      <td>796.000000</td>\n",
       "      <td>...</td>\n",
       "      <td>255.000000</td>\n",
       "      <td>1.000000</td>\n",
       "      <td>1.000000</td>\n",
       "      <td>1.000000</td>\n",
       "      <td>1.000000</td>\n",
       "      <td>1.000000</td>\n",
       "      <td>1.000000</td>\n",
       "      <td>1.000000</td>\n",
       "      <td>1.000000</td>\n",
       "      <td>21.000000</td>\n",
       "    </tr>\n",
       "  </tbody>\n",
       "</table>\n",
       "<p>8 rows × 39 columns</p>\n",
       "</div>"
      ],
      "text/plain": [
       "           duration     src_bytes     dst_bytes          land  wrong_fragment  \\\n",
       "count  22543.000000  2.254300e+04  2.254300e+04  22543.000000    22543.000000   \n",
       "mean     218.868784  1.039591e+04  2.056110e+03      0.000311        0.008428   \n",
       "std     1407.207069  4.727969e+05  2.121976e+04      0.017619        0.142602   \n",
       "min        0.000000  0.000000e+00  0.000000e+00      0.000000        0.000000   \n",
       "25%        0.000000  0.000000e+00  0.000000e+00      0.000000        0.000000   \n",
       "50%        0.000000  5.400000e+01  4.600000e+01      0.000000        0.000000   \n",
       "75%        0.000000  2.870000e+02  6.010000e+02      0.000000        0.000000   \n",
       "max    57715.000000  6.282565e+07  1.345927e+06      1.000000        3.000000   \n",
       "\n",
       "             urgent           hot  num_failed_logins     logged_in  \\\n",
       "count  22543.000000  22543.000000       22543.000000  22543.000000   \n",
       "mean       0.000710      0.105399           0.021648      0.442222   \n",
       "std        0.036474      0.928448           0.150331      0.496661   \n",
       "min        0.000000      0.000000           0.000000      0.000000   \n",
       "25%        0.000000      0.000000           0.000000      0.000000   \n",
       "50%        0.000000      0.000000           0.000000      0.000000   \n",
       "75%        0.000000      0.000000           0.000000      1.000000   \n",
       "max        3.000000    101.000000           4.000000      1.000000   \n",
       "\n",
       "       num_compromised      ...       dst_host_srv_count  \\\n",
       "count     22543.000000      ...             22543.000000   \n",
       "mean          0.119904      ...               140.756332   \n",
       "std           7.269758      ...               111.783059   \n",
       "min           0.000000      ...                 0.000000   \n",
       "25%           0.000000      ...                15.000000   \n",
       "50%           0.000000      ...               168.000000   \n",
       "75%           0.000000      ...               255.000000   \n",
       "max         796.000000      ...               255.000000   \n",
       "\n",
       "       dst_host_same_srv_rate  dst_host_diff_srv_rate  \\\n",
       "count            22543.000000            22543.000000   \n",
       "mean                 0.608747                0.090541   \n",
       "std                  0.435681                0.220722   \n",
       "min                  0.000000                0.000000   \n",
       "25%                  0.070000                0.000000   \n",
       "50%                  0.920000                0.010000   \n",
       "75%                  1.000000                0.060000   \n",
       "max                  1.000000                1.000000   \n",
       "\n",
       "       dst_host_same_src_port_rate  dst_host_srv_diff_host_rate  \\\n",
       "count                 22543.000000                 22543.000000   \n",
       "mean                      0.132267                     0.019639   \n",
       "std                       0.306274                     0.085396   \n",
       "min                       0.000000                     0.000000   \n",
       "25%                       0.000000                     0.000000   \n",
       "50%                       0.000000                     0.000000   \n",
       "75%                       0.030000                     0.010000   \n",
       "max                       1.000000                     1.000000   \n",
       "\n",
       "       dst_host_serror_rate  dst_host_srv_serror_rate  dst_host_rerror_rate  \\\n",
       "count          22543.000000              22543.000000          22543.000000   \n",
       "mean               0.097818                  0.099430              0.233351   \n",
       "std                0.273144                  0.281872              0.387204   \n",
       "min                0.000000                  0.000000              0.000000   \n",
       "25%                0.000000                  0.000000              0.000000   \n",
       "50%                0.000000                  0.000000              0.000000   \n",
       "75%                0.000000                  0.000000              0.360000   \n",
       "max                1.000000                  1.000000              1.000000   \n",
       "\n",
       "       dst_host_srv_rerror_rate     last_flag  \n",
       "count              22543.000000  22543.000000  \n",
       "mean                   0.226649     18.017833  \n",
       "std                    0.400851      4.270409  \n",
       "min                    0.000000      0.000000  \n",
       "25%                    0.000000     17.000000  \n",
       "50%                    0.000000     20.000000  \n",
       "75%                    0.170000     21.000000  \n",
       "max                    1.000000     21.000000  \n",
       "\n",
       "[8 rows x 39 columns]"
      ]
     },
     "execution_count": 777,
     "metadata": {},
     "output_type": "execute_result"
    }
   ],
   "source": [
    "test.describe()"
   ]
  },
  {
   "cell_type": "code",
   "execution_count": 778,
   "metadata": {},
   "outputs": [
    {
     "data": {
      "text/html": [
       "<div>\n",
       "<style scoped>\n",
       "    .dataframe tbody tr th:only-of-type {\n",
       "        vertical-align: middle;\n",
       "    }\n",
       "\n",
       "    .dataframe tbody tr th {\n",
       "        vertical-align: top;\n",
       "    }\n",
       "\n",
       "    .dataframe thead th {\n",
       "        text-align: right;\n",
       "    }\n",
       "</style>\n",
       "<table border=\"1\" class=\"dataframe\">\n",
       "  <thead>\n",
       "    <tr style=\"text-align: right;\">\n",
       "      <th></th>\n",
       "      <th>duration</th>\n",
       "      <th>src_bytes</th>\n",
       "      <th>dst_bytes</th>\n",
       "      <th>land</th>\n",
       "      <th>wrong_fragment</th>\n",
       "      <th>urgent</th>\n",
       "      <th>hot</th>\n",
       "      <th>num_failed_logins</th>\n",
       "      <th>logged_in</th>\n",
       "      <th>num_compromised</th>\n",
       "      <th>...</th>\n",
       "      <th>dst_host_srv_count</th>\n",
       "      <th>dst_host_same_srv_rate</th>\n",
       "      <th>dst_host_diff_srv_rate</th>\n",
       "      <th>dst_host_same_src_port_rate</th>\n",
       "      <th>dst_host_srv_diff_host_rate</th>\n",
       "      <th>dst_host_serror_rate</th>\n",
       "      <th>dst_host_srv_serror_rate</th>\n",
       "      <th>dst_host_rerror_rate</th>\n",
       "      <th>dst_host_srv_rerror_rate</th>\n",
       "      <th>last_flag</th>\n",
       "    </tr>\n",
       "  </thead>\n",
       "  <tbody>\n",
       "    <tr>\n",
       "      <th>count</th>\n",
       "      <td>148515.000000</td>\n",
       "      <td>1.485150e+05</td>\n",
       "      <td>1.485150e+05</td>\n",
       "      <td>148515.000000</td>\n",
       "      <td>148515.000000</td>\n",
       "      <td>148515.000000</td>\n",
       "      <td>148515.000000</td>\n",
       "      <td>148515.000000</td>\n",
       "      <td>148515.000000</td>\n",
       "      <td>148515.000000</td>\n",
       "      <td>...</td>\n",
       "      <td>148515.000000</td>\n",
       "      <td>148515.000000</td>\n",
       "      <td>148515.000000</td>\n",
       "      <td>148515.000000</td>\n",
       "      <td>148515.000000</td>\n",
       "      <td>148515.000000</td>\n",
       "      <td>148515.000000</td>\n",
       "      <td>148515.000000</td>\n",
       "      <td>148515.000000</td>\n",
       "      <td>148515.000000</td>\n",
       "    </tr>\n",
       "    <tr>\n",
       "      <th>mean</th>\n",
       "      <td>276.783032</td>\n",
       "      <td>4.022849e+04</td>\n",
       "      <td>1.708908e+04</td>\n",
       "      <td>0.000215</td>\n",
       "      <td>0.020523</td>\n",
       "      <td>0.000202</td>\n",
       "      <td>0.189382</td>\n",
       "      <td>0.004323</td>\n",
       "      <td>0.402794</td>\n",
       "      <td>0.255065</td>\n",
       "      <td>...</td>\n",
       "      <td>119.464034</td>\n",
       "      <td>0.534526</td>\n",
       "      <td>0.084104</td>\n",
       "      <td>0.145933</td>\n",
       "      <td>0.030584</td>\n",
       "      <td>0.256125</td>\n",
       "      <td>0.251308</td>\n",
       "      <td>0.136215</td>\n",
       "      <td>0.136392</td>\n",
       "      <td>19.278463</td>\n",
       "    </tr>\n",
       "    <tr>\n",
       "      <th>std</th>\n",
       "      <td>2460.699490</td>\n",
       "      <td>5.409648e+06</td>\n",
       "      <td>3.703550e+06</td>\n",
       "      <td>0.014677</td>\n",
       "      <td>0.240071</td>\n",
       "      <td>0.019417</td>\n",
       "      <td>2.013173</td>\n",
       "      <td>0.072249</td>\n",
       "      <td>0.490462</td>\n",
       "      <td>22.231525</td>\n",
       "      <td>...</td>\n",
       "      <td>111.232434</td>\n",
       "      <td>0.448061</td>\n",
       "      <td>0.194103</td>\n",
       "      <td>0.308639</td>\n",
       "      <td>0.108976</td>\n",
       "      <td>0.428501</td>\n",
       "      <td>0.429721</td>\n",
       "      <td>0.322735</td>\n",
       "      <td>0.335277</td>\n",
       "      <td>2.739772</td>\n",
       "    </tr>\n",
       "    <tr>\n",
       "      <th>min</th>\n",
       "      <td>0.000000</td>\n",
       "      <td>0.000000e+00</td>\n",
       "      <td>0.000000e+00</td>\n",
       "      <td>0.000000</td>\n",
       "      <td>0.000000</td>\n",
       "      <td>0.000000</td>\n",
       "      <td>0.000000</td>\n",
       "      <td>0.000000</td>\n",
       "      <td>0.000000</td>\n",
       "      <td>0.000000</td>\n",
       "      <td>...</td>\n",
       "      <td>0.000000</td>\n",
       "      <td>0.000000</td>\n",
       "      <td>0.000000</td>\n",
       "      <td>0.000000</td>\n",
       "      <td>0.000000</td>\n",
       "      <td>0.000000</td>\n",
       "      <td>0.000000</td>\n",
       "      <td>0.000000</td>\n",
       "      <td>0.000000</td>\n",
       "      <td>0.000000</td>\n",
       "    </tr>\n",
       "    <tr>\n",
       "      <th>25%</th>\n",
       "      <td>0.000000</td>\n",
       "      <td>0.000000e+00</td>\n",
       "      <td>0.000000e+00</td>\n",
       "      <td>0.000000</td>\n",
       "      <td>0.000000</td>\n",
       "      <td>0.000000</td>\n",
       "      <td>0.000000</td>\n",
       "      <td>0.000000</td>\n",
       "      <td>0.000000</td>\n",
       "      <td>0.000000</td>\n",
       "      <td>...</td>\n",
       "      <td>11.000000</td>\n",
       "      <td>0.050000</td>\n",
       "      <td>0.000000</td>\n",
       "      <td>0.000000</td>\n",
       "      <td>0.000000</td>\n",
       "      <td>0.000000</td>\n",
       "      <td>0.000000</td>\n",
       "      <td>0.000000</td>\n",
       "      <td>0.000000</td>\n",
       "      <td>18.000000</td>\n",
       "    </tr>\n",
       "    <tr>\n",
       "      <th>50%</th>\n",
       "      <td>0.000000</td>\n",
       "      <td>4.400000e+01</td>\n",
       "      <td>0.000000e+00</td>\n",
       "      <td>0.000000</td>\n",
       "      <td>0.000000</td>\n",
       "      <td>0.000000</td>\n",
       "      <td>0.000000</td>\n",
       "      <td>0.000000</td>\n",
       "      <td>0.000000</td>\n",
       "      <td>0.000000</td>\n",
       "      <td>...</td>\n",
       "      <td>72.000000</td>\n",
       "      <td>0.600000</td>\n",
       "      <td>0.020000</td>\n",
       "      <td>0.000000</td>\n",
       "      <td>0.000000</td>\n",
       "      <td>0.000000</td>\n",
       "      <td>0.000000</td>\n",
       "      <td>0.000000</td>\n",
       "      <td>0.000000</td>\n",
       "      <td>20.000000</td>\n",
       "    </tr>\n",
       "    <tr>\n",
       "      <th>75%</th>\n",
       "      <td>0.000000</td>\n",
       "      <td>2.780000e+02</td>\n",
       "      <td>5.710000e+02</td>\n",
       "      <td>0.000000</td>\n",
       "      <td>0.000000</td>\n",
       "      <td>0.000000</td>\n",
       "      <td>0.000000</td>\n",
       "      <td>0.000000</td>\n",
       "      <td>1.000000</td>\n",
       "      <td>0.000000</td>\n",
       "      <td>...</td>\n",
       "      <td>255.000000</td>\n",
       "      <td>1.000000</td>\n",
       "      <td>0.070000</td>\n",
       "      <td>0.050000</td>\n",
       "      <td>0.010000</td>\n",
       "      <td>0.600000</td>\n",
       "      <td>0.500000</td>\n",
       "      <td>0.000000</td>\n",
       "      <td>0.000000</td>\n",
       "      <td>21.000000</td>\n",
       "    </tr>\n",
       "    <tr>\n",
       "      <th>max</th>\n",
       "      <td>57715.000000</td>\n",
       "      <td>1.379964e+09</td>\n",
       "      <td>1.309937e+09</td>\n",
       "      <td>1.000000</td>\n",
       "      <td>3.000000</td>\n",
       "      <td>3.000000</td>\n",
       "      <td>101.000000</td>\n",
       "      <td>5.000000</td>\n",
       "      <td>1.000000</td>\n",
       "      <td>7479.000000</td>\n",
       "      <td>...</td>\n",
       "      <td>255.000000</td>\n",
       "      <td>1.000000</td>\n",
       "      <td>1.000000</td>\n",
       "      <td>1.000000</td>\n",
       "      <td>1.000000</td>\n",
       "      <td>1.000000</td>\n",
       "      <td>1.000000</td>\n",
       "      <td>1.000000</td>\n",
       "      <td>1.000000</td>\n",
       "      <td>21.000000</td>\n",
       "    </tr>\n",
       "  </tbody>\n",
       "</table>\n",
       "<p>8 rows × 39 columns</p>\n",
       "</div>"
      ],
      "text/plain": [
       "            duration     src_bytes     dst_bytes           land  \\\n",
       "count  148515.000000  1.485150e+05  1.485150e+05  148515.000000   \n",
       "mean      276.783032  4.022849e+04  1.708908e+04       0.000215   \n",
       "std      2460.699490  5.409648e+06  3.703550e+06       0.014677   \n",
       "min         0.000000  0.000000e+00  0.000000e+00       0.000000   \n",
       "25%         0.000000  0.000000e+00  0.000000e+00       0.000000   \n",
       "50%         0.000000  4.400000e+01  0.000000e+00       0.000000   \n",
       "75%         0.000000  2.780000e+02  5.710000e+02       0.000000   \n",
       "max     57715.000000  1.379964e+09  1.309937e+09       1.000000   \n",
       "\n",
       "       wrong_fragment         urgent            hot  num_failed_logins  \\\n",
       "count   148515.000000  148515.000000  148515.000000      148515.000000   \n",
       "mean         0.020523       0.000202       0.189382           0.004323   \n",
       "std          0.240071       0.019417       2.013173           0.072249   \n",
       "min          0.000000       0.000000       0.000000           0.000000   \n",
       "25%          0.000000       0.000000       0.000000           0.000000   \n",
       "50%          0.000000       0.000000       0.000000           0.000000   \n",
       "75%          0.000000       0.000000       0.000000           0.000000   \n",
       "max          3.000000       3.000000     101.000000           5.000000   \n",
       "\n",
       "           logged_in  num_compromised      ...        dst_host_srv_count  \\\n",
       "count  148515.000000    148515.000000      ...             148515.000000   \n",
       "mean        0.402794         0.255065      ...                119.464034   \n",
       "std         0.490462        22.231525      ...                111.232434   \n",
       "min         0.000000         0.000000      ...                  0.000000   \n",
       "25%         0.000000         0.000000      ...                 11.000000   \n",
       "50%         0.000000         0.000000      ...                 72.000000   \n",
       "75%         1.000000         0.000000      ...                255.000000   \n",
       "max         1.000000      7479.000000      ...                255.000000   \n",
       "\n",
       "       dst_host_same_srv_rate  dst_host_diff_srv_rate  \\\n",
       "count           148515.000000           148515.000000   \n",
       "mean                 0.534526                0.084104   \n",
       "std                  0.448061                0.194103   \n",
       "min                  0.000000                0.000000   \n",
       "25%                  0.050000                0.000000   \n",
       "50%                  0.600000                0.020000   \n",
       "75%                  1.000000                0.070000   \n",
       "max                  1.000000                1.000000   \n",
       "\n",
       "       dst_host_same_src_port_rate  dst_host_srv_diff_host_rate  \\\n",
       "count                148515.000000                148515.000000   \n",
       "mean                      0.145933                     0.030584   \n",
       "std                       0.308639                     0.108976   \n",
       "min                       0.000000                     0.000000   \n",
       "25%                       0.000000                     0.000000   \n",
       "50%                       0.000000                     0.000000   \n",
       "75%                       0.050000                     0.010000   \n",
       "max                       1.000000                     1.000000   \n",
       "\n",
       "       dst_host_serror_rate  dst_host_srv_serror_rate  dst_host_rerror_rate  \\\n",
       "count         148515.000000             148515.000000         148515.000000   \n",
       "mean               0.256125                  0.251308              0.136215   \n",
       "std                0.428501                  0.429721              0.322735   \n",
       "min                0.000000                  0.000000              0.000000   \n",
       "25%                0.000000                  0.000000              0.000000   \n",
       "50%                0.000000                  0.000000              0.000000   \n",
       "75%                0.600000                  0.500000              0.000000   \n",
       "max                1.000000                  1.000000              1.000000   \n",
       "\n",
       "       dst_host_srv_rerror_rate      last_flag  \n",
       "count             148515.000000  148515.000000  \n",
       "mean                   0.136392      19.278463  \n",
       "std                    0.335277       2.739772  \n",
       "min                    0.000000       0.000000  \n",
       "25%                    0.000000      18.000000  \n",
       "50%                    0.000000      20.000000  \n",
       "75%                    0.000000      21.000000  \n",
       "max                    1.000000      21.000000  \n",
       "\n",
       "[8 rows x 39 columns]"
      ]
     },
     "execution_count": 778,
     "metadata": {},
     "output_type": "execute_result"
    }
   ],
   "source": [
    "telco= pd.concat([train,test],sort=False)\n",
    "telco.describe()"
   ]
  },
  {
   "cell_type": "code",
   "execution_count": 779,
   "metadata": {},
   "outputs": [
    {
     "data": {
      "text/plain": [
       "<matplotlib.axes._subplots.AxesSubplot at 0x1f8869e7f98>"
      ]
     },
     "execution_count": 779,
     "metadata": {},
     "output_type": "execute_result"
    },
    {
     "data": {
      "image/png": "[encoded data removed]",
      "text/plain": [
       "<Figure size 432x288 with 2 Axes>"
      ]
     },
     "metadata": {},
     "output_type": "display_data"
    }
   ],
   "source": [
    "sns.heatmap(telco.isnull(), cmap='viridis') #checking for missing values"
   ]
  },
  {
   "cell_type": "markdown",
   "metadata": {},
   "source": [
    "#### Data Cleaning"
   ]
  },
  {
   "cell_type": "code",
   "execution_count": 780,
   "metadata": {},
   "outputs": [
    {
     "data": {
      "text/plain": [
       "tcp     121567\n",
       "udp      17614\n",
       "icmp      9334\n",
       "Name: protocol_type, dtype: int64"
      ]
     },
     "execution_count": 780,
     "metadata": {},
     "output_type": "execute_result"
    }
   ],
   "source": [
    "telco['protocol_type'].value_counts()"
   ]
  },
  {
   "cell_type": "code",
   "execution_count": 781,
   "metadata": {
    "scrolled": true
   },
   "outputs": [
    {
     "data": {
      "text/plain": [
       "http           48191\n",
       "private        26626\n",
       "domain_u        9937\n",
       "smtp            8247\n",
       "ftp_data        7710\n",
       "other           5197\n",
       "eco_i           4848\n",
       "telnet          3979\n",
       "ecr_i           3829\n",
       "ftp             2446\n",
       "finger          1903\n",
       "pop_3           1283\n",
       "auth            1022\n",
       "imap4            953\n",
       "Z39_50           907\n",
       "uucp             830\n",
       "courier          774\n",
       "bgp              756\n",
       "uucp_path        735\n",
       "iso_tsap         735\n",
       "whois            733\n",
       "time             690\n",
       "nnsp             672\n",
       "vmnet            660\n",
       "urp_i            625\n",
       "domain           620\n",
       "ctf              604\n",
       "csnet_ns         579\n",
       "supdup           571\n",
       "http_443         566\n",
       "               ...  \n",
       "echo             471\n",
       "mtp              471\n",
       "login            458\n",
       "klogin           454\n",
       "netbios_dgm      430\n",
       "ldap             429\n",
       "netstat          386\n",
       "netbios_ns       383\n",
       "netbios_ssn      377\n",
       "ssh              337\n",
       "kshell           323\n",
       "nntp             317\n",
       "sql_net          263\n",
       "IRC              200\n",
       "ntp_u            178\n",
       "rje               94\n",
       "remote_job        92\n",
       "pop_2             91\n",
       "X11               88\n",
       "shell             81\n",
       "printer           80\n",
       "pm_dump           21\n",
       "tim_i             14\n",
       "urh_i             10\n",
       "red_i              8\n",
       "tftp_u             4\n",
       "aol                2\n",
       "http_8001          2\n",
       "harvest            2\n",
       "http_2784          1\n",
       "Name: service, Length: 70, dtype: int64"
      ]
     },
     "execution_count": 781,
     "metadata": {},
     "output_type": "execute_result"
    }
   ],
   "source": [
    "telco['service'].value_counts()"
   ]
  },
  {
   "cell_type": "code",
   "execution_count": 782,
   "metadata": {},
   "outputs": [],
   "source": [
    "prot_type = pd.get_dummies(telco['protocol_type'],drop_first=False)"
   ]
  },
  {
   "cell_type": "code",
   "execution_count": 783,
   "metadata": {},
   "outputs": [],
   "source": [
    "prot_type.drop(['icmp'],axis=1,inplace=True)"
   ]
  },
  {
   "cell_type": "code",
   "execution_count": 784,
   "metadata": {},
   "outputs": [],
   "source": [
    "temp = (telco['service'].unique()).tolist()\n",
    "temp.remove(\"private\")\n",
    "temp.remove(\"http\")\n",
    "telco['service']= telco['service'].replace([(temp)],'Rare_service')"
   ]
  },
  {
   "cell_type": "code",
   "execution_count": 785,
   "metadata": {},
   "outputs": [
    {
     "data": {
      "text/plain": [
       "Rare_service    73698\n",
       "http            48191\n",
       "private         26626\n",
       "Name: service, dtype: int64"
      ]
     },
     "execution_count": 785,
     "metadata": {},
     "output_type": "execute_result"
    }
   ],
   "source": [
    "telco['service'].value_counts()"
   ]
  },
  {
   "cell_type": "code",
   "execution_count": 786,
   "metadata": {
    "scrolled": true
   },
   "outputs": [
    {
     "data": {
      "text/plain": [
       "0        Rare_service\n",
       "1             private\n",
       "2                http\n",
       "3                http\n",
       "4             private\n",
       "5             private\n",
       "6             private\n",
       "7        Rare_service\n",
       "8             private\n",
       "9             private\n",
       "10            private\n",
       "11               http\n",
       "12       Rare_service\n",
       "13       Rare_service\n",
       "14       Rare_service\n",
       "15               http\n",
       "16       Rare_service\n",
       "17               http\n",
       "18               http\n",
       "19       Rare_service\n",
       "20            private\n",
       "21               http\n",
       "22       Rare_service\n",
       "23       Rare_service\n",
       "24       Rare_service\n",
       "25            private\n",
       "26               http\n",
       "27               http\n",
       "28               http\n",
       "29       Rare_service\n",
       "             ...     \n",
       "22513    Rare_service\n",
       "22514            http\n",
       "22515            http\n",
       "22516    Rare_service\n",
       "22517            http\n",
       "22518    Rare_service\n",
       "22519         private\n",
       "22520         private\n",
       "22521            http\n",
       "22522            http\n",
       "22523    Rare_service\n",
       "22524            http\n",
       "22525            http\n",
       "22526            http\n",
       "22527    Rare_service\n",
       "22528    Rare_service\n",
       "22529         private\n",
       "22530         private\n",
       "22531            http\n",
       "22532            http\n",
       "22533         private\n",
       "22534            http\n",
       "22535    Rare_service\n",
       "22536    Rare_service\n",
       "22537    Rare_service\n",
       "22538    Rare_service\n",
       "22539            http\n",
       "22540            http\n",
       "22541    Rare_service\n",
       "22542    Rare_service\n",
       "Name: service, Length: 148515, dtype: object"
      ]
     },
     "execution_count": 786,
     "metadata": {},
     "output_type": "execute_result"
    }
   ],
   "source": [
    "telco.service"
   ]
  },
  {
   "cell_type": "code",
   "execution_count": 787,
   "metadata": {},
   "outputs": [],
   "source": [
    "servce = pd.get_dummies(telco['service'],drop_first=False)"
   ]
  },
  {
   "cell_type": "code",
   "execution_count": 788,
   "metadata": {},
   "outputs": [],
   "source": [
    "servce.drop(['Rare_service'],axis=1,inplace=True)"
   ]
  },
  {
   "cell_type": "code",
   "execution_count": 789,
   "metadata": {},
   "outputs": [],
   "source": [
    "telco = pd.concat([telco,servce],axis=1)"
   ]
  },
  {
   "cell_type": "code",
   "execution_count": 790,
   "metadata": {},
   "outputs": [],
   "source": [
    "telco = pd.concat([telco,prot_type],axis=1)"
   ]
  },
  {
   "cell_type": "code",
   "execution_count": 791,
   "metadata": {
    "scrolled": true
   },
   "outputs": [
    {
     "name": "stdout",
     "output_type": "stream",
     "text": [
      "<class 'pandas.core.frame.DataFrame'>\n",
      "Int64Index: 148515 entries, 0 to 22542\n",
      "Data columns (total 47 columns):\n",
      "duration                       148515 non-null int64\n",
      "protocol_type                  148515 non-null object\n",
      "service                        148515 non-null object\n",
      "flag                           148515 non-null object\n",
      "src_bytes                      148515 non-null int64\n",
      "dst_bytes                      148515 non-null int64\n",
      "land                           148515 non-null int64\n",
      "wrong_fragment                 148515 non-null int64\n",
      "urgent                         148515 non-null int64\n",
      "hot                            148515 non-null int64\n",
      "num_failed_logins              148515 non-null int64\n",
      "logged_in                      148515 non-null int64\n",
      "num_compromised                148515 non-null int64\n",
      "root_shell                     148515 non-null int64\n",
      "su_attempted                   148515 non-null int64\n",
      "num_root                       148515 non-null int64\n",
      "num_file_creations             148515 non-null int64\n",
      "num_shells                     148515 non-null int64\n",
      "num_access_files               148515 non-null int64\n",
      "num_outbound_cmds              148515 non-null int64\n",
      "is_host_login                  148515 non-null int64\n",
      "is_guest_login                 148515 non-null int64\n",
      "count                          148515 non-null int64\n",
      "srv_count                      148515 non-null int64\n",
      "serror_rate                    148515 non-null float64\n",
      "srv_serror_rate                148515 non-null float64\n",
      "rerror_rate                    148515 non-null float64\n",
      "srv_rerror_rate                148515 non-null float64\n",
      "same_srv_rate                  148515 non-null float64\n",
      "diff_srv_rate                  148515 non-null float64\n",
      "srv_diff_host_rate             148515 non-null float64\n",
      "dst_host_count                 148515 non-null int64\n",
      "dst_host_srv_count             148515 non-null int64\n",
      "dst_host_same_srv_rate         148515 non-null float64\n",
      "dst_host_diff_srv_rate         148515 non-null float64\n",
      "dst_host_same_src_port_rate    148515 non-null float64\n",
      "dst_host_srv_diff_host_rate    148515 non-null float64\n",
      "dst_host_serror_rate           148515 non-null float64\n",
      "dst_host_srv_serror_rate       148515 non-null float64\n",
      "dst_host_rerror_rate           148515 non-null float64\n",
      "dst_host_srv_rerror_rate       148515 non-null float64\n",
      "attack                         148515 non-null object\n",
      "last_flag                      148515 non-null int64\n",
      "http                           148515 non-null uint8\n",
      "private                        148515 non-null uint8\n",
      "tcp                            148515 non-null uint8\n",
      "udp                            148515 non-null uint8\n",
      "dtypes: float64(15), int64(24), object(4), uint8(4)\n",
      "memory usage: 50.4+ MB\n"
     ]
    }
   ],
   "source": [
    "telco.info()"
   ]
  },
  {
   "cell_type": "code",
   "execution_count": 792,
   "metadata": {},
   "outputs": [],
   "source": [
    "telco.drop(['service','protocol_type'],axis=1,inplace=True)"
   ]
  },
  {
   "cell_type": "code",
   "execution_count": 793,
   "metadata": {
    "scrolled": true
   },
   "outputs": [
    {
     "name": "stdout",
     "output_type": "stream",
     "text": [
      "<class 'pandas.core.frame.DataFrame'>\n",
      "Int64Index: 148515 entries, 0 to 22542\n",
      "Data columns (total 45 columns):\n",
      "duration                       148515 non-null int64\n",
      "flag                           148515 non-null object\n",
      "src_bytes                      148515 non-null int64\n",
      "dst_bytes                      148515 non-null int64\n",
      "land                           148515 non-null int64\n",
      "wrong_fragment                 148515 non-null int64\n",
      "urgent                         148515 non-null int64\n",
      "hot                            148515 non-null int64\n",
      "num_failed_logins              148515 non-null int64\n",
      "logged_in                      148515 non-null int64\n",
      "num_compromised                148515 non-null int64\n",
      "root_shell                     148515 non-null int64\n",
      "su_attempted                   148515 non-null int64\n",
      "num_root                       148515 non-null int64\n",
      "num_file_creations             148515 non-null int64\n",
      "num_shells                     148515 non-null int64\n",
      "num_access_files               148515 non-null int64\n",
      "num_outbound_cmds              148515 non-null int64\n",
      "is_host_login                  148515 non-null int64\n",
      "is_guest_login                 148515 non-null int64\n",
      "count                          148515 non-null int64\n",
      "srv_count                      148515 non-null int64\n",
      "serror_rate                    148515 non-null float64\n",
      "srv_serror_rate                148515 non-null float64\n",
      "rerror_rate                    148515 non-null float64\n",
      "srv_rerror_rate                148515 non-null float64\n",
      "same_srv_rate                  148515 non-null float64\n",
      "diff_srv_rate                  148515 non-null float64\n",
      "srv_diff_host_rate             148515 non-null float64\n",
      "dst_host_count                 148515 non-null int64\n",
      "dst_host_srv_count             148515 non-null int64\n",
      "dst_host_same_srv_rate         148515 non-null float64\n",
      "dst_host_diff_srv_rate         148515 non-null float64\n",
      "dst_host_same_src_port_rate    148515 non-null float64\n",
      "dst_host_srv_diff_host_rate    148515 non-null float64\n",
      "dst_host_serror_rate           148515 non-null float64\n",
      "dst_host_srv_serror_rate       148515 non-null float64\n",
      "dst_host_rerror_rate           148515 non-null float64\n",
      "dst_host_srv_rerror_rate       148515 non-null float64\n",
      "attack                         148515 non-null object\n",
      "last_flag                      148515 non-null int64\n",
      "http                           148515 non-null uint8\n",
      "private                        148515 non-null uint8\n",
      "tcp                            148515 non-null uint8\n",
      "udp                            148515 non-null uint8\n",
      "dtypes: float64(15), int64(24), object(2), uint8(4)\n",
      "memory usage: 48.2+ MB\n"
     ]
    }
   ],
   "source": [
    "telco.info()"
   ]
  },
  {
   "cell_type": "code",
   "execution_count": 794,
   "metadata": {},
   "outputs": [
    {
     "data": {
      "text/plain": [
       "SF        89819\n",
       "S0        36864\n",
       "REJ       15082\n",
       "RSTR       3090\n",
       "RSTO       2335\n",
       "S1          386\n",
       "SH          344\n",
       "S3          298\n",
       "S2          142\n",
       "RSTOS0      105\n",
       "OTH          50\n",
       "Name: flag, dtype: int64"
      ]
     },
     "execution_count": 794,
     "metadata": {},
     "output_type": "execute_result"
    }
   ],
   "source": [
    "telco['flag'].value_counts()"
   ]
  },
  {
   "cell_type": "code",
   "execution_count": 795,
   "metadata": {},
   "outputs": [],
   "source": [
    "temp = (telco['flag'].unique()).tolist()\n",
    "temp.remove(\"SF\")\n",
    "temp.remove(\"S0\")\n",
    "temp.remove(\"REJ\")\n",
    "telco['flag']= telco['flag'].replace([(temp)],'Rare_flag')"
   ]
  },
  {
   "cell_type": "code",
   "execution_count": 796,
   "metadata": {},
   "outputs": [
    {
     "data": {
      "text/plain": [
       "SF           89819\n",
       "S0           36864\n",
       "REJ          15082\n",
       "Rare_flag     6750\n",
       "Name: flag, dtype: int64"
      ]
     },
     "execution_count": 796,
     "metadata": {},
     "output_type": "execute_result"
    }
   ],
   "source": [
    "telco['flag'].value_counts()"
   ]
  },
  {
   "cell_type": "code",
   "execution_count": 797,
   "metadata": {},
   "outputs": [],
   "source": [
    "flg = pd.get_dummies(telco['flag'],drop_first=False)"
   ]
  },
  {
   "cell_type": "code",
   "execution_count": 798,
   "metadata": {},
   "outputs": [],
   "source": [
    "flg.drop(['Rare_flag'],axis=1,inplace=True)"
   ]
  },
  {
   "cell_type": "code",
   "execution_count": 799,
   "metadata": {},
   "outputs": [],
   "source": [
    "telco = pd.concat([telco,flg],axis=1)"
   ]
  },
  {
   "cell_type": "code",
   "execution_count": 800,
   "metadata": {},
   "outputs": [],
   "source": [
    "telco.drop(['flag'],axis=1,inplace=True)"
   ]
  },
  {
   "cell_type": "code",
   "execution_count": 801,
   "metadata": {
    "scrolled": true
   },
   "outputs": [
    {
     "name": "stdout",
     "output_type": "stream",
     "text": [
      "<class 'pandas.core.frame.DataFrame'>\n",
      "Int64Index: 148515 entries, 0 to 22542\n",
      "Data columns (total 47 columns):\n",
      "duration                       148515 non-null int64\n",
      "src_bytes                      148515 non-null int64\n",
      "dst_bytes                      148515 non-null int64\n",
      "land                           148515 non-null int64\n",
      "wrong_fragment                 148515 non-null int64\n",
      "urgent                         148515 non-null int64\n",
      "hot                            148515 non-null int64\n",
      "num_failed_logins              148515 non-null int64\n",
      "logged_in                      148515 non-null int64\n",
      "num_compromised                148515 non-null int64\n",
      "root_shell                     148515 non-null int64\n",
      "su_attempted                   148515 non-null int64\n",
      "num_root                       148515 non-null int64\n",
      "num_file_creations             148515 non-null int64\n",
      "num_shells                     148515 non-null int64\n",
      "num_access_files               148515 non-null int64\n",
      "num_outbound_cmds              148515 non-null int64\n",
      "is_host_login                  148515 non-null int64\n",
      "is_guest_login                 148515 non-null int64\n",
      "count                          148515 non-null int64\n",
      "srv_count                      148515 non-null int64\n",
      "serror_rate                    148515 non-null float64\n",
      "srv_serror_rate                148515 non-null float64\n",
      "rerror_rate                    148515 non-null float64\n",
      "srv_rerror_rate                148515 non-null float64\n",
      "same_srv_rate                  148515 non-null float64\n",
      "diff_srv_rate                  148515 non-null float64\n",
      "srv_diff_host_rate             148515 non-null float64\n",
      "dst_host_count                 148515 non-null int64\n",
      "dst_host_srv_count             148515 non-null int64\n",
      "dst_host_same_srv_rate         148515 non-null float64\n",
      "dst_host_diff_srv_rate         148515 non-null float64\n",
      "dst_host_same_src_port_rate    148515 non-null float64\n",
      "dst_host_srv_diff_host_rate    148515 non-null float64\n",
      "dst_host_serror_rate           148515 non-null float64\n",
      "dst_host_srv_serror_rate       148515 non-null float64\n",
      "dst_host_rerror_rate           148515 non-null float64\n",
      "dst_host_srv_rerror_rate       148515 non-null float64\n",
      "attack                         148515 non-null object\n",
      "last_flag                      148515 non-null int64\n",
      "http                           148515 non-null uint8\n",
      "private                        148515 non-null uint8\n",
      "tcp                            148515 non-null uint8\n",
      "udp                            148515 non-null uint8\n",
      "REJ                            148515 non-null uint8\n",
      "S0                             148515 non-null uint8\n",
      "SF                             148515 non-null uint8\n",
      "dtypes: float64(15), int64(24), object(1), uint8(7)\n",
      "memory usage: 47.4+ MB\n"
     ]
    }
   ],
   "source": [
    "telco.info()"
   ]
  },
  {
   "cell_type": "code",
   "execution_count": 802,
   "metadata": {
    "scrolled": true
   },
   "outputs": [
    {
     "data": {
      "text/plain": [
       "0        134971\n",
       "1          2576\n",
       "2           946\n",
       "4           890\n",
       "3           677\n",
       "5           444\n",
       "282         241\n",
       "6           228\n",
       "280         218\n",
       "27          201\n",
       "28          188\n",
       "281         147\n",
       "7           142\n",
       "10          139\n",
       "8           113\n",
       "9           107\n",
       "12           99\n",
       "23           92\n",
       "30           87\n",
       "11           87\n",
       "283          85\n",
       "15           84\n",
       "31           83\n",
       "20           80\n",
       "21           76\n",
       "29           73\n",
       "22           72\n",
       "25           65\n",
       "26           65\n",
       "14           58\n",
       "          ...  \n",
       "7372          1\n",
       "11466         1\n",
       "21701         1\n",
       "7244          1\n",
       "11338         1\n",
       "13014         1\n",
       "4946          1\n",
       "13015         1\n",
       "30558         1\n",
       "16985         1\n",
       "593           1\n",
       "41541         1\n",
       "465           1\n",
       "337           1\n",
       "41285         1\n",
       "12375         1\n",
       "8277          1\n",
       "26588         1\n",
       "8019          1\n",
       "17240         1\n",
       "14038         1\n",
       "9940          1\n",
       "11861         1\n",
       "7763          1\n",
       "3409          1\n",
       "1360          1\n",
       "7379          1\n",
       "5330          1\n",
       "3025          1\n",
       "8890          1\n",
       "Name: duration, Length: 3424, dtype: int64"
      ]
     },
     "execution_count": 802,
     "metadata": {},
     "output_type": "execute_result"
    }
   ],
   "source": [
    "telco['duration'].value_counts()"
   ]
  },
  {
   "cell_type": "code",
   "execution_count": 803,
   "metadata": {},
   "outputs": [],
   "source": [
    "temp = (telco['duration'].unique()).tolist()\n",
    "temp.remove(0)\n",
    "telco['duration']= telco['duration'].replace([(temp)],1)"
   ]
  },
  {
   "cell_type": "code",
   "execution_count": 804,
   "metadata": {},
   "outputs": [
    {
     "data": {
      "text/plain": [
       "0    134971\n",
       "1     13544\n",
       "Name: duration, dtype: int64"
      ]
     },
     "execution_count": 804,
     "metadata": {},
     "output_type": "execute_result"
    }
   ],
   "source": [
    "telco['duration'].value_counts()"
   ]
  },
  {
   "cell_type": "code",
   "execution_count": 805,
   "metadata": {
    "scrolled": true
   },
   "outputs": [
    {
     "data": {
      "text/plain": [
       "0          57017\n",
       "8           3744\n",
       "1           2905\n",
       "44          2647\n",
       "45          2317\n",
       "1032        2312\n",
       "46          1474\n",
       "43          1415\n",
       "105         1360\n",
       "54540       1222\n",
       "28          1130\n",
       "147          956\n",
       "30           912\n",
       "42           910\n",
       "520          714\n",
       "146          705\n",
       "18           652\n",
       "334          583\n",
       "215          511\n",
       "12           487\n",
       "207          464\n",
       "224          455\n",
       "221          444\n",
       "209          429\n",
       "216          429\n",
       "222          425\n",
       "218          418\n",
       "214          415\n",
       "217          406\n",
       "232          400\n",
       "           ...  \n",
       "4674           1\n",
       "2497           1\n",
       "2110           1\n",
       "12984          1\n",
       "2751           1\n",
       "2879           1\n",
       "13240          1\n",
       "3007           1\n",
       "1919           1\n",
       "529596         1\n",
       "3391           1\n",
       "11707          1\n",
       "1598           1\n",
       "5820           1\n",
       "4031           1\n",
       "10554          1\n",
       "12614          1\n",
       "57763          1\n",
       "447            1\n",
       "2750           1\n",
       "2878           1\n",
       "11322          1\n",
       "2104380        1\n",
       "3262           1\n",
       "175338         1\n",
       "11578          1\n",
       "4030           1\n",
       "2113           1\n",
       "2369           1\n",
       "3135           1\n",
       "Name: src_bytes, Length: 3601, dtype: int64"
      ]
     },
     "execution_count": 805,
     "metadata": {},
     "output_type": "execute_result"
    }
   ],
   "source": [
    "telco['src_bytes'].value_counts()"
   ]
  },
  {
   "cell_type": "code",
   "execution_count": 806,
   "metadata": {},
   "outputs": [],
   "source": [
    "temp = (telco['src_bytes'].unique()).tolist()\n",
    "temp.remove(0)\n",
    "telco['src_bytes']= telco['src_bytes'].replace([(temp)],1)"
   ]
  },
  {
   "cell_type": "code",
   "execution_count": 807,
   "metadata": {
    "scrolled": true
   },
   "outputs": [
    {
     "data": {
      "text/plain": [
       "0         77331\n",
       "105        1550\n",
       "44         1330\n",
       "8314       1207\n",
       "93          729\n",
       "330         591\n",
       "42          575\n",
       "331         566\n",
       "332         525\n",
       "45          517\n",
       "328         505\n",
       "146         501\n",
       "329         476\n",
       "147         475\n",
       "4           464\n",
       "327         447\n",
       "333         446\n",
       "46          435\n",
       "334         421\n",
       "1           384\n",
       "130         367\n",
       "174         346\n",
       "293         335\n",
       "43          335\n",
       "335         295\n",
       "131         276\n",
       "128         273\n",
       "337         269\n",
       "132         262\n",
       "4152        259\n",
       "          ...  \n",
       "178017        1\n",
       "44962         1\n",
       "8116          1\n",
       "22461         1\n",
       "20414         1\n",
       "8815          1\n",
       "6203          1\n",
       "17727         1\n",
       "3382          1\n",
       "5429          1\n",
       "23484         1\n",
       "19134         1\n",
       "121612        1\n",
       "13105         1\n",
       "11058         1\n",
       "4917          1\n",
       "13233         1\n",
       "9139          1\n",
       "2998          1\n",
       "13361         1\n",
       "7476          1\n",
       "7220          1\n",
       "17471         1\n",
       "40100         1\n",
       "56492         1\n",
       "9395          1\n",
       "11118         1\n",
       "19646         1\n",
       "9523          1\n",
       "17096         1\n",
       "Name: dst_bytes, Length: 10401, dtype: int64"
      ]
     },
     "execution_count": 807,
     "metadata": {},
     "output_type": "execute_result"
    }
   ],
   "source": [
    "telco['dst_bytes'].value_counts()"
   ]
  },
  {
   "cell_type": "code",
   "execution_count": 808,
   "metadata": {},
   "outputs": [],
   "source": [
    "temp = (telco['dst_bytes'].unique()).tolist()\n",
    "temp.remove(0)\n",
    "telco['dst_bytes']= telco['dst_bytes'].replace([(temp)],1)"
   ]
  },
  {
   "cell_type": "code",
   "execution_count": 809,
   "metadata": {},
   "outputs": [
    {
     "data": {
      "text/plain": [
       "0    148483\n",
       "1        32\n",
       "Name: land, dtype: int64"
      ]
     },
     "execution_count": 809,
     "metadata": {},
     "output_type": "execute_result"
    }
   ],
   "source": [
    "telco['land'].value_counts()"
   ]
  },
  {
   "cell_type": "code",
   "execution_count": 810,
   "metadata": {},
   "outputs": [
    {
     "data": {
      "text/plain": [
       "0    147325\n",
       "3       929\n",
       "1       261\n",
       "Name: wrong_fragment, dtype: int64"
      ]
     },
     "execution_count": 810,
     "metadata": {},
     "output_type": "execute_result"
    }
   ],
   "source": [
    "telco['wrong_fragment'].value_counts()"
   ]
  },
  {
   "cell_type": "code",
   "execution_count": 811,
   "metadata": {},
   "outputs": [],
   "source": [
    "wrng_frmt = pd.get_dummies(telco['wrong_fragment'],drop_first=True)"
   ]
  },
  {
   "cell_type": "code",
   "execution_count": 812,
   "metadata": {},
   "outputs": [],
   "source": [
    "telco = pd.concat([telco,wrng_frmt],axis=1)"
   ]
  },
  {
   "cell_type": "code",
   "execution_count": 813,
   "metadata": {},
   "outputs": [],
   "source": [
    "telco.drop(['wrong_fragment'],axis=1,inplace=True)"
   ]
  },
  {
   "cell_type": "code",
   "execution_count": 814,
   "metadata": {},
   "outputs": [
    {
     "data": {
      "text/plain": [
       "0    148496\n",
       "1        10\n",
       "2         7\n",
       "3         2\n",
       "Name: urgent, dtype: int64"
      ]
     },
     "execution_count": 814,
     "metadata": {},
     "output_type": "execute_result"
    }
   ],
   "source": [
    "telco['urgent'].value_counts()"
   ]
  },
  {
   "cell_type": "code",
   "execution_count": 815,
   "metadata": {},
   "outputs": [],
   "source": [
    "temp = (telco['urgent'].unique()).tolist()\n",
    "temp.remove(0)\n",
    "telco['urgent']= telco['urgent'].replace([(temp)],1)"
   ]
  },
  {
   "cell_type": "code",
   "execution_count": 816,
   "metadata": {
    "scrolled": true
   },
   "outputs": [
    {
     "name": "stdout",
     "output_type": "stream",
     "text": [
      "<class 'pandas.core.frame.DataFrame'>\n",
      "Int64Index: 148515 entries, 0 to 22542\n",
      "Data columns (total 48 columns):\n",
      "duration                       148515 non-null int64\n",
      "src_bytes                      148515 non-null int64\n",
      "dst_bytes                      148515 non-null int64\n",
      "land                           148515 non-null int64\n",
      "urgent                         148515 non-null int64\n",
      "hot                            148515 non-null int64\n",
      "num_failed_logins              148515 non-null int64\n",
      "logged_in                      148515 non-null int64\n",
      "num_compromised                148515 non-null int64\n",
      "root_shell                     148515 non-null int64\n",
      "su_attempted                   148515 non-null int64\n",
      "num_root                       148515 non-null int64\n",
      "num_file_creations             148515 non-null int64\n",
      "num_shells                     148515 non-null int64\n",
      "num_access_files               148515 non-null int64\n",
      "num_outbound_cmds              148515 non-null int64\n",
      "is_host_login                  148515 non-null int64\n",
      "is_guest_login                 148515 non-null int64\n",
      "count                          148515 non-null int64\n",
      "srv_count                      148515 non-null int64\n",
      "serror_rate                    148515 non-null float64\n",
      "srv_serror_rate                148515 non-null float64\n",
      "rerror_rate                    148515 non-null float64\n",
      "srv_rerror_rate                148515 non-null float64\n",
      "same_srv_rate                  148515 non-null float64\n",
      "diff_srv_rate                  148515 non-null float64\n",
      "srv_diff_host_rate             148515 non-null float64\n",
      "dst_host_count                 148515 non-null int64\n",
      "dst_host_srv_count             148515 non-null int64\n",
      "dst_host_same_srv_rate         148515 non-null float64\n",
      "dst_host_diff_srv_rate         148515 non-null float64\n",
      "dst_host_same_src_port_rate    148515 non-null float64\n",
      "dst_host_srv_diff_host_rate    148515 non-null float64\n",
      "dst_host_serror_rate           148515 non-null float64\n",
      "dst_host_srv_serror_rate       148515 non-null float64\n",
      "dst_host_rerror_rate           148515 non-null float64\n",
      "dst_host_srv_rerror_rate       148515 non-null float64\n",
      "attack                         148515 non-null object\n",
      "last_flag                      148515 non-null int64\n",
      "http                           148515 non-null uint8\n",
      "private                        148515 non-null uint8\n",
      "tcp                            148515 non-null uint8\n",
      "udp                            148515 non-null uint8\n",
      "REJ                            148515 non-null uint8\n",
      "S0                             148515 non-null uint8\n",
      "SF                             148515 non-null uint8\n",
      "1                              148515 non-null uint8\n",
      "3                              148515 non-null uint8\n",
      "dtypes: float64(15), int64(23), object(1), uint8(9)\n",
      "memory usage: 46.6+ MB\n"
     ]
    }
   ],
   "source": [
    "telco.info()"
   ]
  },
  {
   "cell_type": "code",
   "execution_count": 817,
   "metadata": {},
   "outputs": [],
   "source": [
    "telco = telco.rename(index=str, columns={1:\"wrng_frgmt_1\", 3:\"wrng_frgmt_3\" , \"tcp\":\"prtcl_type_tcp\", \"udp\":\"prtcl_type_udp\", \"http\":\"service_http\",\"private\":\"service_private\",\"REJ\":\"flag_REJ\",\"S0\":\"flag_S0\",\"SF\":\"flag_SF\"})"
   ]
  },
  {
   "cell_type": "code",
   "execution_count": 818,
   "metadata": {
    "scrolled": true
   },
   "outputs": [
    {
     "name": "stdout",
     "output_type": "stream",
     "text": [
      "<class 'pandas.core.frame.DataFrame'>\n",
      "Index: 148515 entries, 0 to 22542\n",
      "Data columns (total 48 columns):\n",
      "duration                       148515 non-null int64\n",
      "src_bytes                      148515 non-null int64\n",
      "dst_bytes                      148515 non-null int64\n",
      "land                           148515 non-null int64\n",
      "urgent                         148515 non-null int64\n",
      "hot                            148515 non-null int64\n",
      "num_failed_logins              148515 non-null int64\n",
      "logged_in                      148515 non-null int64\n",
      "num_compromised                148515 non-null int64\n",
      "root_shell                     148515 non-null int64\n",
      "su_attempted                   148515 non-null int64\n",
      "num_root                       148515 non-null int64\n",
      "num_file_creations             148515 non-null int64\n",
      "num_shells                     148515 non-null int64\n",
      "num_access_files               148515 non-null int64\n",
      "num_outbound_cmds              148515 non-null int64\n",
      "is_host_login                  148515 non-null int64\n",
      "is_guest_login                 148515 non-null int64\n",
      "count                          148515 non-null int64\n",
      "srv_count                      148515 non-null int64\n",
      "serror_rate                    148515 non-null float64\n",
      "srv_serror_rate                148515 non-null float64\n",
      "rerror_rate                    148515 non-null float64\n",
      "srv_rerror_rate                148515 non-null float64\n",
      "same_srv_rate                  148515 non-null float64\n",
      "diff_srv_rate                  148515 non-null float64\n",
      "srv_diff_host_rate             148515 non-null float64\n",
      "dst_host_count                 148515 non-null int64\n",
      "dst_host_srv_count             148515 non-null int64\n",
      "dst_host_same_srv_rate         148515 non-null float64\n",
      "dst_host_diff_srv_rate         148515 non-null float64\n",
      "dst_host_same_src_port_rate    148515 non-null float64\n",
      "dst_host_srv_diff_host_rate    148515 non-null float64\n",
      "dst_host_serror_rate           148515 non-null float64\n",
      "dst_host_srv_serror_rate       148515 non-null float64\n",
      "dst_host_rerror_rate           148515 non-null float64\n",
      "dst_host_srv_rerror_rate       148515 non-null float64\n",
      "attack                         148515 non-null object\n",
      "last_flag                      148515 non-null int64\n",
      "service_http                   148515 non-null uint8\n",
      "service_private                148515 non-null uint8\n",
      "prtcl_type_tcp                 148515 non-null uint8\n",
      "prtcl_type_udp                 148515 non-null uint8\n",
      "flag_REJ                       148515 non-null uint8\n",
      "flag_S0                        148515 non-null uint8\n",
      "flag_SF                        148515 non-null uint8\n",
      "wrng_frgmt_1                   148515 non-null uint8\n",
      "wrng_frgmt_3                   148515 non-null uint8\n",
      "dtypes: float64(15), int64(23), object(1), uint8(9)\n",
      "memory usage: 46.6+ MB\n"
     ]
    }
   ],
   "source": [
    "telco.info()"
   ]
  },
  {
   "cell_type": "code",
   "execution_count": 819,
   "metadata": {
    "scrolled": true
   },
   "outputs": [
    {
     "data": {
      "text/plain": [
       "0      144837\n",
       "2        1883\n",
       "1         459\n",
       "28        277\n",
       "30        258\n",
       "4         193\n",
       "6         146\n",
       "5          87\n",
       "24         68\n",
       "3          66\n",
       "19         58\n",
       "22         57\n",
       "18         48\n",
       "14         30\n",
       "7          14\n",
       "20          9\n",
       "15          5\n",
       "11          4\n",
       "10          3\n",
       "9           2\n",
       "25          2\n",
       "44          2\n",
       "8           1\n",
       "12          1\n",
       "77          1\n",
       "17          1\n",
       "21          1\n",
       "33          1\n",
       "101         1\n",
       "Name: hot, dtype: int64"
      ]
     },
     "execution_count": 819,
     "metadata": {},
     "output_type": "execute_result"
    }
   ],
   "source": [
    "telco['hot'].value_counts()"
   ]
  },
  {
   "cell_type": "code",
   "execution_count": 820,
   "metadata": {},
   "outputs": [],
   "source": [
    "temp = (telco['hot'].unique()).tolist()\n",
    "temp.remove(0)\n",
    "telco['hot']= telco['hot'].replace([(temp)],1)"
   ]
  },
  {
   "cell_type": "code",
   "execution_count": 821,
   "metadata": {},
   "outputs": [
    {
     "data": {
      "text/plain": [
       "0    147915\n",
       "1       577\n",
       "2        10\n",
       "3         8\n",
       "4         4\n",
       "5         1\n",
       "Name: num_failed_logins, dtype: int64"
      ]
     },
     "execution_count": 821,
     "metadata": {},
     "output_type": "execute_result"
    }
   ],
   "source": [
    "telco['num_failed_logins'].value_counts()"
   ]
  },
  {
   "cell_type": "code",
   "execution_count": 822,
   "metadata": {},
   "outputs": [],
   "source": [
    "temp = (telco['num_failed_logins'].unique()).tolist()\n",
    "temp.remove(0)\n",
    "telco['num_failed_logins']= telco['num_failed_logins'].replace([(temp)],1)"
   ]
  },
  {
   "cell_type": "code",
   "execution_count": 823,
   "metadata": {},
   "outputs": [
    {
     "data": {
      "text/plain": [
       "0    88694\n",
       "1    59821\n",
       "Name: logged_in, dtype: int64"
      ]
     },
     "execution_count": 823,
     "metadata": {},
     "output_type": "execute_result"
    }
   ],
   "source": [
    "telco['logged_in'].value_counts()"
   ]
  },
  {
   "cell_type": "code",
   "execution_count": 824,
   "metadata": {
    "scrolled": true
   },
   "outputs": [
    {
     "data": {
      "text/plain": [
       "0       146860\n",
       "1         1301\n",
       "2          109\n",
       "4           44\n",
       "3           41\n",
       "6           21\n",
       "5           20\n",
       "8            7\n",
       "7            6\n",
       "9            4\n",
       "23           3\n",
       "14           3\n",
       "10           3\n",
       "151          2\n",
       "31           2\n",
       "21           2\n",
       "49           2\n",
       "15           2\n",
       "12           2\n",
       "13           2\n",
       "11           2\n",
       "371          2\n",
       "884          2\n",
       "537          1\n",
       "165          1\n",
       "37           1\n",
       "676          1\n",
       "36           1\n",
       "38           1\n",
       "543          1\n",
       "         ...  \n",
       "373          1\n",
       "247          1\n",
       "375          1\n",
       "121          1\n",
       "761          1\n",
       "378          1\n",
       "78           1\n",
       "716          1\n",
       "1739         1\n",
       "75           1\n",
       "46           1\n",
       "174          1\n",
       "558          1\n",
       "175          1\n",
       "177          1\n",
       "307          1\n",
       "691          1\n",
       "7479         1\n",
       "54           1\n",
       "568          1\n",
       "57           1\n",
       "187          1\n",
       "193          1\n",
       "452          1\n",
       "198          1\n",
       "456          1\n",
       "457          1\n",
       "74           1\n",
       "202          1\n",
       "44           1\n",
       "Name: num_compromised, Length: 96, dtype: int64"
      ]
     },
     "execution_count": 824,
     "metadata": {},
     "output_type": "execute_result"
    }
   ],
   "source": [
    "telco['num_compromised'].value_counts()"
   ]
  },
  {
   "cell_type": "code",
   "execution_count": 825,
   "metadata": {},
   "outputs": [],
   "source": [
    "temp = (telco['num_compromised'].unique()).tolist()\n",
    "temp.remove(0)\n",
    "telco['num_compromised']= telco['num_compromised'].replace([(temp)],1)"
   ]
  },
  {
   "cell_type": "code",
   "execution_count": 826,
   "metadata": {},
   "outputs": [
    {
     "data": {
      "text/plain": [
       "0    148291\n",
       "1       224\n",
       "Name: root_shell, dtype: int64"
      ]
     },
     "execution_count": 826,
     "metadata": {},
     "output_type": "execute_result"
    }
   ],
   "source": [
    "telco['root_shell'].value_counts()"
   ]
  },
  {
   "cell_type": "code",
   "execution_count": 827,
   "metadata": {},
   "outputs": [
    {
     "data": {
      "text/plain": [
       "0    148431\n",
       "2        61\n",
       "1        23\n",
       "Name: su_attempted, dtype: int64"
      ]
     },
     "execution_count": 827,
     "metadata": {},
     "output_type": "execute_result"
    }
   ],
   "source": [
    "telco['su_attempted'].value_counts()"
   ]
  },
  {
   "cell_type": "code",
   "execution_count": 828,
   "metadata": {},
   "outputs": [],
   "source": [
    "temp = (telco['su_attempted'].unique()).tolist()\n",
    "temp.remove(0)\n",
    "telco['su_attempted']= telco['su_attempted'].replace([(temp)],1)"
   ]
  },
  {
   "cell_type": "code",
   "execution_count": 829,
   "metadata": {
    "scrolled": true
   },
   "outputs": [
    {
     "data": {
      "text/plain": [
       "0       147818\n",
       "1          287\n",
       "9          122\n",
       "6           99\n",
       "2           37\n",
       "5           25\n",
       "4           18\n",
       "3           14\n",
       "7            4\n",
       "8            3\n",
       "10           2\n",
       "421          2\n",
       "17           2\n",
       "857          2\n",
       "39           2\n",
       "36           2\n",
       "684          2\n",
       "287          1\n",
       "416          1\n",
       "31           1\n",
       "26           1\n",
       "173          1\n",
       "40           1\n",
       "417          1\n",
       "38           1\n",
       "23           1\n",
       "425          1\n",
       "45           1\n",
       "151          1\n",
       "402          1\n",
       "         ...  \n",
       "502          1\n",
       "119          1\n",
       "247          1\n",
       "121          1\n",
       "505          1\n",
       "889          1\n",
       "123          1\n",
       "605          1\n",
       "91           1\n",
       "218          1\n",
       "450          1\n",
       "54           1\n",
       "55           1\n",
       "184          1\n",
       "187          1\n",
       "572          1\n",
       "190          1\n",
       "446          1\n",
       "191          1\n",
       "71           1\n",
       "338          1\n",
       "841          1\n",
       "74           1\n",
       "204          1\n",
       "77           1\n",
       "206          1\n",
       "975          1\n",
       "1743         1\n",
       "849          1\n",
       "51           1\n",
       "Name: num_root, Length: 91, dtype: int64"
      ]
     },
     "execution_count": 829,
     "metadata": {},
     "output_type": "execute_result"
    }
   ],
   "source": [
    "telco['num_root'].value_counts()"
   ]
  },
  {
   "cell_type": "code",
   "execution_count": 830,
   "metadata": {},
   "outputs": [],
   "source": [
    "temp = (telco['num_root'].unique()).tolist()\n",
    "temp.remove(0)\n",
    "telco['num_root']= telco['num_root'].replace([(temp)],1)"
   ]
  },
  {
   "cell_type": "code",
   "execution_count": 831,
   "metadata": {
    "scrolled": true
   },
   "outputs": [
    {
     "data": {
      "text/plain": [
       "0      148186\n",
       "1         168\n",
       "2          50\n",
       "4          19\n",
       "3          10\n",
       "5           7\n",
       "15          5\n",
       "7           5\n",
       "8           5\n",
       "10          5\n",
       "17          5\n",
       "12          4\n",
       "6           4\n",
       "11          4\n",
       "18          4\n",
       "26          3\n",
       "40          3\n",
       "14          3\n",
       "25          3\n",
       "20          3\n",
       "13          2\n",
       "23          2\n",
       "9           2\n",
       "16          1\n",
       "33          1\n",
       "22          1\n",
       "38          1\n",
       "36          1\n",
       "34          1\n",
       "28          1\n",
       "21          1\n",
       "29          1\n",
       "43          1\n",
       "27          1\n",
       "19          1\n",
       "100         1\n",
       "Name: num_file_creations, dtype: int64"
      ]
     },
     "execution_count": 831,
     "metadata": {},
     "output_type": "execute_result"
    }
   ],
   "source": [
    "telco['num_file_creations'].value_counts()"
   ]
  },
  {
   "cell_type": "code",
   "execution_count": 832,
   "metadata": {},
   "outputs": [],
   "source": [
    "temp = (telco['num_file_creations'].unique()).tolist()\n",
    "temp.remove(0)\n",
    "telco['num_file_creations']= telco['num_file_creations'].replace([(temp)],1)"
   ]
  },
  {
   "cell_type": "code",
   "execution_count": 833,
   "metadata": {},
   "outputs": [
    {
     "data": {
      "text/plain": [
       "0    148449\n",
       "1        57\n",
       "2         8\n",
       "5         1\n",
       "Name: num_shells, dtype: int64"
      ]
     },
     "execution_count": 833,
     "metadata": {},
     "output_type": "execute_result"
    }
   ],
   "source": [
    "telco['num_shells'].value_counts()"
   ]
  },
  {
   "cell_type": "code",
   "execution_count": 834,
   "metadata": {},
   "outputs": [],
   "source": [
    "temp = (telco['num_shells'].unique()).tolist()\n",
    "temp.remove(0)\n",
    "telco['num_shells']= telco['num_shells'].replace([(temp)],1)"
   ]
  },
  {
   "cell_type": "code",
   "execution_count": 835,
   "metadata": {},
   "outputs": [
    {
     "data": {
      "text/plain": [
       "0    148072\n",
       "1       380\n",
       "2        32\n",
       "3         9\n",
       "5         6\n",
       "4         6\n",
       "6         4\n",
       "8         3\n",
       "7         2\n",
       "9         1\n",
       "Name: num_access_files, dtype: int64"
      ]
     },
     "execution_count": 835,
     "metadata": {},
     "output_type": "execute_result"
    }
   ],
   "source": [
    "telco['num_access_files'].value_counts()"
   ]
  },
  {
   "cell_type": "code",
   "execution_count": 836,
   "metadata": {},
   "outputs": [],
   "source": [
    "temp = (telco['num_access_files'].unique()).tolist()\n",
    "temp.remove(0)\n",
    "telco['num_access_files']= telco['num_access_files'].replace([(temp)],1)"
   ]
  },
  {
   "cell_type": "code",
   "execution_count": 837,
   "metadata": {},
   "outputs": [
    {
     "data": {
      "text/plain": [
       "0    148515\n",
       "Name: num_outbound_cmds, dtype: int64"
      ]
     },
     "execution_count": 837,
     "metadata": {},
     "output_type": "execute_result"
    }
   ],
   "source": [
    "telco['num_outbound_cmds'].value_counts()"
   ]
  },
  {
   "cell_type": "code",
   "execution_count": 838,
   "metadata": {},
   "outputs": [],
   "source": [
    "telco.drop(['num_outbound_cmds'],axis=1,inplace=True)"
   ]
  },
  {
   "cell_type": "code",
   "execution_count": 839,
   "metadata": {},
   "outputs": [
    {
     "data": {
      "text/plain": [
       "0    148503\n",
       "1        12\n",
       "Name: is_host_login, dtype: int64"
      ]
     },
     "execution_count": 839,
     "metadata": {},
     "output_type": "execute_result"
    }
   ],
   "source": [
    "telco['is_host_login'].value_counts()"
   ]
  },
  {
   "cell_type": "code",
   "execution_count": 840,
   "metadata": {},
   "outputs": [],
   "source": [
    "telco.drop(['is_host_login'],axis=1,inplace=True)"
   ]
  },
  {
   "cell_type": "code",
   "execution_count": 841,
   "metadata": {},
   "outputs": [
    {
     "data": {
      "text/plain": [
       "0    146687\n",
       "1      1828\n",
       "Name: is_guest_login, dtype: int64"
      ]
     },
     "execution_count": 841,
     "metadata": {},
     "output_type": "execute_result"
    }
   ],
   "source": [
    "telco['is_guest_login'].value_counts()"
   ]
  },
  {
   "cell_type": "code",
   "execution_count": 842,
   "metadata": {
    "scrolled": true
   },
   "outputs": [
    {
     "data": {
      "text/plain": [
       "1      33582\n",
       "2      11250\n",
       "3       5257\n",
       "4       4481\n",
       "5       3596\n",
       "6       2794\n",
       "7       2659\n",
       "8       2237\n",
       "9       2043\n",
       "10      1947\n",
       "11      1847\n",
       "511     1774\n",
       "12      1654\n",
       "13      1483\n",
       "14      1314\n",
       "15      1239\n",
       "16      1165\n",
       "17      1046\n",
       "18       943\n",
       "19       862\n",
       "20       787\n",
       "21       735\n",
       "22       637\n",
       "23       605\n",
       "24       558\n",
       "25       507\n",
       "26       453\n",
       "27       443\n",
       "510      421\n",
       "28       384\n",
       "       ...  \n",
       "372        7\n",
       "342        7\n",
       "386        7\n",
       "470        7\n",
       "337        7\n",
       "410        7\n",
       "385        7\n",
       "406        7\n",
       "345        7\n",
       "362        7\n",
       "467        7\n",
       "454        7\n",
       "339        7\n",
       "474        7\n",
       "420        7\n",
       "349        7\n",
       "411        7\n",
       "415        7\n",
       "355        7\n",
       "504        7\n",
       "377        6\n",
       "417        6\n",
       "471        6\n",
       "501        6\n",
       "402        6\n",
       "433        6\n",
       "422        6\n",
       "500        5\n",
       "423        5\n",
       "413        5\n",
       "Name: count, Length: 512, dtype: int64"
      ]
     },
     "execution_count": 842,
     "metadata": {},
     "output_type": "execute_result"
    }
   ],
   "source": [
    "telco['count'].value_counts()"
   ]
  },
  {
   "cell_type": "code",
   "execution_count": 843,
   "metadata": {},
   "outputs": [],
   "source": [
    "temp = (telco['count'].unique()).tolist()\n",
    "temp.remove(1)\n",
    "j= [i for i in telco['count'] if i >= 11]\n",
    "temp= [x for x in temp if x not in j]\n",
    "telco['count']= telco['count'].replace([(temp)],2)"
   ]
  },
  {
   "cell_type": "code",
   "execution_count": 844,
   "metadata": {},
   "outputs": [],
   "source": [
    "temp = (telco['count'].unique()).tolist()\n",
    "temp.remove(1)\n",
    "temp.remove(2)\n",
    "telco['count']= telco['count'].replace([(temp)],3)"
   ]
  },
  {
   "cell_type": "code",
   "execution_count": 845,
   "metadata": {},
   "outputs": [
    {
     "data": {
      "text/plain": [
       "3    78655\n",
       "2    36278\n",
       "1    33582\n",
       "Name: count, dtype: int64"
      ]
     },
     "execution_count": 845,
     "metadata": {},
     "output_type": "execute_result"
    }
   ],
   "source": [
    "telco['count'].value_counts()"
   ]
  },
  {
   "cell_type": "code",
   "execution_count": 846,
   "metadata": {},
   "outputs": [],
   "source": [
    "count = pd.get_dummies(telco['count'],drop_first=False)"
   ]
  },
  {
   "cell_type": "code",
   "execution_count": 847,
   "metadata": {},
   "outputs": [],
   "source": [
    "count.drop([3],axis=1,inplace=True)"
   ]
  },
  {
   "cell_type": "code",
   "execution_count": 848,
   "metadata": {},
   "outputs": [],
   "source": [
    "telco = pd.concat([telco,count],axis=1)"
   ]
  },
  {
   "cell_type": "code",
   "execution_count": 849,
   "metadata": {},
   "outputs": [],
   "source": [
    "telco.drop(['count'],axis=1,inplace=True)"
   ]
  },
  {
   "cell_type": "code",
   "execution_count": 850,
   "metadata": {
    "scrolled": true
   },
   "outputs": [
    {
     "data": {
      "text/plain": [
       "1      31343\n",
       "2      14730\n",
       "3       7736\n",
       "4       6574\n",
       "5       5510\n",
       "6       4849\n",
       "7       4585\n",
       "8       4276\n",
       "9       4154\n",
       "10      3841\n",
       "11      3833\n",
       "12      3642\n",
       "20      3558\n",
       "14      3391\n",
       "13      3390\n",
       "19      3373\n",
       "18      3313\n",
       "16      3301\n",
       "17      3270\n",
       "15      3213\n",
       "21      1266\n",
       "511     1262\n",
       "22      1196\n",
       "24      1193\n",
       "23      1146\n",
       "25      1137\n",
       "26       543\n",
       "27       531\n",
       "28       488\n",
       "29       469\n",
       "       ...  \n",
       "330        3\n",
       "414        3\n",
       "337        3\n",
       "341        3\n",
       "342        3\n",
       "339        3\n",
       "470        3\n",
       "473        3\n",
       "362        3\n",
       "361        3\n",
       "488        3\n",
       "402        3\n",
       "349        3\n",
       "406        3\n",
       "345        3\n",
       "420        2\n",
       "471        2\n",
       "433        2\n",
       "501        2\n",
       "423        2\n",
       "422        2\n",
       "411        2\n",
       "465        2\n",
       "410        2\n",
       "415        2\n",
       "500        2\n",
       "413        2\n",
       "490        2\n",
       "417        2\n",
       "504        1\n",
       "Name: srv_count, Length: 512, dtype: int64"
      ]
     },
     "execution_count": 850,
     "metadata": {},
     "output_type": "execute_result"
    }
   ],
   "source": [
    "telco['srv_count'].value_counts()"
   ]
  },
  {
   "cell_type": "code",
   "execution_count": 851,
   "metadata": {},
   "outputs": [],
   "source": [
    "#wait\n",
    "temp = (telco['srv_count'].unique()).tolist()\n",
    "j= [i for i in telco['srv_count'] if i >= 11]\n",
    "temp= [x for x in temp if x not in j]\n",
    "telco['srv_count']= telco['srv_count'].replace([(temp)],\"srv_count<10\")"
   ]
  },
  {
   "cell_type": "code",
   "execution_count": 853,
   "metadata": {},
   "outputs": [],
   "source": [
    "temp = (telco['srv_count'].unique()).tolist()\n",
    "temp.remove('srv_count<10')\n",
    "telco['srv_count']= telco['srv_count'].replace([(temp)],\"srv_count_>10\")"
   ]
  },
  {
   "cell_type": "code",
   "execution_count": 854,
   "metadata": {},
   "outputs": [
    {
     "data": {
      "text/plain": [
       "srv_count<10     87612\n",
       "srv_count_>10    60903\n",
       "Name: srv_count, dtype: int64"
      ]
     },
     "execution_count": 854,
     "metadata": {},
     "output_type": "execute_result"
    }
   ],
   "source": [
    "telco['srv_count'].value_counts()"
   ]
  },
  {
   "cell_type": "code",
   "execution_count": 855,
   "metadata": {
    "scrolled": true
   },
   "outputs": [
    {
     "name": "stdout",
     "output_type": "stream",
     "text": [
      "<class 'pandas.core.frame.DataFrame'>\n",
      "Index: 148515 entries, 0 to 22542\n",
      "Data columns (total 47 columns):\n",
      "duration                       148515 non-null int64\n",
      "src_bytes                      148515 non-null int64\n",
      "dst_bytes                      148515 non-null int64\n",
      "land                           148515 non-null int64\n",
      "urgent                         148515 non-null int64\n",
      "hot                            148515 non-null int64\n",
      "num_failed_logins              148515 non-null int64\n",
      "logged_in                      148515 non-null int64\n",
      "num_compromised                148515 non-null int64\n",
      "root_shell                     148515 non-null int64\n",
      "su_attempted                   148515 non-null int64\n",
      "num_root                       148515 non-null int64\n",
      "num_file_creations             148515 non-null int64\n",
      "num_shells                     148515 non-null int64\n",
      "num_access_files               148515 non-null int64\n",
      "is_guest_login                 148515 non-null int64\n",
      "srv_count                      148515 non-null object\n",
      "serror_rate                    148515 non-null float64\n",
      "srv_serror_rate                148515 non-null float64\n",
      "rerror_rate                    148515 non-null float64\n",
      "srv_rerror_rate                148515 non-null float64\n",
      "same_srv_rate                  148515 non-null float64\n",
      "diff_srv_rate                  148515 non-null float64\n",
      "srv_diff_host_rate             148515 non-null float64\n",
      "dst_host_count                 148515 non-null int64\n",
      "dst_host_srv_count             148515 non-null int64\n",
      "dst_host_same_srv_rate         148515 non-null float64\n",
      "dst_host_diff_srv_rate         148515 non-null float64\n",
      "dst_host_same_src_port_rate    148515 non-null float64\n",
      "dst_host_srv_diff_host_rate    148515 non-null float64\n",
      "dst_host_serror_rate           148515 non-null float64\n",
      "dst_host_srv_serror_rate       148515 non-null float64\n",
      "dst_host_rerror_rate           148515 non-null float64\n",
      "dst_host_srv_rerror_rate       148515 non-null float64\n",
      "attack                         148515 non-null object\n",
      "last_flag                      148515 non-null int64\n",
      "service_http                   148515 non-null uint8\n",
      "service_private                148515 non-null uint8\n",
      "prtcl_type_tcp                 148515 non-null uint8\n",
      "prtcl_type_udp                 148515 non-null uint8\n",
      "flag_REJ                       148515 non-null uint8\n",
      "flag_S0                        148515 non-null uint8\n",
      "flag_SF                        148515 non-null uint8\n",
      "wrng_frgmt_1                   148515 non-null uint8\n",
      "wrng_frgmt_3                   148515 non-null uint8\n",
      "1                              148515 non-null uint8\n",
      "2                              148515 non-null uint8\n",
      "dtypes: float64(15), int64(19), object(2), uint8(11)\n",
      "memory usage: 43.5+ MB\n"
     ]
    }
   ],
   "source": [
    "telco.info()"
   ]
  },
  {
   "cell_type": "code",
   "execution_count": 856,
   "metadata": {},
   "outputs": [],
   "source": [
    "srv_cnt = pd.get_dummies(telco['srv_count'],drop_first=False)"
   ]
  },
  {
   "cell_type": "code",
   "execution_count": 857,
   "metadata": {},
   "outputs": [],
   "source": [
    "srv_cnt.drop(['srv_count_>10'],axis=1,inplace=True)"
   ]
  },
  {
   "cell_type": "code",
   "execution_count": 858,
   "metadata": {},
   "outputs": [],
   "source": [
    "telco= pd.concat([telco,srv_cnt],axis=1)"
   ]
  },
  {
   "cell_type": "code",
   "execution_count": 859,
   "metadata": {},
   "outputs": [],
   "source": [
    "telco.drop(['srv_count'],axis=1,inplace=True)"
   ]
  },
  {
   "cell_type": "code",
   "execution_count": 860,
   "metadata": {
    "scrolled": true
   },
   "outputs": [
    {
     "name": "stdout",
     "output_type": "stream",
     "text": [
      "<class 'pandas.core.frame.DataFrame'>\n",
      "Index: 148515 entries, 0 to 22542\n",
      "Data columns (total 47 columns):\n",
      "duration                       148515 non-null int64\n",
      "src_bytes                      148515 non-null int64\n",
      "dst_bytes                      148515 non-null int64\n",
      "land                           148515 non-null int64\n",
      "urgent                         148515 non-null int64\n",
      "hot                            148515 non-null int64\n",
      "num_failed_logins              148515 non-null int64\n",
      "logged_in                      148515 non-null int64\n",
      "num_compromised                148515 non-null int64\n",
      "root_shell                     148515 non-null int64\n",
      "su_attempted                   148515 non-null int64\n",
      "num_root                       148515 non-null int64\n",
      "num_file_creations             148515 non-null int64\n",
      "num_shells                     148515 non-null int64\n",
      "num_access_files               148515 non-null int64\n",
      "is_guest_login                 148515 non-null int64\n",
      "serror_rate                    148515 non-null float64\n",
      "srv_serror_rate                148515 non-null float64\n",
      "rerror_rate                    148515 non-null float64\n",
      "srv_rerror_rate                148515 non-null float64\n",
      "same_srv_rate                  148515 non-null float64\n",
      "diff_srv_rate                  148515 non-null float64\n",
      "srv_diff_host_rate             148515 non-null float64\n",
      "dst_host_count                 148515 non-null int64\n",
      "dst_host_srv_count             148515 non-null int64\n",
      "dst_host_same_srv_rate         148515 non-null float64\n",
      "dst_host_diff_srv_rate         148515 non-null float64\n",
      "dst_host_same_src_port_rate    148515 non-null float64\n",
      "dst_host_srv_diff_host_rate    148515 non-null float64\n",
      "dst_host_serror_rate           148515 non-null float64\n",
      "dst_host_srv_serror_rate       148515 non-null float64\n",
      "dst_host_rerror_rate           148515 non-null float64\n",
      "dst_host_srv_rerror_rate       148515 non-null float64\n",
      "attack                         148515 non-null object\n",
      "last_flag                      148515 non-null int64\n",
      "service_http                   148515 non-null uint8\n",
      "service_private                148515 non-null uint8\n",
      "prtcl_type_tcp                 148515 non-null uint8\n",
      "prtcl_type_udp                 148515 non-null uint8\n",
      "flag_REJ                       148515 non-null uint8\n",
      "flag_S0                        148515 non-null uint8\n",
      "flag_SF                        148515 non-null uint8\n",
      "wrng_frgmt_1                   148515 non-null uint8\n",
      "wrng_frgmt_3                   148515 non-null uint8\n",
      "1                              148515 non-null uint8\n",
      "2                              148515 non-null uint8\n",
      "srv_count<10                   148515 non-null uint8\n",
      "dtypes: float64(15), int64(19), object(1), uint8(12)\n",
      "memory usage: 42.5+ MB\n"
     ]
    }
   ],
   "source": [
    "telco.info()"
   ]
  },
  {
   "cell_type": "code",
   "execution_count": 861,
   "metadata": {},
   "outputs": [],
   "source": [
    "telco = telco.rename(index=str, columns={1:\"count_1\",2:\"count_2_to_10\"})"
   ]
  },
  {
   "cell_type": "code",
   "execution_count": 862,
   "metadata": {
    "scrolled": true
   },
   "outputs": [
    {
     "data": {
      "text/plain": [
       "0.00    106021\n",
       "1.00     36543\n",
       "0.50       516\n",
       "0.07       371\n",
       "0.06       371\n",
       "0.33       341\n",
       "0.08       318\n",
       "0.01       304\n",
       "0.05       278\n",
       "0.03       254\n",
       "0.99       250\n",
       "0.25       231\n",
       "0.09       229\n",
       "0.04       221\n",
       "0.10       192\n",
       "0.02       178\n",
       "0.20       165\n",
       "0.17       150\n",
       "0.14       149\n",
       "0.11       127\n",
       "0.12       101\n",
       "0.97        79\n",
       "0.15        78\n",
       "0.16        71\n",
       "0.98        64\n",
       "0.13        61\n",
       "0.18        53\n",
       "0.96        41\n",
       "0.21        41\n",
       "0.23        39\n",
       "         ...  \n",
       "0.72         8\n",
       "0.71         8\n",
       "0.73         8\n",
       "0.61         7\n",
       "0.56         6\n",
       "0.27         6\n",
       "0.44         6\n",
       "0.53         6\n",
       "0.51         5\n",
       "0.30         5\n",
       "0.55         5\n",
       "0.35         4\n",
       "0.26         4\n",
       "0.46         4\n",
       "0.48         4\n",
       "0.37         4\n",
       "0.52         4\n",
       "0.43         3\n",
       "0.57         3\n",
       "0.54         3\n",
       "0.28         3\n",
       "0.38         3\n",
       "0.39         2\n",
       "0.36         2\n",
       "0.32         2\n",
       "0.31         2\n",
       "0.42         2\n",
       "0.41         1\n",
       "0.45         1\n",
       "0.34         1\n",
       "Name: serror_rate, Length: 99, dtype: int64"
      ]
     },
     "execution_count": 862,
     "metadata": {},
     "output_type": "execute_result"
    }
   ],
   "source": [
    "telco['serror_rate'].value_counts()"
   ]
  },
  {
   "cell_type": "code",
   "execution_count": 863,
   "metadata": {},
   "outputs": [],
   "source": [
    "temp = (telco['serror_rate'].unique()).tolist()\n",
    "temp.remove(0.00)\n",
    "temp.remove(1.00)\n",
    "telco['serror_rate']= telco['serror_rate'].replace([(temp)],\"serror_rate_0_to_1\")"
   ]
  },
  {
   "cell_type": "code",
   "execution_count": 864,
   "metadata": {},
   "outputs": [
    {
     "data": {
      "text/plain": [
       "0.0                   106021\n",
       "1.0                    36543\n",
       "serror_rate_0_to_1      5951\n",
       "Name: serror_rate, dtype: int64"
      ]
     },
     "execution_count": 864,
     "metadata": {},
     "output_type": "execute_result"
    }
   ],
   "source": [
    "telco['serror_rate'].value_counts()"
   ]
  },
  {
   "cell_type": "code",
   "execution_count": 865,
   "metadata": {},
   "outputs": [],
   "source": [
    "serr_rate = pd.get_dummies(telco['serror_rate'],drop_first=False)"
   ]
  },
  {
   "cell_type": "code",
   "execution_count": 866,
   "metadata": {},
   "outputs": [],
   "source": [
    "serr_rate.drop(['serror_rate_0_to_1'],axis=1,inplace=True)"
   ]
  },
  {
   "cell_type": "code",
   "execution_count": 867,
   "metadata": {},
   "outputs": [],
   "source": [
    "telco= pd.concat([telco,serr_rate],axis=1)"
   ]
  },
  {
   "cell_type": "code",
   "execution_count": 868,
   "metadata": {},
   "outputs": [],
   "source": [
    "telco = telco.rename(index=str, columns={0.0:\"serror_rate_0\",1.00:\"serror_rate_1\"})"
   ]
  },
  {
   "cell_type": "code",
   "execution_count": 869,
   "metadata": {},
   "outputs": [],
   "source": [
    "telco.drop(['serror_rate'],axis=1,inplace=True)"
   ]
  },
  {
   "cell_type": "code",
   "execution_count": 870,
   "metadata": {
    "scrolled": true
   },
   "outputs": [
    {
     "data": {
      "text/plain": [
       "0.00    108383\n",
       "1.00     37039\n",
       "0.50       454\n",
       "0.33       315\n",
       "0.25       260\n",
       "0.03       173\n",
       "0.20       164\n",
       "0.17       147\n",
       "0.02       120\n",
       "0.05       115\n",
       "0.04       105\n",
       "0.06        95\n",
       "0.08        86\n",
       "0.07        85\n",
       "0.14        78\n",
       "0.12        73\n",
       "0.10        65\n",
       "0.11        62\n",
       "0.67        60\n",
       "0.09        60\n",
       "0.95        40\n",
       "0.22        34\n",
       "0.01        32\n",
       "0.29        26\n",
       "0.40        25\n",
       "0.18        24\n",
       "0.75        19\n",
       "0.80        18\n",
       "0.83        18\n",
       "0.91        16\n",
       "         ...  \n",
       "0.63         4\n",
       "0.32         4\n",
       "0.64         3\n",
       "0.78         3\n",
       "0.44         3\n",
       "0.42         3\n",
       "0.73         3\n",
       "0.46         3\n",
       "0.84         3\n",
       "0.24         3\n",
       "0.82         3\n",
       "0.65         3\n",
       "0.34         2\n",
       "0.61         2\n",
       "0.55         2\n",
       "0.74         2\n",
       "0.28         2\n",
       "0.72         2\n",
       "0.81         2\n",
       "0.79         2\n",
       "0.45         2\n",
       "0.48         2\n",
       "0.70         1\n",
       "0.54         1\n",
       "0.47         1\n",
       "0.96         1\n",
       "0.31         1\n",
       "0.68         1\n",
       "0.51         1\n",
       "0.77         1\n",
       "Name: srv_serror_rate, Length: 94, dtype: int64"
      ]
     },
     "execution_count": 870,
     "metadata": {},
     "output_type": "execute_result"
    }
   ],
   "source": [
    "telco['srv_serror_rate'].value_counts()"
   ]
  },
  {
   "cell_type": "code",
   "execution_count": 871,
   "metadata": {},
   "outputs": [],
   "source": [
    "temp = (telco['srv_serror_rate'].unique()).tolist()\n",
    "temp.remove(0.00)\n",
    "temp.remove(1.00)\n",
    "telco['srv_serror_rate']= telco['srv_serror_rate'].replace([(temp)],\"srv_serror_rate_0_to_1\")"
   ]
  },
  {
   "cell_type": "code",
   "execution_count": 872,
   "metadata": {},
   "outputs": [
    {
     "data": {
      "text/plain": [
       "0.0                       108383\n",
       "1.0                        37039\n",
       "srv_serror_rate_0_to_1      3093\n",
       "Name: srv_serror_rate, dtype: int64"
      ]
     },
     "execution_count": 872,
     "metadata": {},
     "output_type": "execute_result"
    }
   ],
   "source": [
    "telco['srv_serror_rate'].value_counts()"
   ]
  },
  {
   "cell_type": "code",
   "execution_count": 873,
   "metadata": {},
   "outputs": [],
   "source": [
    "srv_serr_rate = pd.get_dummies(telco['srv_serror_rate'],drop_first=False)"
   ]
  },
  {
   "cell_type": "code",
   "execution_count": 874,
   "metadata": {},
   "outputs": [],
   "source": [
    "srv_serr_rate.drop(['srv_serror_rate_0_to_1'],axis=1,inplace=True)"
   ]
  },
  {
   "cell_type": "code",
   "execution_count": 875,
   "metadata": {},
   "outputs": [],
   "source": [
    "telco= pd.concat([telco,srv_serr_rate],axis=1)"
   ]
  },
  {
   "cell_type": "code",
   "execution_count": 876,
   "metadata": {},
   "outputs": [],
   "source": [
    "telco = telco.rename(index=str, columns={0.0:\"srv_serror_rate_0\",1.00:\"srv_serror_rate_1\"})"
   ]
  },
  {
   "cell_type": "code",
   "execution_count": 877,
   "metadata": {},
   "outputs": [],
   "source": [
    "telco.drop(['srv_serror_rate'],axis=1,inplace=True)"
   ]
  },
  {
   "cell_type": "code",
   "execution_count": 878,
   "metadata": {
    "scrolled": true
   },
   "outputs": [
    {
     "name": "stdout",
     "output_type": "stream",
     "text": [
      "<class 'pandas.core.frame.DataFrame'>\n",
      "Index: 148515 entries, 0 to 22542\n",
      "Data columns (total 49 columns):\n",
      "duration                       148515 non-null int64\n",
      "src_bytes                      148515 non-null int64\n",
      "dst_bytes                      148515 non-null int64\n",
      "land                           148515 non-null int64\n",
      "urgent                         148515 non-null int64\n",
      "hot                            148515 non-null int64\n",
      "num_failed_logins              148515 non-null int64\n",
      "logged_in                      148515 non-null int64\n",
      "num_compromised                148515 non-null int64\n",
      "root_shell                     148515 non-null int64\n",
      "su_attempted                   148515 non-null int64\n",
      "num_root                       148515 non-null int64\n",
      "num_file_creations             148515 non-null int64\n",
      "num_shells                     148515 non-null int64\n",
      "num_access_files               148515 non-null int64\n",
      "is_guest_login                 148515 non-null int64\n",
      "rerror_rate                    148515 non-null float64\n",
      "srv_rerror_rate                148515 non-null float64\n",
      "same_srv_rate                  148515 non-null float64\n",
      "diff_srv_rate                  148515 non-null float64\n",
      "srv_diff_host_rate             148515 non-null float64\n",
      "dst_host_count                 148515 non-null int64\n",
      "dst_host_srv_count             148515 non-null int64\n",
      "dst_host_same_srv_rate         148515 non-null float64\n",
      "dst_host_diff_srv_rate         148515 non-null float64\n",
      "dst_host_same_src_port_rate    148515 non-null float64\n",
      "dst_host_srv_diff_host_rate    148515 non-null float64\n",
      "dst_host_serror_rate           148515 non-null float64\n",
      "dst_host_srv_serror_rate       148515 non-null float64\n",
      "dst_host_rerror_rate           148515 non-null float64\n",
      "dst_host_srv_rerror_rate       148515 non-null float64\n",
      "attack                         148515 non-null object\n",
      "last_flag                      148515 non-null int64\n",
      "service_http                   148515 non-null uint8\n",
      "service_private                148515 non-null uint8\n",
      "prtcl_type_tcp                 148515 non-null uint8\n",
      "prtcl_type_udp                 148515 non-null uint8\n",
      "flag_REJ                       148515 non-null uint8\n",
      "flag_S0                        148515 non-null uint8\n",
      "flag_SF                        148515 non-null uint8\n",
      "wrng_frgmt_1                   148515 non-null uint8\n",
      "wrng_frgmt_3                   148515 non-null uint8\n",
      "count_1                        148515 non-null uint8\n",
      "count_2_to_10                  148515 non-null uint8\n",
      "srv_count<10                   148515 non-null uint8\n",
      "serror_rate_0                  148515 non-null uint8\n",
      "serror_rate_1                  148515 non-null uint8\n",
      "srv_serror_rate_0              148515 non-null uint8\n",
      "srv_serror_rate_1              148515 non-null uint8\n",
      "dtypes: float64(13), int64(19), object(1), uint8(16)\n",
      "memory usage: 40.8+ MB\n"
     ]
    }
   ],
   "source": [
    "telco.info()"
   ]
  },
  {
   "cell_type": "code",
   "execution_count": 879,
   "metadata": {
    "scrolled": true
   },
   "outputs": [
    {
     "data": {
      "text/plain": [
       "0.00    126563\n",
       "1.00     17057\n",
       "0.90       296\n",
       "0.92       286\n",
       "0.93       281\n",
       "0.50       276\n",
       "0.91       235\n",
       "0.95       219\n",
       "0.89       213\n",
       "0.94       185\n",
       "0.88       171\n",
       "0.96       162\n",
       "0.97       146\n",
       "0.33       144\n",
       "0.25       130\n",
       "0.75       118\n",
       "0.86       118\n",
       "0.98       111\n",
       "0.67       110\n",
       "0.87       106\n",
       "0.03        99\n",
       "0.85        91\n",
       "0.02        77\n",
       "0.20        76\n",
       "0.99        74\n",
       "0.82        72\n",
       "0.83        71\n",
       "0.80        70\n",
       "0.84        65\n",
       "0.01        61\n",
       "         ...  \n",
       "0.57         7\n",
       "0.34         7\n",
       "0.19         6\n",
       "0.70         6\n",
       "0.43         6\n",
       "0.28         6\n",
       "0.24         6\n",
       "0.13         6\n",
       "0.30         6\n",
       "0.16         5\n",
       "0.74         5\n",
       "0.72         4\n",
       "0.58         4\n",
       "0.44         4\n",
       "0.52         4\n",
       "0.65         4\n",
       "0.63         3\n",
       "0.41         3\n",
       "0.54         3\n",
       "0.39         3\n",
       "0.47         2\n",
       "0.61         2\n",
       "0.59         2\n",
       "0.42         2\n",
       "0.68         2\n",
       "0.55         2\n",
       "0.48         1\n",
       "0.49         1\n",
       "0.66         1\n",
       "0.45         1\n",
       "Name: rerror_rate, Length: 98, dtype: int64"
      ]
     },
     "execution_count": 879,
     "metadata": {},
     "output_type": "execute_result"
    }
   ],
   "source": [
    "telco['rerror_rate'].value_counts()"
   ]
  },
  {
   "cell_type": "code",
   "execution_count": 880,
   "metadata": {},
   "outputs": [],
   "source": [
    "temp = (telco['rerror_rate'].unique()).tolist()\n",
    "temp.remove(0.00)\n",
    "temp.remove(1.00)\n",
    "telco['rerror_rate']= telco['rerror_rate'].replace([(temp)],\"rerror_rate_0_to_1\")"
   ]
  },
  {
   "cell_type": "code",
   "execution_count": 881,
   "metadata": {},
   "outputs": [
    {
     "data": {
      "text/plain": [
       "0.0                   126563\n",
       "1.0                    17057\n",
       "rerror_rate_0_to_1      4895\n",
       "Name: rerror_rate, dtype: int64"
      ]
     },
     "execution_count": 881,
     "metadata": {},
     "output_type": "execute_result"
    }
   ],
   "source": [
    "telco['rerror_rate'].value_counts()"
   ]
  },
  {
   "cell_type": "code",
   "execution_count": 882,
   "metadata": {},
   "outputs": [],
   "source": [
    "rerr_rate = pd.get_dummies(telco['rerror_rate'],drop_first=False)"
   ]
  },
  {
   "cell_type": "code",
   "execution_count": 883,
   "metadata": {},
   "outputs": [],
   "source": [
    "rerr_rate.drop(['rerror_rate_0_to_1'],axis=1,inplace=True)"
   ]
  },
  {
   "cell_type": "code",
   "execution_count": 884,
   "metadata": {},
   "outputs": [],
   "source": [
    "telco= pd.concat([telco,rerr_rate],axis=1)"
   ]
  },
  {
   "cell_type": "code",
   "execution_count": 885,
   "metadata": {},
   "outputs": [],
   "source": [
    "telco = telco.rename(index=str, columns={0.0:\"rerror_rate_0\",1.00:\"rerror_rate_1\"})"
   ]
  },
  {
   "cell_type": "code",
   "execution_count": 886,
   "metadata": {},
   "outputs": [],
   "source": [
    "telco.drop(['rerror_rate'],axis=1,inplace=True)"
   ]
  },
  {
   "cell_type": "code",
   "execution_count": 887,
   "metadata": {
    "scrolled": true
   },
   "outputs": [
    {
     "data": {
      "text/plain": [
       "0.00    126662\n",
       "1.00     19524\n",
       "0.50       346\n",
       "0.33       210\n",
       "0.25       138\n",
       "0.20       111\n",
       "0.67       104\n",
       "0.17        85\n",
       "0.97        76\n",
       "0.04        51\n",
       "0.98        50\n",
       "0.03        49\n",
       "0.14        49\n",
       "0.40        46\n",
       "0.12        44\n",
       "0.02        43\n",
       "0.05        42\n",
       "0.75        42\n",
       "0.08        42\n",
       "0.06        35\n",
       "0.83        34\n",
       "0.10        32\n",
       "0.07        31\n",
       "0.11        29\n",
       "0.80        29\n",
       "0.94        27\n",
       "0.60        27\n",
       "0.09        25\n",
       "0.88        23\n",
       "0.96        22\n",
       "         ...  \n",
       "0.87         4\n",
       "0.74         4\n",
       "0.42         4\n",
       "0.53         4\n",
       "0.68         4\n",
       "0.61         3\n",
       "0.59         3\n",
       "0.01         3\n",
       "0.37         3\n",
       "0.15         3\n",
       "0.27         3\n",
       "0.16         3\n",
       "0.52         2\n",
       "0.35         2\n",
       "0.18         2\n",
       "0.30         2\n",
       "0.54         2\n",
       "0.21         2\n",
       "0.65         2\n",
       "0.48         2\n",
       "0.39         1\n",
       "0.23         1\n",
       "0.46         1\n",
       "0.34         1\n",
       "0.28         1\n",
       "0.31         1\n",
       "0.24         1\n",
       "0.26         1\n",
       "0.41         1\n",
       "0.51         1\n",
       "Name: srv_rerror_rate, Length: 95, dtype: int64"
      ]
     },
     "execution_count": 887,
     "metadata": {},
     "output_type": "execute_result"
    }
   ],
   "source": [
    "telco['srv_rerror_rate'].value_counts()"
   ]
  },
  {
   "cell_type": "code",
   "execution_count": 888,
   "metadata": {},
   "outputs": [],
   "source": [
    "temp = (telco['srv_rerror_rate'].unique()).tolist()\n",
    "temp.remove(0.00)\n",
    "temp.remove(1.00)\n",
    "telco['srv_rerror_rate']= telco['srv_rerror_rate'].replace([(temp)],\"srv_rerror_rate_0_to_1\")"
   ]
  },
  {
   "cell_type": "code",
   "execution_count": 889,
   "metadata": {},
   "outputs": [
    {
     "data": {
      "text/plain": [
       "0.0                       126662\n",
       "1.0                        19524\n",
       "srv_rerror_rate_0_to_1      2329\n",
       "Name: srv_rerror_rate, dtype: int64"
      ]
     },
     "execution_count": 889,
     "metadata": {},
     "output_type": "execute_result"
    }
   ],
   "source": [
    "telco['srv_rerror_rate'].value_counts()"
   ]
  },
  {
   "cell_type": "code",
   "execution_count": 890,
   "metadata": {},
   "outputs": [],
   "source": [
    "srv_rerr_rate = pd.get_dummies(telco['srv_rerror_rate'],drop_first=False)"
   ]
  },
  {
   "cell_type": "code",
   "execution_count": 891,
   "metadata": {},
   "outputs": [],
   "source": [
    "srv_rerr_rate.drop(['srv_rerror_rate_0_to_1'],axis=1,inplace=True) "
   ]
  },
  {
   "cell_type": "code",
   "execution_count": 892,
   "metadata": {},
   "outputs": [],
   "source": [
    "telco= pd.concat([telco,srv_rerr_rate],axis=1)"
   ]
  },
  {
   "cell_type": "code",
   "execution_count": 893,
   "metadata": {},
   "outputs": [],
   "source": [
    "telco = telco.rename(index=str, columns={0.0:\"srv_rerror_rate_0\",1.00:\"srv_rerror_rate_1\"})"
   ]
  },
  {
   "cell_type": "code",
   "execution_count": 894,
   "metadata": {
    "scrolled": true
   },
   "outputs": [
    {
     "name": "stdout",
     "output_type": "stream",
     "text": [
      "<class 'pandas.core.frame.DataFrame'>\n",
      "Index: 148515 entries, 0 to 22542\n",
      "Data columns (total 52 columns):\n",
      "duration                       148515 non-null int64\n",
      "src_bytes                      148515 non-null int64\n",
      "dst_bytes                      148515 non-null int64\n",
      "land                           148515 non-null int64\n",
      "urgent                         148515 non-null int64\n",
      "hot                            148515 non-null int64\n",
      "num_failed_logins              148515 non-null int64\n",
      "logged_in                      148515 non-null int64\n",
      "num_compromised                148515 non-null int64\n",
      "root_shell                     148515 non-null int64\n",
      "su_attempted                   148515 non-null int64\n",
      "num_root                       148515 non-null int64\n",
      "num_file_creations             148515 non-null int64\n",
      "num_shells                     148515 non-null int64\n",
      "num_access_files               148515 non-null int64\n",
      "is_guest_login                 148515 non-null int64\n",
      "srv_rerror_rate                148515 non-null object\n",
      "same_srv_rate                  148515 non-null float64\n",
      "diff_srv_rate                  148515 non-null float64\n",
      "srv_diff_host_rate             148515 non-null float64\n",
      "dst_host_count                 148515 non-null int64\n",
      "dst_host_srv_count             148515 non-null int64\n",
      "dst_host_same_srv_rate         148515 non-null float64\n",
      "dst_host_diff_srv_rate         148515 non-null float64\n",
      "dst_host_same_src_port_rate    148515 non-null float64\n",
      "dst_host_srv_diff_host_rate    148515 non-null float64\n",
      "dst_host_serror_rate           148515 non-null float64\n",
      "dst_host_srv_serror_rate       148515 non-null float64\n",
      "dst_host_rerror_rate           148515 non-null float64\n",
      "dst_host_srv_rerror_rate       148515 non-null float64\n",
      "attack                         148515 non-null object\n",
      "last_flag                      148515 non-null int64\n",
      "service_http                   148515 non-null uint8\n",
      "service_private                148515 non-null uint8\n",
      "prtcl_type_tcp                 148515 non-null uint8\n",
      "prtcl_type_udp                 148515 non-null uint8\n",
      "flag_REJ                       148515 non-null uint8\n",
      "flag_S0                        148515 non-null uint8\n",
      "flag_SF                        148515 non-null uint8\n",
      "wrng_frgmt_1                   148515 non-null uint8\n",
      "wrng_frgmt_3                   148515 non-null uint8\n",
      "count_1                        148515 non-null uint8\n",
      "count_2_to_10                  148515 non-null uint8\n",
      "srv_count<10                   148515 non-null uint8\n",
      "serror_rate_0                  148515 non-null uint8\n",
      "serror_rate_1                  148515 non-null uint8\n",
      "srv_serror_rate_0              148515 non-null uint8\n",
      "srv_serror_rate_1              148515 non-null uint8\n",
      "rerror_rate_0                  148515 non-null uint8\n",
      "rerror_rate_1                  148515 non-null uint8\n",
      "srv_rerror_rate_0              148515 non-null uint8\n",
      "srv_rerror_rate_1              148515 non-null uint8\n",
      "dtypes: float64(11), int64(19), object(2), uint8(20)\n",
      "memory usage: 40.2+ MB\n"
     ]
    }
   ],
   "source": [
    "telco.info()"
   ]
  },
  {
   "cell_type": "code",
   "execution_count": 895,
   "metadata": {
    "scrolled": true
   },
   "outputs": [
    {
     "data": {
      "text/plain": [
       "1.00    92671\n",
       "0.01     4659\n",
       "0.02     4126\n",
       "0.03     3990\n",
       "0.07     3889\n",
       "0.06     3666\n",
       "0.04     3662\n",
       "0.05     3534\n",
       "0.00     3510\n",
       "0.08     3135\n",
       "0.09     2163\n",
       "0.50     2127\n",
       "0.10     1606\n",
       "0.12     1412\n",
       "0.13     1341\n",
       "0.14     1315\n",
       "0.11     1289\n",
       "0.99      839\n",
       "0.15      816\n",
       "0.33      814\n",
       "0.17      697\n",
       "0.25      691\n",
       "0.16      620\n",
       "0.20      604\n",
       "0.18      421\n",
       "0.24      320\n",
       "0.19      301\n",
       "0.22      286\n",
       "0.67      271\n",
       "0.23      267\n",
       "        ...  \n",
       "0.89       21\n",
       "0.57       21\n",
       "0.64       21\n",
       "0.54       20\n",
       "0.90       19\n",
       "0.73       18\n",
       "0.71       17\n",
       "0.96       16\n",
       "0.87       16\n",
       "0.95       16\n",
       "0.69       15\n",
       "0.58       12\n",
       "0.85       12\n",
       "0.65       11\n",
       "0.74       11\n",
       "0.59       10\n",
       "0.70       10\n",
       "0.51       10\n",
       "0.78        9\n",
       "0.72        9\n",
       "0.84        9\n",
       "0.61        8\n",
       "0.66        7\n",
       "0.77        7\n",
       "0.68        6\n",
       "0.79        6\n",
       "0.82        6\n",
       "0.63        4\n",
       "0.81        4\n",
       "0.76        4\n",
       "Name: same_srv_rate, Length: 101, dtype: int64"
      ]
     },
     "execution_count": 895,
     "metadata": {},
     "output_type": "execute_result"
    }
   ],
   "source": [
    "telco['same_srv_rate'].value_counts()"
   ]
  },
  {
   "cell_type": "code",
   "execution_count": 896,
   "metadata": {},
   "outputs": [],
   "source": [
    "temp = (telco['same_srv_rate'].unique()).tolist()\n",
    "temp.remove(1.00)\n",
    "telco['same_srv_rate']= telco['same_srv_rate'].replace([(temp)],0)"
   ]
  },
  {
   "cell_type": "code",
   "execution_count": 897,
   "metadata": {},
   "outputs": [
    {
     "data": {
      "text/plain": [
       "1.0    92671\n",
       "0.0    55844\n",
       "Name: same_srv_rate, dtype: int64"
      ]
     },
     "execution_count": 897,
     "metadata": {},
     "output_type": "execute_result"
    }
   ],
   "source": [
    "telco['same_srv_rate'].value_counts()"
   ]
  },
  {
   "cell_type": "code",
   "execution_count": 898,
   "metadata": {},
   "outputs": [],
   "source": [
    "same_serv_rte = pd.get_dummies(telco['same_srv_rate'],drop_first=False)"
   ]
  },
  {
   "cell_type": "code",
   "execution_count": 899,
   "metadata": {},
   "outputs": [],
   "source": [
    "same_serv_rte.drop([0.0],axis=1,inplace=True)"
   ]
  },
  {
   "cell_type": "code",
   "execution_count": 900,
   "metadata": {},
   "outputs": [],
   "source": [
    "telco=pd.concat([telco,same_serv_rte],axis=1)"
   ]
  },
  {
   "cell_type": "code",
   "execution_count": 901,
   "metadata": {},
   "outputs": [],
   "source": [
    "telco.drop(['same_srv_rate'],axis=1,inplace=True)"
   ]
  },
  {
   "cell_type": "code",
   "execution_count": 902,
   "metadata": {},
   "outputs": [],
   "source": [
    "telco = telco.rename(index=str, columns={1.0:\"same_srv_rate_1\"})"
   ]
  },
  {
   "cell_type": "code",
   "execution_count": 903,
   "metadata": {
    "scrolled": true
   },
   "outputs": [
    {
     "data": {
      "text/plain": [
       "0.00    92063\n",
       "0.06    21197\n",
       "0.07    10867\n",
       "0.05     7134\n",
       "1.00     4825\n",
       "0.08     2232\n",
       "0.01     1064\n",
       "0.09      865\n",
       "0.04      627\n",
       "0.50      598\n",
       "0.67      553\n",
       "0.10      546\n",
       "0.11      407\n",
       "0.12      403\n",
       "0.02      302\n",
       "0.03      289\n",
       "0.60      276\n",
       "0.29      240\n",
       "0.14      238\n",
       "0.33      226\n",
       "0.13      225\n",
       "0.15      206\n",
       "0.17      202\n",
       "0.40      193\n",
       "0.25      189\n",
       "0.75      167\n",
       "0.52      157\n",
       "0.18      151\n",
       "0.20      150\n",
       "0.22      129\n",
       "        ...  \n",
       "0.62       12\n",
       "0.78       11\n",
       "0.73       10\n",
       "0.47       10\n",
       "0.77        9\n",
       "0.70        9\n",
       "0.76        8\n",
       "0.63        8\n",
       "0.61        8\n",
       "0.59        8\n",
       "0.65        8\n",
       "0.87        7\n",
       "0.48        6\n",
       "0.94        6\n",
       "0.81        6\n",
       "0.91        6\n",
       "0.86        6\n",
       "0.68        5\n",
       "0.90        5\n",
       "0.85        5\n",
       "0.89        5\n",
       "0.79        4\n",
       "0.84        4\n",
       "0.34        4\n",
       "0.74        4\n",
       "0.93        4\n",
       "0.92        4\n",
       "0.72        3\n",
       "0.49        2\n",
       "0.66        2\n",
       "Name: diff_srv_rate, Length: 101, dtype: int64"
      ]
     },
     "execution_count": 903,
     "metadata": {},
     "output_type": "execute_result"
    }
   ],
   "source": [
    "telco['diff_srv_rate'].value_counts()"
   ]
  },
  {
   "cell_type": "code",
   "execution_count": 904,
   "metadata": {},
   "outputs": [],
   "source": [
    "temp = (telco['diff_srv_rate'].unique()).tolist()\n",
    "temp.remove(0.00)\n",
    "telco['diff_srv_rate']= telco['diff_srv_rate'].replace([(temp)],1.0)"
   ]
  },
  {
   "cell_type": "code",
   "execution_count": 905,
   "metadata": {},
   "outputs": [
    {
     "data": {
      "text/plain": [
       "0.0    92063\n",
       "1.0    56452\n",
       "Name: diff_srv_rate, dtype: int64"
      ]
     },
     "execution_count": 905,
     "metadata": {},
     "output_type": "execute_result"
    }
   ],
   "source": [
    "telco['diff_srv_rate'].value_counts()"
   ]
  },
  {
   "cell_type": "code",
   "execution_count": 906,
   "metadata": {},
   "outputs": [],
   "source": [
    "diff_serv_rte = pd.get_dummies(telco['diff_srv_rate'],drop_first=False)"
   ]
  },
  {
   "cell_type": "code",
   "execution_count": 907,
   "metadata": {},
   "outputs": [],
   "source": [
    "diff_serv_rte.drop([1.0],axis=1,inplace=True)"
   ]
  },
  {
   "cell_type": "code",
   "execution_count": 908,
   "metadata": {},
   "outputs": [],
   "source": [
    "telco=pd.concat([telco,diff_serv_rte],axis=1)"
   ]
  },
  {
   "cell_type": "code",
   "execution_count": 909,
   "metadata": {},
   "outputs": [],
   "source": [
    "telco.drop(['diff_srv_rate'],axis=1,inplace=True)"
   ]
  },
  {
   "cell_type": "code",
   "execution_count": 910,
   "metadata": {},
   "outputs": [],
   "source": [
    "telco = telco.rename(index=str, columns={0.0:\"diff_srv_rate_0\"})"
   ]
  },
  {
   "cell_type": "code",
   "execution_count": 911,
   "metadata": {
    "scrolled": true
   },
   "outputs": [
    {
     "data": {
      "text/plain": [
       "0.00    115141\n",
       "1.00      9366\n",
       "0.01      3110\n",
       "0.67      1198\n",
       "0.50      1190\n",
       "0.12      1102\n",
       "0.33       945\n",
       "0.11       867\n",
       "0.10       860\n",
       "0.25       850\n",
       "0.14       801\n",
       "0.02       797\n",
       "0.17       751\n",
       "0.40       750\n",
       "0.08       749\n",
       "0.15       737\n",
       "0.09       733\n",
       "0.20       719\n",
       "0.18       708\n",
       "0.29       691\n",
       "0.22       652\n",
       "0.07       627\n",
       "0.06       593\n",
       "0.13       555\n",
       "0.05       392\n",
       "0.19       301\n",
       "0.75       292\n",
       "0.21       265\n",
       "0.27       256\n",
       "0.60       241\n",
       "         ...  \n",
       "0.92         8\n",
       "0.95         7\n",
       "0.94         6\n",
       "0.78         6\n",
       "0.64         5\n",
       "0.86         5\n",
       "0.54         4\n",
       "0.47         4\n",
       "0.90         4\n",
       "0.96         4\n",
       "0.58         3\n",
       "0.87         3\n",
       "0.93         3\n",
       "0.37         3\n",
       "0.79         3\n",
       "0.73         2\n",
       "0.46         2\n",
       "0.69         2\n",
       "0.76         2\n",
       "0.70         2\n",
       "0.53         2\n",
       "0.74         2\n",
       "0.84         1\n",
       "0.82         1\n",
       "0.39         1\n",
       "0.66         1\n",
       "0.41         1\n",
       "0.63         1\n",
       "0.61         1\n",
       "0.65         1\n",
       "Name: srv_diff_host_rate, Length: 87, dtype: int64"
      ]
     },
     "execution_count": 911,
     "metadata": {},
     "output_type": "execute_result"
    }
   ],
   "source": [
    "telco['srv_diff_host_rate'].value_counts()"
   ]
  },
  {
   "cell_type": "code",
   "execution_count": 912,
   "metadata": {},
   "outputs": [],
   "source": [
    "temp = (telco['srv_diff_host_rate'].unique()).tolist()\n",
    "temp.remove(0.00)\n",
    "temp.remove(1.00)\n",
    "telco['srv_diff_host_rate']= telco['srv_diff_host_rate'].replace([(temp)],\"srv_diff_host_rate_0_t0_1\")"
   ]
  },
  {
   "cell_type": "code",
   "execution_count": 913,
   "metadata": {},
   "outputs": [
    {
     "data": {
      "text/plain": [
       "0.0                          115141\n",
       "srv_diff_host_rate_0_t0_1     24008\n",
       "1.0                            9366\n",
       "Name: srv_diff_host_rate, dtype: int64"
      ]
     },
     "execution_count": 913,
     "metadata": {},
     "output_type": "execute_result"
    }
   ],
   "source": [
    "telco['srv_diff_host_rate'].value_counts()"
   ]
  },
  {
   "cell_type": "code",
   "execution_count": 914,
   "metadata": {},
   "outputs": [],
   "source": [
    "srv_diff_host_rte = pd.get_dummies(telco['srv_diff_host_rate'],drop_first=False)"
   ]
  },
  {
   "cell_type": "code",
   "execution_count": 915,
   "metadata": {},
   "outputs": [],
   "source": [
    "srv_diff_host_rte.drop(['srv_diff_host_rate_0_t0_1'],axis=1,inplace=True)"
   ]
  },
  {
   "cell_type": "code",
   "execution_count": 916,
   "metadata": {},
   "outputs": [],
   "source": [
    "telco= pd.concat([telco,srv_diff_host_rte],axis=1)"
   ]
  },
  {
   "cell_type": "code",
   "execution_count": 917,
   "metadata": {},
   "outputs": [],
   "source": [
    "telco = telco.rename(index=str, columns={0.0:\"srv_diff_host_rate_0\",1.00:\"srv_diff_host_rate_1\"})"
   ]
  },
  {
   "cell_type": "code",
   "execution_count": 918,
   "metadata": {},
   "outputs": [],
   "source": [
    "telco.drop(['srv_diff_host_rate'],axis=1,inplace=True)"
   ]
  },
  {
   "cell_type": "code",
   "execution_count": 919,
   "metadata": {
    "scrolled": true
   },
   "outputs": [
    {
     "name": "stdout",
     "output_type": "stream",
     "text": [
      "<class 'pandas.core.frame.DataFrame'>\n",
      "Index: 148515 entries, 0 to 22542\n",
      "Data columns (total 53 columns):\n",
      "duration                       148515 non-null int64\n",
      "src_bytes                      148515 non-null int64\n",
      "dst_bytes                      148515 non-null int64\n",
      "land                           148515 non-null int64\n",
      "urgent                         148515 non-null int64\n",
      "hot                            148515 non-null int64\n",
      "num_failed_logins              148515 non-null int64\n",
      "logged_in                      148515 non-null int64\n",
      "num_compromised                148515 non-null int64\n",
      "root_shell                     148515 non-null int64\n",
      "su_attempted                   148515 non-null int64\n",
      "num_root                       148515 non-null int64\n",
      "num_file_creations             148515 non-null int64\n",
      "num_shells                     148515 non-null int64\n",
      "num_access_files               148515 non-null int64\n",
      "is_guest_login                 148515 non-null int64\n",
      "srv_rerror_rate                148515 non-null object\n",
      "dst_host_count                 148515 non-null int64\n",
      "dst_host_srv_count             148515 non-null int64\n",
      "dst_host_same_srv_rate         148515 non-null float64\n",
      "dst_host_diff_srv_rate         148515 non-null float64\n",
      "dst_host_same_src_port_rate    148515 non-null float64\n",
      "dst_host_srv_diff_host_rate    148515 non-null float64\n",
      "dst_host_serror_rate           148515 non-null float64\n",
      "dst_host_srv_serror_rate       148515 non-null float64\n",
      "dst_host_rerror_rate           148515 non-null float64\n",
      "dst_host_srv_rerror_rate       148515 non-null float64\n",
      "attack                         148515 non-null object\n",
      "last_flag                      148515 non-null int64\n",
      "service_http                   148515 non-null uint8\n",
      "service_private                148515 non-null uint8\n",
      "prtcl_type_tcp                 148515 non-null uint8\n",
      "prtcl_type_udp                 148515 non-null uint8\n",
      "flag_REJ                       148515 non-null uint8\n",
      "flag_S0                        148515 non-null uint8\n",
      "flag_SF                        148515 non-null uint8\n",
      "wrng_frgmt_1                   148515 non-null uint8\n",
      "wrng_frgmt_3                   148515 non-null uint8\n",
      "count_1                        148515 non-null uint8\n",
      "count_2_to_10                  148515 non-null uint8\n",
      "srv_count<10                   148515 non-null uint8\n",
      "serror_rate_0                  148515 non-null uint8\n",
      "serror_rate_1                  148515 non-null uint8\n",
      "srv_serror_rate_0              148515 non-null uint8\n",
      "srv_serror_rate_1              148515 non-null uint8\n",
      "rerror_rate_0                  148515 non-null uint8\n",
      "rerror_rate_1                  148515 non-null uint8\n",
      "srv_rerror_rate_0              148515 non-null uint8\n",
      "srv_rerror_rate_1              148515 non-null uint8\n",
      "same_srv_rate_1                148515 non-null uint8\n",
      "diff_srv_rate_0                148515 non-null uint8\n",
      "srv_diff_host_rate_0           148515 non-null uint8\n",
      "srv_diff_host_rate_1           148515 non-null uint8\n",
      "dtypes: float64(8), int64(19), object(2), uint8(24)\n",
      "memory usage: 37.4+ MB\n"
     ]
    }
   ],
   "source": [
    "telco.info()"
   ]
  },
  {
   "cell_type": "code",
   "execution_count": 920,
   "metadata": {
    "scrolled": true
   },
   "outputs": [
    {
     "data": {
      "text/plain": [
       "255    88735\n",
       "1       3485\n",
       "2       2969\n",
       "3       1480\n",
       "4       1380\n",
       "5        838\n",
       "6        820\n",
       "7        755\n",
       "8        709\n",
       "9        676\n",
       "11       640\n",
       "10       627\n",
       "12       594\n",
       "13       547\n",
       "14       510\n",
       "15       481\n",
       "20       468\n",
       "16       460\n",
       "18       458\n",
       "19       446\n",
       "21       444\n",
       "17       439\n",
       "22       419\n",
       "24       407\n",
       "25       404\n",
       "23       403\n",
       "27       392\n",
       "26       388\n",
       "28       381\n",
       "31       368\n",
       "       ...  \n",
       "231      107\n",
       "238      106\n",
       "237      106\n",
       "205      106\n",
       "221      105\n",
       "216      105\n",
       "241      105\n",
       "220      104\n",
       "209      104\n",
       "206      104\n",
       "245      103\n",
       "248      103\n",
       "253      103\n",
       "250      103\n",
       "219      101\n",
       "251      101\n",
       "244      101\n",
       "247      101\n",
       "224      100\n",
       "226       99\n",
       "236       99\n",
       "227       95\n",
       "242       95\n",
       "243       94\n",
       "252       92\n",
       "233       92\n",
       "249       91\n",
       "246       90\n",
       "254       83\n",
       "0          4\n",
       "Name: dst_host_count, Length: 256, dtype: int64"
      ]
     },
     "execution_count": 920,
     "metadata": {},
     "output_type": "execute_result"
    }
   ],
   "source": [
    "telco['dst_host_count'].value_counts()"
   ]
  },
  {
   "cell_type": "code",
   "execution_count": 921,
   "metadata": {},
   "outputs": [],
   "source": [
    "temp = (telco['dst_host_count'].unique()).tolist()\n",
    "temp.remove(255)\n",
    "telco['dst_host_count']= telco['dst_host_count'].replace([(temp)],\"dst_host_count_!255\")"
   ]
  },
  {
   "cell_type": "code",
   "execution_count": 922,
   "metadata": {},
   "outputs": [
    {
     "data": {
      "text/plain": [
       "255                    88735\n",
       "dst_host_count_!255    59780\n",
       "Name: dst_host_count, dtype: int64"
      ]
     },
     "execution_count": 922,
     "metadata": {},
     "output_type": "execute_result"
    }
   ],
   "source": [
    "telco['dst_host_count'].value_counts()"
   ]
  },
  {
   "cell_type": "code",
   "execution_count": 923,
   "metadata": {},
   "outputs": [],
   "source": [
    "dst_host_count = pd.get_dummies(telco['dst_host_count'],drop_first=False)"
   ]
  },
  {
   "cell_type": "code",
   "execution_count": 924,
   "metadata": {},
   "outputs": [],
   "source": [
    "dst_host_count.drop(['dst_host_count_!255'],axis=1,inplace=True)"
   ]
  },
  {
   "cell_type": "code",
   "execution_count": 925,
   "metadata": {},
   "outputs": [],
   "source": [
    "telco= pd.concat([telco,dst_host_count],axis=1)"
   ]
  },
  {
   "cell_type": "code",
   "execution_count": 926,
   "metadata": {},
   "outputs": [],
   "source": [
    "telco.drop(['dst_host_count'],axis=1,inplace=True)"
   ]
  },
  {
   "cell_type": "code",
   "execution_count": 927,
   "metadata": {},
   "outputs": [],
   "source": [
    "telco = telco.rename(index=str, columns={255:\"dst_host_count_255\"})"
   ]
  },
  {
   "cell_type": "code",
   "execution_count": 928,
   "metadata": {
    "scrolled": true
   },
   "outputs": [
    {
     "name": "stdout",
     "output_type": "stream",
     "text": [
      "<class 'pandas.core.frame.DataFrame'>\n",
      "Index: 148515 entries, 0 to 22542\n",
      "Data columns (total 53 columns):\n",
      "duration                       148515 non-null int64\n",
      "src_bytes                      148515 non-null int64\n",
      "dst_bytes                      148515 non-null int64\n",
      "land                           148515 non-null int64\n",
      "urgent                         148515 non-null int64\n",
      "hot                            148515 non-null int64\n",
      "num_failed_logins              148515 non-null int64\n",
      "logged_in                      148515 non-null int64\n",
      "num_compromised                148515 non-null int64\n",
      "root_shell                     148515 non-null int64\n",
      "su_attempted                   148515 non-null int64\n",
      "num_root                       148515 non-null int64\n",
      "num_file_creations             148515 non-null int64\n",
      "num_shells                     148515 non-null int64\n",
      "num_access_files               148515 non-null int64\n",
      "is_guest_login                 148515 non-null int64\n",
      "srv_rerror_rate                148515 non-null object\n",
      "dst_host_srv_count             148515 non-null int64\n",
      "dst_host_same_srv_rate         148515 non-null float64\n",
      "dst_host_diff_srv_rate         148515 non-null float64\n",
      "dst_host_same_src_port_rate    148515 non-null float64\n",
      "dst_host_srv_diff_host_rate    148515 non-null float64\n",
      "dst_host_serror_rate           148515 non-null float64\n",
      "dst_host_srv_serror_rate       148515 non-null float64\n",
      "dst_host_rerror_rate           148515 non-null float64\n",
      "dst_host_srv_rerror_rate       148515 non-null float64\n",
      "attack                         148515 non-null object\n",
      "last_flag                      148515 non-null int64\n",
      "service_http                   148515 non-null uint8\n",
      "service_private                148515 non-null uint8\n",
      "prtcl_type_tcp                 148515 non-null uint8\n",
      "prtcl_type_udp                 148515 non-null uint8\n",
      "flag_REJ                       148515 non-null uint8\n",
      "flag_S0                        148515 non-null uint8\n",
      "flag_SF                        148515 non-null uint8\n",
      "wrng_frgmt_1                   148515 non-null uint8\n",
      "wrng_frgmt_3                   148515 non-null uint8\n",
      "count_1                        148515 non-null uint8\n",
      "count_2_to_10                  148515 non-null uint8\n",
      "srv_count<10                   148515 non-null uint8\n",
      "serror_rate_0                  148515 non-null uint8\n",
      "serror_rate_1                  148515 non-null uint8\n",
      "srv_serror_rate_0              148515 non-null uint8\n",
      "srv_serror_rate_1              148515 non-null uint8\n",
      "rerror_rate_0                  148515 non-null uint8\n",
      "rerror_rate_1                  148515 non-null uint8\n",
      "srv_rerror_rate_0              148515 non-null uint8\n",
      "srv_rerror_rate_1              148515 non-null uint8\n",
      "same_srv_rate_1                148515 non-null uint8\n",
      "diff_srv_rate_0                148515 non-null uint8\n",
      "srv_diff_host_rate_0           148515 non-null uint8\n",
      "srv_diff_host_rate_1           148515 non-null uint8\n",
      "dst_host_count_255             148515 non-null uint8\n",
      "dtypes: float64(8), int64(18), object(2), uint8(25)\n",
      "memory usage: 36.4+ MB\n"
     ]
    }
   ],
   "source": [
    "telco.info()"
   ]
  },
  {
   "cell_type": "code",
   "execution_count": 929,
   "metadata": {
    "scrolled": true
   },
   "outputs": [
    {
     "data": {
      "text/plain": [
       "255    43521\n",
       "1      10044\n",
       "2       5556\n",
       "3       3109\n",
       "254     2845\n",
       "4       2836\n",
       "5       2648\n",
       "20      2593\n",
       "6       2530\n",
       "19      2466\n",
       "7       2432\n",
       "8       2380\n",
       "18      2319\n",
       "9       2251\n",
       "10      2213\n",
       "11      2187\n",
       "17      2162\n",
       "13      2111\n",
       "16      2106\n",
       "12      2098\n",
       "14      2093\n",
       "15      2026\n",
       "253      870\n",
       "25       786\n",
       "24       751\n",
       "22       720\n",
       "23       709\n",
       "21       702\n",
       "251      559\n",
       "245      411\n",
       "       ...  \n",
       "180      108\n",
       "199      108\n",
       "194      107\n",
       "215      106\n",
       "176      105\n",
       "212      105\n",
       "186      105\n",
       "198      103\n",
       "187      102\n",
       "204      100\n",
       "108       99\n",
       "159       99\n",
       "214       97\n",
       "197       95\n",
       "189       94\n",
       "213       94\n",
       "211       94\n",
       "206       92\n",
       "163       92\n",
       "221       91\n",
       "209       90\n",
       "222       90\n",
       "220       88\n",
       "184       87\n",
       "202       85\n",
       "188       85\n",
       "207       83\n",
       "205       83\n",
       "210       75\n",
       "0          4\n",
       "Name: dst_host_srv_count, Length: 256, dtype: int64"
      ]
     },
     "execution_count": 929,
     "metadata": {},
     "output_type": "execute_result"
    }
   ],
   "source": [
    "telco['dst_host_srv_count'].value_counts()"
   ]
  },
  {
   "cell_type": "code",
   "execution_count": 930,
   "metadata": {},
   "outputs": [],
   "source": [
    "temp = (telco['dst_host_srv_count'].unique()).tolist()\n",
    "temp.remove(255)\n",
    "temp.remove(254)\n",
    "telco['dst_host_srv_count']= telco['dst_host_srv_count'].replace([(temp)],\"dst_host_srv_count_!254&255\")"
   ]
  },
  {
   "cell_type": "code",
   "execution_count": 931,
   "metadata": {},
   "outputs": [
    {
     "data": {
      "text/plain": [
       "dst_host_srv_count_!254&255    102149\n",
       "255                             43521\n",
       "254                              2845\n",
       "Name: dst_host_srv_count, dtype: int64"
      ]
     },
     "execution_count": 931,
     "metadata": {},
     "output_type": "execute_result"
    }
   ],
   "source": [
    "telco['dst_host_srv_count'].value_counts()"
   ]
  },
  {
   "cell_type": "code",
   "execution_count": 932,
   "metadata": {},
   "outputs": [],
   "source": [
    "temp = (telco['dst_host_srv_count'].unique()).tolist()\n",
    "temp.remove(\"dst_host_srv_count_!254&255\")\n",
    "telco['dst_host_srv_count']= telco['dst_host_srv_count'].replace([(temp)],\"dst_host_srv_count_254&255\")"
   ]
  },
  {
   "cell_type": "code",
   "execution_count": 933,
   "metadata": {},
   "outputs": [
    {
     "data": {
      "text/plain": [
       "dst_host_srv_count_!254&255    102149\n",
       "dst_host_srv_count_254&255      46366\n",
       "Name: dst_host_srv_count, dtype: int64"
      ]
     },
     "execution_count": 933,
     "metadata": {},
     "output_type": "execute_result"
    }
   ],
   "source": [
    "telco['dst_host_srv_count'].value_counts()"
   ]
  },
  {
   "cell_type": "code",
   "execution_count": 934,
   "metadata": {},
   "outputs": [],
   "source": [
    "dst_host_srv_count = pd.get_dummies(telco['dst_host_srv_count'],drop_first=True)"
   ]
  },
  {
   "cell_type": "code",
   "execution_count": 935,
   "metadata": {},
   "outputs": [],
   "source": [
    "telco = pd.concat([telco,dst_host_srv_count],axis=1)"
   ]
  },
  {
   "cell_type": "code",
   "execution_count": 936,
   "metadata": {},
   "outputs": [],
   "source": [
    "telco.drop(['dst_host_srv_count'],axis=1,inplace=True)"
   ]
  },
  {
   "cell_type": "code",
   "execution_count": 937,
   "metadata": {},
   "outputs": [],
   "source": [
    "telco.drop(['srv_rerror_rate'],axis=1,inplace=True)"
   ]
  },
  {
   "cell_type": "code",
   "execution_count": 938,
   "metadata": {
    "scrolled": true
   },
   "outputs": [
    {
     "name": "stdout",
     "output_type": "stream",
     "text": [
      "<class 'pandas.core.frame.DataFrame'>\n",
      "Index: 148515 entries, 0 to 22542\n",
      "Data columns (total 52 columns):\n",
      "duration                       148515 non-null int64\n",
      "src_bytes                      148515 non-null int64\n",
      "dst_bytes                      148515 non-null int64\n",
      "land                           148515 non-null int64\n",
      "urgent                         148515 non-null int64\n",
      "hot                            148515 non-null int64\n",
      "num_failed_logins              148515 non-null int64\n",
      "logged_in                      148515 non-null int64\n",
      "num_compromised                148515 non-null int64\n",
      "root_shell                     148515 non-null int64\n",
      "su_attempted                   148515 non-null int64\n",
      "num_root                       148515 non-null int64\n",
      "num_file_creations             148515 non-null int64\n",
      "num_shells                     148515 non-null int64\n",
      "num_access_files               148515 non-null int64\n",
      "is_guest_login                 148515 non-null int64\n",
      "dst_host_same_srv_rate         148515 non-null float64\n",
      "dst_host_diff_srv_rate         148515 non-null float64\n",
      "dst_host_same_src_port_rate    148515 non-null float64\n",
      "dst_host_srv_diff_host_rate    148515 non-null float64\n",
      "dst_host_serror_rate           148515 non-null float64\n",
      "dst_host_srv_serror_rate       148515 non-null float64\n",
      "dst_host_rerror_rate           148515 non-null float64\n",
      "dst_host_srv_rerror_rate       148515 non-null float64\n",
      "attack                         148515 non-null object\n",
      "last_flag                      148515 non-null int64\n",
      "service_http                   148515 non-null uint8\n",
      "service_private                148515 non-null uint8\n",
      "prtcl_type_tcp                 148515 non-null uint8\n",
      "prtcl_type_udp                 148515 non-null uint8\n",
      "flag_REJ                       148515 non-null uint8\n",
      "flag_S0                        148515 non-null uint8\n",
      "flag_SF                        148515 non-null uint8\n",
      "wrng_frgmt_1                   148515 non-null uint8\n",
      "wrng_frgmt_3                   148515 non-null uint8\n",
      "count_1                        148515 non-null uint8\n",
      "count_2_to_10                  148515 non-null uint8\n",
      "srv_count<10                   148515 non-null uint8\n",
      "serror_rate_0                  148515 non-null uint8\n",
      "serror_rate_1                  148515 non-null uint8\n",
      "srv_serror_rate_0              148515 non-null uint8\n",
      "srv_serror_rate_1              148515 non-null uint8\n",
      "rerror_rate_0                  148515 non-null uint8\n",
      "rerror_rate_1                  148515 non-null uint8\n",
      "srv_rerror_rate_0              148515 non-null uint8\n",
      "srv_rerror_rate_1              148515 non-null uint8\n",
      "same_srv_rate_1                148515 non-null uint8\n",
      "diff_srv_rate_0                148515 non-null uint8\n",
      "srv_diff_host_rate_0           148515 non-null uint8\n",
      "srv_diff_host_rate_1           148515 non-null uint8\n",
      "dst_host_count_255             148515 non-null uint8\n",
      "dst_host_srv_count_254&255     148515 non-null uint8\n",
      "dtypes: float64(8), int64(17), object(1), uint8(26)\n",
      "memory usage: 34.3+ MB\n"
     ]
    }
   ],
   "source": [
    "telco.info()"
   ]
  },
  {
   "cell_type": "code",
   "execution_count": 939,
   "metadata": {
    "scrolled": true
   },
   "outputs": [
    {
     "data": {
      "text/plain": [
       "1.00    58859\n",
       "0.01     8492\n",
       "0.00     8304\n",
       "0.02     7462\n",
       "0.07     6478\n",
       "0.04     5947\n",
       "0.05     5705\n",
       "0.03     4571\n",
       "0.06     3920\n",
       "0.08     3126\n",
       "0.09     1815\n",
       "0.99     1224\n",
       "0.98     1033\n",
       "0.25      991\n",
       "0.10      945\n",
       "0.96      920\n",
       "0.24      749\n",
       "0.95      728\n",
       "0.11      660\n",
       "0.97      619\n",
       "0.22      555\n",
       "0.93      549\n",
       "0.89      520\n",
       "0.91      513\n",
       "0.12      511\n",
       "0.20      506\n",
       "0.13      504\n",
       "0.23      502\n",
       "0.15      502\n",
       "0.26      481\n",
       "        ...  \n",
       "0.45      259\n",
       "0.44      257\n",
       "0.60      255\n",
       "0.64      254\n",
       "0.32      249\n",
       "0.57      246\n",
       "0.81      245\n",
       "0.74      244\n",
       "0.30      244\n",
       "0.53      244\n",
       "0.55      243\n",
       "0.42      242\n",
       "0.51      236\n",
       "0.61      236\n",
       "0.77      233\n",
       "0.70      230\n",
       "0.39      229\n",
       "0.58      226\n",
       "0.68      224\n",
       "0.41      221\n",
       "0.54      220\n",
       "0.52      214\n",
       "0.46      214\n",
       "0.43      211\n",
       "0.63      210\n",
       "0.59      210\n",
       "0.48      208\n",
       "0.72      202\n",
       "0.37      196\n",
       "0.66      188\n",
       "Name: dst_host_same_srv_rate, Length: 101, dtype: int64"
      ]
     },
     "execution_count": 939,
     "metadata": {},
     "output_type": "execute_result"
    }
   ],
   "source": [
    "telco['dst_host_same_srv_rate'].value_counts()"
   ]
  },
  {
   "cell_type": "code",
   "execution_count": 940,
   "metadata": {},
   "outputs": [],
   "source": [
    "temp = (telco['dst_host_same_srv_rate'].unique()).tolist()\n",
    "temp.remove(1.00)\n",
    "telco['dst_host_same_srv_rate']= telco['dst_host_same_srv_rate'].replace([(temp)],\"dst_host_same_srv_rate!1.00\")"
   ]
  },
  {
   "cell_type": "code",
   "execution_count": 941,
   "metadata": {},
   "outputs": [
    {
     "data": {
      "text/plain": [
       "dst_host_same_srv_rate!1.00    89656\n",
       "1.0                            58859\n",
       "Name: dst_host_same_srv_rate, dtype: int64"
      ]
     },
     "execution_count": 941,
     "metadata": {},
     "output_type": "execute_result"
    }
   ],
   "source": [
    "telco['dst_host_same_srv_rate'].value_counts()"
   ]
  },
  {
   "cell_type": "code",
   "execution_count": 942,
   "metadata": {},
   "outputs": [],
   "source": [
    "dst_host_same_srv_rate = pd.get_dummies(telco['dst_host_same_srv_rate'],drop_first=True)"
   ]
  },
  {
   "cell_type": "code",
   "execution_count": 943,
   "metadata": {},
   "outputs": [],
   "source": [
    "telco= pd.concat([telco,dst_host_same_srv_rate],axis=1)"
   ]
  },
  {
   "cell_type": "code",
   "execution_count": 944,
   "metadata": {},
   "outputs": [],
   "source": [
    "telco.drop(['dst_host_same_srv_rate'],axis=1,inplace=True)"
   ]
  },
  {
   "cell_type": "code",
   "execution_count": 945,
   "metadata": {
    "scrolled": true
   },
   "outputs": [
    {
     "name": "stdout",
     "output_type": "stream",
     "text": [
      "<class 'pandas.core.frame.DataFrame'>\n",
      "Index: 148515 entries, 0 to 22542\n",
      "Data columns (total 52 columns):\n",
      "duration                       148515 non-null int64\n",
      "src_bytes                      148515 non-null int64\n",
      "dst_bytes                      148515 non-null int64\n",
      "land                           148515 non-null int64\n",
      "urgent                         148515 non-null int64\n",
      "hot                            148515 non-null int64\n",
      "num_failed_logins              148515 non-null int64\n",
      "logged_in                      148515 non-null int64\n",
      "num_compromised                148515 non-null int64\n",
      "root_shell                     148515 non-null int64\n",
      "su_attempted                   148515 non-null int64\n",
      "num_root                       148515 non-null int64\n",
      "num_file_creations             148515 non-null int64\n",
      "num_shells                     148515 non-null int64\n",
      "num_access_files               148515 non-null int64\n",
      "is_guest_login                 148515 non-null int64\n",
      "dst_host_diff_srv_rate         148515 non-null float64\n",
      "dst_host_same_src_port_rate    148515 non-null float64\n",
      "dst_host_srv_diff_host_rate    148515 non-null float64\n",
      "dst_host_serror_rate           148515 non-null float64\n",
      "dst_host_srv_serror_rate       148515 non-null float64\n",
      "dst_host_rerror_rate           148515 non-null float64\n",
      "dst_host_srv_rerror_rate       148515 non-null float64\n",
      "attack                         148515 non-null object\n",
      "last_flag                      148515 non-null int64\n",
      "service_http                   148515 non-null uint8\n",
      "service_private                148515 non-null uint8\n",
      "prtcl_type_tcp                 148515 non-null uint8\n",
      "prtcl_type_udp                 148515 non-null uint8\n",
      "flag_REJ                       148515 non-null uint8\n",
      "flag_S0                        148515 non-null uint8\n",
      "flag_SF                        148515 non-null uint8\n",
      "wrng_frgmt_1                   148515 non-null uint8\n",
      "wrng_frgmt_3                   148515 non-null uint8\n",
      "count_1                        148515 non-null uint8\n",
      "count_2_to_10                  148515 non-null uint8\n",
      "srv_count<10                   148515 non-null uint8\n",
      "serror_rate_0                  148515 non-null uint8\n",
      "serror_rate_1                  148515 non-null uint8\n",
      "srv_serror_rate_0              148515 non-null uint8\n",
      "srv_serror_rate_1              148515 non-null uint8\n",
      "rerror_rate_0                  148515 non-null uint8\n",
      "rerror_rate_1                  148515 non-null uint8\n",
      "srv_rerror_rate_0              148515 non-null uint8\n",
      "srv_rerror_rate_1              148515 non-null uint8\n",
      "same_srv_rate_1                148515 non-null uint8\n",
      "diff_srv_rate_0                148515 non-null uint8\n",
      "srv_diff_host_rate_0           148515 non-null uint8\n",
      "srv_diff_host_rate_1           148515 non-null uint8\n",
      "dst_host_count_255             148515 non-null uint8\n",
      "dst_host_srv_count_254&255     148515 non-null uint8\n",
      "dst_host_same_srv_rate!1.00    148515 non-null uint8\n",
      "dtypes: float64(7), int64(17), object(1), uint8(27)\n",
      "memory usage: 33.3+ MB\n"
     ]
    }
   ],
   "source": [
    "telco.info()"
   ]
  },
  {
   "cell_type": "code",
   "execution_count": 946,
   "metadata": {
    "scrolled": true
   },
   "outputs": [
    {
     "data": {
      "text/plain": [
       "0.00    56183\n",
       "0.07    18079\n",
       "0.06    11625\n",
       "0.01    11380\n",
       "0.02     8576\n",
       "0.05     8086\n",
       "0.08     7476\n",
       "0.03     4670\n",
       "0.04     3575\n",
       "0.09     2926\n",
       "1.00     2695\n",
       "0.10      738\n",
       "0.11      547\n",
       "0.12      456\n",
       "0.13      355\n",
       "0.15      353\n",
       "0.14      343\n",
       "0.73      321\n",
       "0.50      308\n",
       "0.17      276\n",
       "0.74      262\n",
       "0.16      262\n",
       "0.18      259\n",
       "0.20      238\n",
       "0.51      236\n",
       "0.67      221\n",
       "0.25      219\n",
       "0.22      217\n",
       "0.64      217\n",
       "0.52      212\n",
       "        ...  \n",
       "0.31       88\n",
       "0.59       87\n",
       "0.80       87\n",
       "0.78       86\n",
       "0.94       84\n",
       "0.36       84\n",
       "0.96       82\n",
       "0.48       82\n",
       "0.42       80\n",
       "0.89       77\n",
       "0.26       77\n",
       "0.87       72\n",
       "0.77       72\n",
       "0.92       72\n",
       "0.99       70\n",
       "0.30       70\n",
       "0.35       69\n",
       "0.83       69\n",
       "0.46       68\n",
       "0.98       68\n",
       "0.79       66\n",
       "0.32       65\n",
       "0.90       62\n",
       "0.28       62\n",
       "0.39       60\n",
       "0.81       57\n",
       "0.37       53\n",
       "0.41       51\n",
       "0.88       50\n",
       "0.34       44\n",
       "Name: dst_host_diff_srv_rate, Length: 101, dtype: int64"
      ]
     },
     "execution_count": 946,
     "metadata": {},
     "output_type": "execute_result"
    }
   ],
   "source": [
    "telco['dst_host_diff_srv_rate'].value_counts()"
   ]
  },
  {
   "cell_type": "code",
   "execution_count": 947,
   "metadata": {},
   "outputs": [],
   "source": [
    "temp = (telco['dst_host_diff_srv_rate'].unique()).tolist()\n",
    "temp.remove(0.00)\n",
    "telco['dst_host_diff_srv_rate']= telco['dst_host_diff_srv_rate'].replace([(temp)],\"dst_host_diff_srv_rate!0.00\")"
   ]
  },
  {
   "cell_type": "code",
   "execution_count": 948,
   "metadata": {},
   "outputs": [],
   "source": [
    "dst_host_diff_srv_rate = pd.get_dummies(telco['dst_host_diff_srv_rate'],drop_first=True)"
   ]
  },
  {
   "cell_type": "code",
   "execution_count": 949,
   "metadata": {},
   "outputs": [],
   "source": [
    "telco= pd.concat([telco,dst_host_diff_srv_rate],axis=1)"
   ]
  },
  {
   "cell_type": "code",
   "execution_count": 950,
   "metadata": {},
   "outputs": [],
   "source": [
    "telco.drop(['dst_host_diff_srv_rate'],axis=1,inplace=True)"
   ]
  },
  {
   "cell_type": "code",
   "execution_count": 951,
   "metadata": {
    "scrolled": true
   },
   "outputs": [
    {
     "data": {
      "text/plain": [
       "0.00    75678\n",
       "0.01    20891\n",
       "1.00    12015\n",
       "0.02     6711\n",
       "0.03     3799\n",
       "0.04     2420\n",
       "0.05     1912\n",
       "0.06     1484\n",
       "0.08     1239\n",
       "0.50     1220\n",
       "0.07     1200\n",
       "0.33     1144\n",
       "0.25     1016\n",
       "0.20      918\n",
       "0.17      856\n",
       "0.11      855\n",
       "0.14      834\n",
       "0.12      827\n",
       "0.09      805\n",
       "0.10      735\n",
       "0.96      260\n",
       "0.95      253\n",
       "0.15      246\n",
       "0.99      246\n",
       "0.29      236\n",
       "0.22      228\n",
       "0.98      221\n",
       "0.13      218\n",
       "0.35      213\n",
       "0.16      212\n",
       "        ...  \n",
       "0.75      115\n",
       "0.90      114\n",
       "0.53      112\n",
       "0.55      111\n",
       "0.62      105\n",
       "0.56      105\n",
       "0.58      104\n",
       "0.78      104\n",
       "0.71      102\n",
       "0.60      101\n",
       "0.76       99\n",
       "0.54       96\n",
       "0.48       95\n",
       "0.52       94\n",
       "0.57       93\n",
       "0.69       92\n",
       "0.64       89\n",
       "0.65       88\n",
       "0.61       87\n",
       "0.73       83\n",
       "0.79       82\n",
       "0.81       81\n",
       "0.70       79\n",
       "0.59       77\n",
       "0.74       74\n",
       "0.63       72\n",
       "0.68       71\n",
       "0.77       68\n",
       "0.72       62\n",
       "0.66       59\n",
       "Name: dst_host_same_src_port_rate, Length: 101, dtype: int64"
      ]
     },
     "execution_count": 951,
     "metadata": {},
     "output_type": "execute_result"
    }
   ],
   "source": [
    "telco['dst_host_same_src_port_rate'].value_counts()"
   ]
  },
  {
   "cell_type": "code",
   "execution_count": 952,
   "metadata": {},
   "outputs": [],
   "source": [
    "temp = (telco['dst_host_same_src_port_rate'].unique()).tolist()\n",
    "temp.remove(0.00)\n",
    "telco['dst_host_same_src_port_rate']= telco['dst_host_same_src_port_rate'].replace([(temp)],\"dst_host_same_src_port_rate!0.00\")"
   ]
  },
  {
   "cell_type": "code",
   "execution_count": 953,
   "metadata": {},
   "outputs": [],
   "source": [
    "dst_host_same_src_port_rate = pd.get_dummies(telco['dst_host_same_src_port_rate'],drop_first=True)"
   ]
  },
  {
   "cell_type": "code",
   "execution_count": 954,
   "metadata": {},
   "outputs": [],
   "source": [
    "telco= pd.concat([telco,dst_host_same_src_port_rate],axis=1)"
   ]
  },
  {
   "cell_type": "code",
   "execution_count": 955,
   "metadata": {},
   "outputs": [],
   "source": [
    "telco.drop(['dst_host_same_src_port_rate'],axis=1,inplace=True)"
   ]
  },
  {
   "cell_type": "code",
   "execution_count": 956,
   "metadata": {},
   "outputs": [],
   "source": [
    "temp = (telco['dst_host_srv_diff_host_rate'].unique()).tolist()\n",
    "temp.remove(0.00)\n",
    "telco['dst_host_srv_diff_host_rate']= telco['dst_host_srv_diff_host_rate'].replace([(temp)],\"dst_host_srv_diff_host_rate!0.00\")"
   ]
  },
  {
   "cell_type": "code",
   "execution_count": 957,
   "metadata": {},
   "outputs": [],
   "source": [
    "dst_host_srv_diff_host_rate = pd.get_dummies(telco['dst_host_srv_diff_host_rate'],drop_first=True)"
   ]
  },
  {
   "cell_type": "code",
   "execution_count": 958,
   "metadata": {},
   "outputs": [],
   "source": [
    "telco= pd.concat([telco,dst_host_srv_diff_host_rate],axis=1)"
   ]
  },
  {
   "cell_type": "code",
   "execution_count": 959,
   "metadata": {},
   "outputs": [],
   "source": [
    "telco.drop(['dst_host_srv_diff_host_rate'],axis=1,inplace=True)"
   ]
  },
  {
   "cell_type": "code",
   "execution_count": 960,
   "metadata": {
    "scrolled": true
   },
   "outputs": [
    {
     "name": "stdout",
     "output_type": "stream",
     "text": [
      "<class 'pandas.core.frame.DataFrame'>\n",
      "Index: 148515 entries, 0 to 22542\n",
      "Data columns (total 52 columns):\n",
      "duration                            148515 non-null int64\n",
      "src_bytes                           148515 non-null int64\n",
      "dst_bytes                           148515 non-null int64\n",
      "land                                148515 non-null int64\n",
      "urgent                              148515 non-null int64\n",
      "hot                                 148515 non-null int64\n",
      "num_failed_logins                   148515 non-null int64\n",
      "logged_in                           148515 non-null int64\n",
      "num_compromised                     148515 non-null int64\n",
      "root_shell                          148515 non-null int64\n",
      "su_attempted                        148515 non-null int64\n",
      "num_root                            148515 non-null int64\n",
      "num_file_creations                  148515 non-null int64\n",
      "num_shells                          148515 non-null int64\n",
      "num_access_files                    148515 non-null int64\n",
      "is_guest_login                      148515 non-null int64\n",
      "dst_host_serror_rate                148515 non-null float64\n",
      "dst_host_srv_serror_rate            148515 non-null float64\n",
      "dst_host_rerror_rate                148515 non-null float64\n",
      "dst_host_srv_rerror_rate            148515 non-null float64\n",
      "attack                              148515 non-null object\n",
      "last_flag                           148515 non-null int64\n",
      "service_http                        148515 non-null uint8\n",
      "service_private                     148515 non-null uint8\n",
      "prtcl_type_tcp                      148515 non-null uint8\n",
      "prtcl_type_udp                      148515 non-null uint8\n",
      "flag_REJ                            148515 non-null uint8\n",
      "flag_S0                             148515 non-null uint8\n",
      "flag_SF                             148515 non-null uint8\n",
      "wrng_frgmt_1                        148515 non-null uint8\n",
      "wrng_frgmt_3                        148515 non-null uint8\n",
      "count_1                             148515 non-null uint8\n",
      "count_2_to_10                       148515 non-null uint8\n",
      "srv_count<10                        148515 non-null uint8\n",
      "serror_rate_0                       148515 non-null uint8\n",
      "serror_rate_1                       148515 non-null uint8\n",
      "srv_serror_rate_0                   148515 non-null uint8\n",
      "srv_serror_rate_1                   148515 non-null uint8\n",
      "rerror_rate_0                       148515 non-null uint8\n",
      "rerror_rate_1                       148515 non-null uint8\n",
      "srv_rerror_rate_0                   148515 non-null uint8\n",
      "srv_rerror_rate_1                   148515 non-null uint8\n",
      "same_srv_rate_1                     148515 non-null uint8\n",
      "diff_srv_rate_0                     148515 non-null uint8\n",
      "srv_diff_host_rate_0                148515 non-null uint8\n",
      "srv_diff_host_rate_1                148515 non-null uint8\n",
      "dst_host_count_255                  148515 non-null uint8\n",
      "dst_host_srv_count_254&255          148515 non-null uint8\n",
      "dst_host_same_srv_rate!1.00         148515 non-null uint8\n",
      "dst_host_diff_srv_rate!0.00         148515 non-null uint8\n",
      "dst_host_same_src_port_rate!0.00    148515 non-null uint8\n",
      "dst_host_srv_diff_host_rate!0.00    148515 non-null uint8\n",
      "dtypes: float64(4), int64(17), object(1), uint8(30)\n",
      "memory usage: 30.3+ MB\n"
     ]
    }
   ],
   "source": [
    "telco.info()"
   ]
  },
  {
   "cell_type": "code",
   "execution_count": 961,
   "metadata": {
    "scrolled": true
   },
   "outputs": [
    {
     "data": {
      "text/plain": [
       "0.00    99310\n",
       "1.00    35092\n",
       "0.01     4005\n",
       "0.02     1472\n",
       "0.03      824\n",
       "0.04      502\n",
       "0.09      461\n",
       "0.08      442\n",
       "0.05      440\n",
       "0.99      332\n",
       "0.07      287\n",
       "0.33      260\n",
       "0.10      255\n",
       "0.16      231\n",
       "0.06      229\n",
       "0.11      205\n",
       "0.13      199\n",
       "0.98      189\n",
       "0.50      184\n",
       "0.25      145\n",
       "0.12      140\n",
       "0.14      133\n",
       "0.97      132\n",
       "0.15      121\n",
       "0.96      117\n",
       "0.27       97\n",
       "0.94       88\n",
       "0.20       86\n",
       "0.17       85\n",
       "0.18       80\n",
       "        ...  \n",
       "0.36       28\n",
       "0.38       28\n",
       "0.86       27\n",
       "0.26       27\n",
       "0.76       27\n",
       "0.69       26\n",
       "0.79       26\n",
       "0.84       26\n",
       "0.46       26\n",
       "0.70       26\n",
       "0.57       26\n",
       "0.63       24\n",
       "0.52       23\n",
       "0.77       23\n",
       "0.48       23\n",
       "0.68       23\n",
       "0.65       23\n",
       "0.39       23\n",
       "0.30       23\n",
       "0.37       22\n",
       "0.28       22\n",
       "0.32       21\n",
       "0.61       21\n",
       "0.41       20\n",
       "0.43       20\n",
       "0.74       19\n",
       "0.66       19\n",
       "0.59       18\n",
       "0.34       18\n",
       "0.72       17\n",
       "Name: dst_host_serror_rate, Length: 101, dtype: int64"
      ]
     },
     "execution_count": 961,
     "metadata": {},
     "output_type": "execute_result"
    }
   ],
   "source": [
    "telco['dst_host_serror_rate'].value_counts()"
   ]
  },
  {
   "cell_type": "code",
   "execution_count": 962,
   "metadata": {},
   "outputs": [],
   "source": [
    "temp = (telco['dst_host_serror_rate'].unique()).tolist()\n",
    "temp.remove(0.00)\n",
    "temp.remove(1.00)\n",
    "telco['dst_host_serror_rate']= telco['dst_host_serror_rate'].replace([(temp)],\"dst_host_serror_rate_0_to_1\")"
   ]
  },
  {
   "cell_type": "code",
   "execution_count": 963,
   "metadata": {},
   "outputs": [
    {
     "data": {
      "text/plain": [
       "0.0                            99310\n",
       "1.0                            35092\n",
       "dst_host_serror_rate_0_to_1    14113\n",
       "Name: dst_host_serror_rate, dtype: int64"
      ]
     },
     "execution_count": 963,
     "metadata": {},
     "output_type": "execute_result"
    }
   ],
   "source": [
    "telco['dst_host_serror_rate'].value_counts()"
   ]
  },
  {
   "cell_type": "code",
   "execution_count": 964,
   "metadata": {},
   "outputs": [],
   "source": [
    "dst_host_serror_rate = pd.get_dummies(telco['dst_host_serror_rate'],drop_first=False)"
   ]
  },
  {
   "cell_type": "code",
   "execution_count": 965,
   "metadata": {},
   "outputs": [],
   "source": [
    "dst_host_serror_rate.drop(['dst_host_serror_rate_0_to_1'],axis=1,inplace=True)"
   ]
  },
  {
   "cell_type": "code",
   "execution_count": 966,
   "metadata": {},
   "outputs": [],
   "source": [
    "telco= pd.concat([telco,dst_host_serror_rate],axis=1)"
   ]
  },
  {
   "cell_type": "code",
   "execution_count": 967,
   "metadata": {},
   "outputs": [],
   "source": [
    "telco = telco.rename(index=str, columns={0.0:\"dst_host_serror_rate_0\",1.00:\"dst_host_serror_rate_1\"})"
   ]
  },
  {
   "cell_type": "code",
   "execution_count": 968,
   "metadata": {},
   "outputs": [],
   "source": [
    "telco.drop(['dst_host_serror_rate'],axis=1,inplace=True)"
   ]
  },
  {
   "cell_type": "code",
   "execution_count": 969,
   "metadata": {},
   "outputs": [],
   "source": [
    "temp = (telco['dst_host_rerror_rate'].unique()).tolist()\n",
    "temp.remove(0.00)\n",
    "temp.remove(1.00)\n",
    "telco['dst_host_rerror_rate']= telco['dst_host_rerror_rate'].replace([(temp)],\"dst_host_rerror_rate_0_to_1\")"
   ]
  },
  {
   "cell_type": "code",
   "execution_count": 970,
   "metadata": {},
   "outputs": [
    {
     "data": {
      "text/plain": [
       "0.0                            116547\n",
       "dst_host_rerror_rate_0_to_1     18756\n",
       "1.0                             13212\n",
       "Name: dst_host_rerror_rate, dtype: int64"
      ]
     },
     "execution_count": 970,
     "metadata": {},
     "output_type": "execute_result"
    }
   ],
   "source": [
    "telco['dst_host_rerror_rate'].value_counts()"
   ]
  },
  {
   "cell_type": "code",
   "execution_count": 971,
   "metadata": {},
   "outputs": [],
   "source": [
    "dst_host_rerror_rate = pd.get_dummies(telco['dst_host_rerror_rate'],drop_first=False)"
   ]
  },
  {
   "cell_type": "code",
   "execution_count": 972,
   "metadata": {},
   "outputs": [],
   "source": [
    "dst_host_rerror_rate.drop(['dst_host_rerror_rate_0_to_1'],axis=1,inplace=True)"
   ]
  },
  {
   "cell_type": "code",
   "execution_count": 973,
   "metadata": {},
   "outputs": [],
   "source": [
    "telco= pd.concat([telco,dst_host_rerror_rate],axis=1)"
   ]
  },
  {
   "cell_type": "code",
   "execution_count": 974,
   "metadata": {},
   "outputs": [],
   "source": [
    "telco = telco.rename(index=str, columns={0.0:\"dst_host_rerror_rate_0\",1.00:\"dst_host_rerror_rate_1\"})"
   ]
  },
  {
   "cell_type": "code",
   "execution_count": 975,
   "metadata": {},
   "outputs": [],
   "source": [
    "telco.drop(['dst_host_rerror_rate'],axis=1,inplace=True)"
   ]
  },
  {
   "cell_type": "code",
   "execution_count": 976,
   "metadata": {},
   "outputs": [],
   "source": [
    "temp = (telco['dst_host_srv_serror_rate'].unique()).tolist()\n",
    "temp.remove(0.00)\n",
    "temp.remove(1.00)\n",
    "telco['dst_host_srv_serror_rate']= telco['dst_host_srv_serror_rate'].replace([(temp)],\"dst_host_srv_serror_rate_0_to_1\")"
   ]
  },
  {
   "cell_type": "code",
   "execution_count": 977,
   "metadata": {},
   "outputs": [
    {
     "data": {
      "text/plain": [
       "0.0                                104274\n",
       "1.0                                 35950\n",
       "dst_host_srv_serror_rate_0_to_1      8291\n",
       "Name: dst_host_srv_serror_rate, dtype: int64"
      ]
     },
     "execution_count": 977,
     "metadata": {},
     "output_type": "execute_result"
    }
   ],
   "source": [
    "telco['dst_host_srv_serror_rate'].value_counts()"
   ]
  },
  {
   "cell_type": "code",
   "execution_count": 978,
   "metadata": {},
   "outputs": [],
   "source": [
    "dst_host_srv_serror_rate = pd.get_dummies(telco['dst_host_srv_serror_rate'],drop_first=False)"
   ]
  },
  {
   "cell_type": "code",
   "execution_count": 979,
   "metadata": {},
   "outputs": [],
   "source": [
    "dst_host_srv_serror_rate.drop(['dst_host_srv_serror_rate_0_to_1'],axis=1,inplace=True)"
   ]
  },
  {
   "cell_type": "code",
   "execution_count": 980,
   "metadata": {},
   "outputs": [],
   "source": [
    "telco= pd.concat([telco,dst_host_srv_serror_rate],axis=1)"
   ]
  },
  {
   "cell_type": "code",
   "execution_count": 981,
   "metadata": {},
   "outputs": [],
   "source": [
    "telco = telco.rename(index=str, columns={0.0:\"dst_host_srv_serror_rate_0\",1.00:\"dst_host_srv_serror_rate_1\"})"
   ]
  },
  {
   "cell_type": "code",
   "execution_count": 982,
   "metadata": {},
   "outputs": [],
   "source": [
    "telco.drop(['dst_host_srv_serror_rate'],axis=1,inplace=True)"
   ]
  },
  {
   "cell_type": "code",
   "execution_count": 983,
   "metadata": {},
   "outputs": [],
   "source": [
    "temp = (telco['dst_host_srv_rerror_rate'].unique()).tolist()\n",
    "temp.remove(0.00)\n",
    "temp.remove(1.00)\n",
    "telco['dst_host_srv_rerror_rate']= telco['dst_host_srv_rerror_rate'].replace([(temp)],\"dst_host_srv_rerror_rate_0_to_1\")"
   ]
  },
  {
   "cell_type": "code",
   "execution_count": 984,
   "metadata": {},
   "outputs": [
    {
     "data": {
      "text/plain": [
       "0.0                                121908\n",
       "1.0                                 17433\n",
       "dst_host_srv_rerror_rate_0_to_1      9174\n",
       "Name: dst_host_srv_rerror_rate, dtype: int64"
      ]
     },
     "execution_count": 984,
     "metadata": {},
     "output_type": "execute_result"
    }
   ],
   "source": [
    "telco['dst_host_srv_rerror_rate'].value_counts()"
   ]
  },
  {
   "cell_type": "code",
   "execution_count": 985,
   "metadata": {},
   "outputs": [],
   "source": [
    "dst_host_srv_rerror_rate = pd.get_dummies(telco['dst_host_srv_rerror_rate'],drop_first=False)"
   ]
  },
  {
   "cell_type": "code",
   "execution_count": 986,
   "metadata": {},
   "outputs": [],
   "source": [
    "dst_host_srv_rerror_rate.drop(['dst_host_srv_rerror_rate_0_to_1'],axis=1,inplace=True)"
   ]
  },
  {
   "cell_type": "code",
   "execution_count": 987,
   "metadata": {},
   "outputs": [],
   "source": [
    "telco= pd.concat([telco,dst_host_srv_rerror_rate],axis=1)"
   ]
  },
  {
   "cell_type": "code",
   "execution_count": 988,
   "metadata": {},
   "outputs": [],
   "source": [
    "telco = telco.rename(index=str, columns={0.0:\"dst_host_srv_rerror_rate_0\",1.00:\"dst_host_srv_rerror_rate_1\"})"
   ]
  },
  {
   "cell_type": "code",
   "execution_count": 989,
   "metadata": {},
   "outputs": [],
   "source": [
    "telco.drop(['dst_host_srv_rerror_rate'],axis=1,inplace=True)"
   ]
  },
  {
   "cell_type": "code",
   "execution_count": 990,
   "metadata": {
    "scrolled": true
   },
   "outputs": [
    {
     "name": "stdout",
     "output_type": "stream",
     "text": [
      "<class 'pandas.core.frame.DataFrame'>\n",
      "Index: 148515 entries, 0 to 22542\n",
      "Data columns (total 56 columns):\n",
      "duration                            148515 non-null int64\n",
      "src_bytes                           148515 non-null int64\n",
      "dst_bytes                           148515 non-null int64\n",
      "land                                148515 non-null int64\n",
      "urgent                              148515 non-null int64\n",
      "hot                                 148515 non-null int64\n",
      "num_failed_logins                   148515 non-null int64\n",
      "logged_in                           148515 non-null int64\n",
      "num_compromised                     148515 non-null int64\n",
      "root_shell                          148515 non-null int64\n",
      "su_attempted                        148515 non-null int64\n",
      "num_root                            148515 non-null int64\n",
      "num_file_creations                  148515 non-null int64\n",
      "num_shells                          148515 non-null int64\n",
      "num_access_files                    148515 non-null int64\n",
      "is_guest_login                      148515 non-null int64\n",
      "attack                              148515 non-null object\n",
      "last_flag                           148515 non-null int64\n",
      "service_http                        148515 non-null uint8\n",
      "service_private                     148515 non-null uint8\n",
      "prtcl_type_tcp                      148515 non-null uint8\n",
      "prtcl_type_udp                      148515 non-null uint8\n",
      "flag_REJ                            148515 non-null uint8\n",
      "flag_S0                             148515 non-null uint8\n",
      "flag_SF                             148515 non-null uint8\n",
      "wrng_frgmt_1                        148515 non-null uint8\n",
      "wrng_frgmt_3                        148515 non-null uint8\n",
      "count_1                             148515 non-null uint8\n",
      "count_2_to_10                       148515 non-null uint8\n",
      "srv_count<10                        148515 non-null uint8\n",
      "serror_rate_0                       148515 non-null uint8\n",
      "serror_rate_1                       148515 non-null uint8\n",
      "srv_serror_rate_0                   148515 non-null uint8\n",
      "srv_serror_rate_1                   148515 non-null uint8\n",
      "rerror_rate_0                       148515 non-null uint8\n",
      "rerror_rate_1                       148515 non-null uint8\n",
      "srv_rerror_rate_0                   148515 non-null uint8\n",
      "srv_rerror_rate_1                   148515 non-null uint8\n",
      "same_srv_rate_1                     148515 non-null uint8\n",
      "diff_srv_rate_0                     148515 non-null uint8\n",
      "srv_diff_host_rate_0                148515 non-null uint8\n",
      "srv_diff_host_rate_1                148515 non-null uint8\n",
      "dst_host_count_255                  148515 non-null uint8\n",
      "dst_host_srv_count_254&255          148515 non-null uint8\n",
      "dst_host_same_srv_rate!1.00         148515 non-null uint8\n",
      "dst_host_diff_srv_rate!0.00         148515 non-null uint8\n",
      "dst_host_same_src_port_rate!0.00    148515 non-null uint8\n",
      "dst_host_srv_diff_host_rate!0.00    148515 non-null uint8\n",
      "dst_host_serror_rate_0              148515 non-null uint8\n",
      "dst_host_serror_rate_1              148515 non-null uint8\n",
      "dst_host_rerror_rate_0              148515 non-null uint8\n",
      "dst_host_rerror_rate_1              148515 non-null uint8\n",
      "dst_host_srv_serror_rate_0          148515 non-null uint8\n",
      "dst_host_srv_serror_rate_1          148515 non-null uint8\n",
      "dst_host_srv_rerror_rate_0          148515 non-null uint8\n",
      "dst_host_srv_rerror_rate_1          148515 non-null uint8\n",
      "dtypes: int64(17), object(1), uint8(38)\n",
      "memory usage: 26.9+ MB\n"
     ]
    }
   ],
   "source": [
    "telco.info()"
   ]
  },
  {
   "cell_type": "code",
   "execution_count": 991,
   "metadata": {},
   "outputs": [],
   "source": [
    "telco.drop(['last_flag'],axis=1,inplace=True)"
   ]
  },
  {
   "cell_type": "code",
   "execution_count": 992,
   "metadata": {
    "scrolled": true
   },
   "outputs": [
    {
     "name": "stdout",
     "output_type": "stream",
     "text": [
      "<class 'pandas.core.frame.DataFrame'>\n",
      "Index: 148515 entries, 0 to 22542\n",
      "Data columns (total 55 columns):\n",
      "duration                            148515 non-null int64\n",
      "src_bytes                           148515 non-null int64\n",
      "dst_bytes                           148515 non-null int64\n",
      "land                                148515 non-null int64\n",
      "urgent                              148515 non-null int64\n",
      "hot                                 148515 non-null int64\n",
      "num_failed_logins                   148515 non-null int64\n",
      "logged_in                           148515 non-null int64\n",
      "num_compromised                     148515 non-null int64\n",
      "root_shell                          148515 non-null int64\n",
      "su_attempted                        148515 non-null int64\n",
      "num_root                            148515 non-null int64\n",
      "num_file_creations                  148515 non-null int64\n",
      "num_shells                          148515 non-null int64\n",
      "num_access_files                    148515 non-null int64\n",
      "is_guest_login                      148515 non-null int64\n",
      "attack                              148515 non-null object\n",
      "service_http                        148515 non-null uint8\n",
      "service_private                     148515 non-null uint8\n",
      "prtcl_type_tcp                      148515 non-null uint8\n",
      "prtcl_type_udp                      148515 non-null uint8\n",
      "flag_REJ                            148515 non-null uint8\n",
      "flag_S0                             148515 non-null uint8\n",
      "flag_SF                             148515 non-null uint8\n",
      "wrng_frgmt_1                        148515 non-null uint8\n",
      "wrng_frgmt_3                        148515 non-null uint8\n",
      "count_1                             148515 non-null uint8\n",
      "count_2_to_10                       148515 non-null uint8\n",
      "srv_count<10                        148515 non-null uint8\n",
      "serror_rate_0                       148515 non-null uint8\n",
      "serror_rate_1                       148515 non-null uint8\n",
      "srv_serror_rate_0                   148515 non-null uint8\n",
      "srv_serror_rate_1                   148515 non-null uint8\n",
      "rerror_rate_0                       148515 non-null uint8\n",
      "rerror_rate_1                       148515 non-null uint8\n",
      "srv_rerror_rate_0                   148515 non-null uint8\n",
      "srv_rerror_rate_1                   148515 non-null uint8\n",
      "same_srv_rate_1                     148515 non-null uint8\n",
      "diff_srv_rate_0                     148515 non-null uint8\n",
      "srv_diff_host_rate_0                148515 non-null uint8\n",
      "srv_diff_host_rate_1                148515 non-null uint8\n",
      "dst_host_count_255                  148515 non-null uint8\n",
      "dst_host_srv_count_254&255          148515 non-null uint8\n",
      "dst_host_same_srv_rate!1.00         148515 non-null uint8\n",
      "dst_host_diff_srv_rate!0.00         148515 non-null uint8\n",
      "dst_host_same_src_port_rate!0.00    148515 non-null uint8\n",
      "dst_host_srv_diff_host_rate!0.00    148515 non-null uint8\n",
      "dst_host_serror_rate_0              148515 non-null uint8\n",
      "dst_host_serror_rate_1              148515 non-null uint8\n",
      "dst_host_rerror_rate_0              148515 non-null uint8\n",
      "dst_host_rerror_rate_1              148515 non-null uint8\n",
      "dst_host_srv_serror_rate_0          148515 non-null uint8\n",
      "dst_host_srv_serror_rate_1          148515 non-null uint8\n",
      "dst_host_srv_rerror_rate_0          148515 non-null uint8\n",
      "dst_host_srv_rerror_rate_1          148515 non-null uint8\n",
      "dtypes: int64(16), object(1), uint8(38)\n",
      "memory usage: 25.8+ MB\n"
     ]
    }
   ],
   "source": [
    "telco.info()"
   ]
  },
  {
   "cell_type": "code",
   "execution_count": 993,
   "metadata": {
    "scrolled": true
   },
   "outputs": [
    {
     "data": {
      "text/plain": [
       "normal             77053\n",
       "neptune            45870\n",
       "satan               4368\n",
       "ipsweep             3740\n",
       "smurf               3311\n",
       "portsweep           3088\n",
       "nmap                1566\n",
       "back                1315\n",
       "guess_passwd        1284\n",
       "mscan                996\n",
       "warezmaster          964\n",
       "teardrop             904\n",
       "warezclient          890\n",
       "apache2              737\n",
       "processtable         685\n",
       "snmpguess            331\n",
       "saint                319\n",
       "mailbomb             293\n",
       "pod                  242\n",
       "snmpgetattack        178\n",
       "httptunnel           133\n",
       "buffer_overflow       50\n",
       "land                  25\n",
       "multihop              25\n",
       "rootkit               23\n",
       "named                 17\n",
       "ps                    15\n",
       "sendmail              14\n",
       "xterm                 13\n",
       "imap                  12\n",
       "ftp_write             11\n",
       "loadmodule            11\n",
       "xlock                  9\n",
       "phf                    6\n",
       "perl                   5\n",
       "xsnoop                 4\n",
       "udpstorm               2\n",
       "spy                    2\n",
       "worm                   2\n",
       "sqlattack              2\n",
       "Name: attack, dtype: int64"
      ]
     },
     "execution_count": 993,
     "metadata": {},
     "output_type": "execute_result"
    }
   ],
   "source": [
    "telco['attack'].value_counts()"
   ]
  },
  {
   "cell_type": "code",
   "execution_count": 994,
   "metadata": {},
   "outputs": [],
   "source": [
    "temp = (telco['attack'].unique()).tolist()\n",
    "temp.remove(\"normal\")\n",
    "telco['attack']= telco['attack'].replace([(temp)],\"attacked\")"
   ]
  },
  {
   "cell_type": "code",
   "execution_count": 995,
   "metadata": {},
   "outputs": [
    {
     "data": {
      "text/plain": [
       "normal      77053\n",
       "attacked    71462\n",
       "Name: attack, dtype: int64"
      ]
     },
     "execution_count": 995,
     "metadata": {},
     "output_type": "execute_result"
    }
   ],
   "source": [
    "telco['attack'].value_counts()"
   ]
  },
  {
   "cell_type": "code",
   "execution_count": 996,
   "metadata": {},
   "outputs": [],
   "source": [
    "attack = pd.get_dummies(telco['attack'],drop_first=False)"
   ]
  },
  {
   "cell_type": "code",
   "execution_count": 997,
   "metadata": {},
   "outputs": [],
   "source": [
    "attack.drop(['normal'],axis=1,inplace=True)"
   ]
  },
  {
   "cell_type": "code",
   "execution_count": 998,
   "metadata": {},
   "outputs": [],
   "source": [
    "telco.drop(['attack'],axis=1,inplace=True)"
   ]
  },
  {
   "cell_type": "code",
   "execution_count": 999,
   "metadata": {},
   "outputs": [],
   "source": [
    "telco= pd.concat([telco,attack],axis=1)"
   ]
  },
  {
   "cell_type": "code",
   "execution_count": 1000,
   "metadata": {
    "scrolled": true
   },
   "outputs": [
    {
     "name": "stdout",
     "output_type": "stream",
     "text": [
      "<class 'pandas.core.frame.DataFrame'>\n",
      "Index: 148515 entries, 0 to 22542\n",
      "Data columns (total 55 columns):\n",
      "duration                            148515 non-null int64\n",
      "src_bytes                           148515 non-null int64\n",
      "dst_bytes                           148515 non-null int64\n",
      "land                                148515 non-null int64\n",
      "urgent                              148515 non-null int64\n",
      "hot                                 148515 non-null int64\n",
      "num_failed_logins                   148515 non-null int64\n",
      "logged_in                           148515 non-null int64\n",
      "num_compromised                     148515 non-null int64\n",
      "root_shell                          148515 non-null int64\n",
      "su_attempted                        148515 non-null int64\n",
      "num_root                            148515 non-null int64\n",
      "num_file_creations                  148515 non-null int64\n",
      "num_shells                          148515 non-null int64\n",
      "num_access_files                    148515 non-null int64\n",
      "is_guest_login                      148515 non-null int64\n",
      "service_http                        148515 non-null uint8\n",
      "service_private                     148515 non-null uint8\n",
      "prtcl_type_tcp                      148515 non-null uint8\n",
      "prtcl_type_udp                      148515 non-null uint8\n",
      "flag_REJ                            148515 non-null uint8\n",
      "flag_S0                             148515 non-null uint8\n",
      "flag_SF                             148515 non-null uint8\n",
      "wrng_frgmt_1                        148515 non-null uint8\n",
      "wrng_frgmt_3                        148515 non-null uint8\n",
      "count_1                             148515 non-null uint8\n",
      "count_2_to_10                       148515 non-null uint8\n",
      "srv_count<10                        148515 non-null uint8\n",
      "serror_rate_0                       148515 non-null uint8\n",
      "serror_rate_1                       148515 non-null uint8\n",
      "srv_serror_rate_0                   148515 non-null uint8\n",
      "srv_serror_rate_1                   148515 non-null uint8\n",
      "rerror_rate_0                       148515 non-null uint8\n",
      "rerror_rate_1                       148515 non-null uint8\n",
      "srv_rerror_rate_0                   148515 non-null uint8\n",
      "srv_rerror_rate_1                   148515 non-null uint8\n",
      "same_srv_rate_1                     148515 non-null uint8\n",
      "diff_srv_rate_0                     148515 non-null uint8\n",
      "srv_diff_host_rate_0                148515 non-null uint8\n",
      "srv_diff_host_rate_1                148515 non-null uint8\n",
      "dst_host_count_255                  148515 non-null uint8\n",
      "dst_host_srv_count_254&255          148515 non-null uint8\n",
      "dst_host_same_srv_rate!1.00         148515 non-null uint8\n",
      "dst_host_diff_srv_rate!0.00         148515 non-null uint8\n",
      "dst_host_same_src_port_rate!0.00    148515 non-null uint8\n",
      "dst_host_srv_diff_host_rate!0.00    148515 non-null uint8\n",
      "dst_host_serror_rate_0              148515 non-null uint8\n",
      "dst_host_serror_rate_1              148515 non-null uint8\n",
      "dst_host_rerror_rate_0              148515 non-null uint8\n",
      "dst_host_rerror_rate_1              148515 non-null uint8\n",
      "dst_host_srv_serror_rate_0          148515 non-null uint8\n",
      "dst_host_srv_serror_rate_1          148515 non-null uint8\n",
      "dst_host_srv_rerror_rate_0          148515 non-null uint8\n",
      "dst_host_srv_rerror_rate_1          148515 non-null uint8\n",
      "attacked                            148515 non-null uint8\n",
      "dtypes: int64(16), uint8(39)\n",
      "memory usage: 24.8+ MB\n"
     ]
    }
   ],
   "source": [
    "telco.info()"
   ]
  },
  {
   "cell_type": "code",
   "execution_count": 1002,
   "metadata": {},
   "outputs": [
    {
     "data": {
      "text/html": [
       "<div>\n",
       "<style scoped>\n",
       "    .dataframe tbody tr th:only-of-type {\n",
       "        vertical-align: middle;\n",
       "    }\n",
       "\n",
       "    .dataframe tbody tr th {\n",
       "        vertical-align: top;\n",
       "    }\n",
       "\n",
       "    .dataframe thead th {\n",
       "        text-align: right;\n",
       "    }\n",
       "</style>\n",
       "<table border=\"1\" class=\"dataframe\">\n",
       "  <thead>\n",
       "    <tr style=\"text-align: right;\">\n",
       "      <th></th>\n",
       "      <th>duration</th>\n",
       "      <th>src_bytes</th>\n",
       "      <th>dst_bytes</th>\n",
       "      <th>land</th>\n",
       "      <th>urgent</th>\n",
       "      <th>hot</th>\n",
       "      <th>num_failed_logins</th>\n",
       "      <th>logged_in</th>\n",
       "      <th>num_compromised</th>\n",
       "      <th>root_shell</th>\n",
       "      <th>...</th>\n",
       "      <th>dst_host_srv_diff_host_rate!0.00</th>\n",
       "      <th>dst_host_serror_rate_0</th>\n",
       "      <th>dst_host_serror_rate_1</th>\n",
       "      <th>dst_host_rerror_rate_0</th>\n",
       "      <th>dst_host_rerror_rate_1</th>\n",
       "      <th>dst_host_srv_serror_rate_0</th>\n",
       "      <th>dst_host_srv_serror_rate_1</th>\n",
       "      <th>dst_host_srv_rerror_rate_0</th>\n",
       "      <th>dst_host_srv_rerror_rate_1</th>\n",
       "      <th>attacked</th>\n",
       "    </tr>\n",
       "  </thead>\n",
       "  <tbody>\n",
       "    <tr>\n",
       "      <th>count</th>\n",
       "      <td>125971.000000</td>\n",
       "      <td>125971.000000</td>\n",
       "      <td>125971.000000</td>\n",
       "      <td>125971.000000</td>\n",
       "      <td>125971.000000</td>\n",
       "      <td>125971.000000</td>\n",
       "      <td>125971.000000</td>\n",
       "      <td>125971.000000</td>\n",
       "      <td>125971.000000</td>\n",
       "      <td>125971.000000</td>\n",
       "      <td>...</td>\n",
       "      <td>125971.000000</td>\n",
       "      <td>125971.000000</td>\n",
       "      <td>125971.000000</td>\n",
       "      <td>125971.000000</td>\n",
       "      <td>125971.000000</td>\n",
       "      <td>125971.000000</td>\n",
       "      <td>125971.000000</td>\n",
       "      <td>125971.000000</td>\n",
       "      <td>125971.000000</td>\n",
       "      <td>125971.000000</td>\n",
       "    </tr>\n",
       "    <tr>\n",
       "      <th>mean</th>\n",
       "      <td>0.079526</td>\n",
       "      <td>0.607910</td>\n",
       "      <td>0.460471</td>\n",
       "      <td>0.000198</td>\n",
       "      <td>0.000071</td>\n",
       "      <td>0.021203</td>\n",
       "      <td>0.000968</td>\n",
       "      <td>0.395734</td>\n",
       "      <td>0.010209</td>\n",
       "      <td>0.001342</td>\n",
       "      <td>...</td>\n",
       "      <td>0.310143</td>\n",
       "      <td>0.646053</td>\n",
       "      <td>0.266426</td>\n",
       "      <td>0.819054</td>\n",
       "      <td>0.081749</td>\n",
       "      <td>0.677600</td>\n",
       "      <td>0.271936</td>\n",
       "      <td>0.846338</td>\n",
       "      <td>0.105032</td>\n",
       "      <td>0.465425</td>\n",
       "    </tr>\n",
       "    <tr>\n",
       "      <th>std</th>\n",
       "      <td>0.270559</td>\n",
       "      <td>0.488219</td>\n",
       "      <td>0.498437</td>\n",
       "      <td>0.014086</td>\n",
       "      <td>0.008452</td>\n",
       "      <td>0.144062</td>\n",
       "      <td>0.031105</td>\n",
       "      <td>0.489010</td>\n",
       "      <td>0.100521</td>\n",
       "      <td>0.036603</td>\n",
       "      <td>...</td>\n",
       "      <td>0.462554</td>\n",
       "      <td>0.478195</td>\n",
       "      <td>0.442092</td>\n",
       "      <td>0.384975</td>\n",
       "      <td>0.273983</td>\n",
       "      <td>0.467397</td>\n",
       "      <td>0.444959</td>\n",
       "      <td>0.360626</td>\n",
       "      <td>0.306596</td>\n",
       "      <td>0.498805</td>\n",
       "    </tr>\n",
       "    <tr>\n",
       "      <th>min</th>\n",
       "      <td>0.000000</td>\n",
       "      <td>0.000000</td>\n",
       "      <td>0.000000</td>\n",
       "      <td>0.000000</td>\n",
       "      <td>0.000000</td>\n",
       "      <td>0.000000</td>\n",
       "      <td>0.000000</td>\n",
       "      <td>0.000000</td>\n",
       "      <td>0.000000</td>\n",
       "      <td>0.000000</td>\n",
       "      <td>...</td>\n",
       "      <td>0.000000</td>\n",
       "      <td>0.000000</td>\n",
       "      <td>0.000000</td>\n",
       "      <td>0.000000</td>\n",
       "      <td>0.000000</td>\n",
       "      <td>0.000000</td>\n",
       "      <td>0.000000</td>\n",
       "      <td>0.000000</td>\n",
       "      <td>0.000000</td>\n",
       "      <td>0.000000</td>\n",
       "    </tr>\n",
       "    <tr>\n",
       "      <th>25%</th>\n",
       "      <td>0.000000</td>\n",
       "      <td>0.000000</td>\n",
       "      <td>0.000000</td>\n",
       "      <td>0.000000</td>\n",
       "      <td>0.000000</td>\n",
       "      <td>0.000000</td>\n",
       "      <td>0.000000</td>\n",
       "      <td>0.000000</td>\n",
       "      <td>0.000000</td>\n",
       "      <td>0.000000</td>\n",
       "      <td>...</td>\n",
       "      <td>0.000000</td>\n",
       "      <td>0.000000</td>\n",
       "      <td>0.000000</td>\n",
       "      <td>1.000000</td>\n",
       "      <td>0.000000</td>\n",
       "      <td>0.000000</td>\n",
       "      <td>0.000000</td>\n",
       "      <td>1.000000</td>\n",
       "      <td>0.000000</td>\n",
       "      <td>0.000000</td>\n",
       "    </tr>\n",
       "    <tr>\n",
       "      <th>50%</th>\n",
       "      <td>0.000000</td>\n",
       "      <td>1.000000</td>\n",
       "      <td>0.000000</td>\n",
       "      <td>0.000000</td>\n",
       "      <td>0.000000</td>\n",
       "      <td>0.000000</td>\n",
       "      <td>0.000000</td>\n",
       "      <td>0.000000</td>\n",
       "      <td>0.000000</td>\n",
       "      <td>0.000000</td>\n",
       "      <td>...</td>\n",
       "      <td>0.000000</td>\n",
       "      <td>1.000000</td>\n",
       "      <td>0.000000</td>\n",
       "      <td>1.000000</td>\n",
       "      <td>0.000000</td>\n",
       "      <td>1.000000</td>\n",
       "      <td>0.000000</td>\n",
       "      <td>1.000000</td>\n",
       "      <td>0.000000</td>\n",
       "      <td>0.000000</td>\n",
       "    </tr>\n",
       "    <tr>\n",
       "      <th>75%</th>\n",
       "      <td>0.000000</td>\n",
       "      <td>1.000000</td>\n",
       "      <td>1.000000</td>\n",
       "      <td>0.000000</td>\n",
       "      <td>0.000000</td>\n",
       "      <td>0.000000</td>\n",
       "      <td>0.000000</td>\n",
       "      <td>1.000000</td>\n",
       "      <td>0.000000</td>\n",
       "      <td>0.000000</td>\n",
       "      <td>...</td>\n",
       "      <td>1.000000</td>\n",
       "      <td>1.000000</td>\n",
       "      <td>1.000000</td>\n",
       "      <td>1.000000</td>\n",
       "      <td>0.000000</td>\n",
       "      <td>1.000000</td>\n",
       "      <td>1.000000</td>\n",
       "      <td>1.000000</td>\n",
       "      <td>0.000000</td>\n",
       "      <td>1.000000</td>\n",
       "    </tr>\n",
       "    <tr>\n",
       "      <th>max</th>\n",
       "      <td>1.000000</td>\n",
       "      <td>1.000000</td>\n",
       "      <td>1.000000</td>\n",
       "      <td>1.000000</td>\n",
       "      <td>1.000000</td>\n",
       "      <td>1.000000</td>\n",
       "      <td>1.000000</td>\n",
       "      <td>1.000000</td>\n",
       "      <td>1.000000</td>\n",
       "      <td>1.000000</td>\n",
       "      <td>...</td>\n",
       "      <td>1.000000</td>\n",
       "      <td>1.000000</td>\n",
       "      <td>1.000000</td>\n",
       "      <td>1.000000</td>\n",
       "      <td>1.000000</td>\n",
       "      <td>1.000000</td>\n",
       "      <td>1.000000</td>\n",
       "      <td>1.000000</td>\n",
       "      <td>1.000000</td>\n",
       "      <td>1.000000</td>\n",
       "    </tr>\n",
       "  </tbody>\n",
       "</table>\n",
       "<p>8 rows × 55 columns</p>\n",
       "</div>"
      ],
      "text/plain": [
       "            duration      src_bytes      dst_bytes           land  \\\n",
       "count  125971.000000  125971.000000  125971.000000  125971.000000   \n",
       "mean        0.079526       0.607910       0.460471       0.000198   \n",
       "std         0.270559       0.488219       0.498437       0.014086   \n",
       "min         0.000000       0.000000       0.000000       0.000000   \n",
       "25%         0.000000       0.000000       0.000000       0.000000   \n",
       "50%         0.000000       1.000000       0.000000       0.000000   \n",
       "75%         0.000000       1.000000       1.000000       0.000000   \n",
       "max         1.000000       1.000000       1.000000       1.000000   \n",
       "\n",
       "              urgent            hot  num_failed_logins      logged_in  \\\n",
       "count  125971.000000  125971.000000      125971.000000  125971.000000   \n",
       "mean        0.000071       0.021203           0.000968       0.395734   \n",
       "std         0.008452       0.144062           0.031105       0.489010   \n",
       "min         0.000000       0.000000           0.000000       0.000000   \n",
       "25%         0.000000       0.000000           0.000000       0.000000   \n",
       "50%         0.000000       0.000000           0.000000       0.000000   \n",
       "75%         0.000000       0.000000           0.000000       1.000000   \n",
       "max         1.000000       1.000000           1.000000       1.000000   \n",
       "\n",
       "       num_compromised     root_shell      ...        \\\n",
       "count    125971.000000  125971.000000      ...         \n",
       "mean          0.010209       0.001342      ...         \n",
       "std           0.100521       0.036603      ...         \n",
       "min           0.000000       0.000000      ...         \n",
       "25%           0.000000       0.000000      ...         \n",
       "50%           0.000000       0.000000      ...         \n",
       "75%           0.000000       0.000000      ...         \n",
       "max           1.000000       1.000000      ...         \n",
       "\n",
       "       dst_host_srv_diff_host_rate!0.00  dst_host_serror_rate_0  \\\n",
       "count                     125971.000000           125971.000000   \n",
       "mean                           0.310143                0.646053   \n",
       "std                            0.462554                0.478195   \n",
       "min                            0.000000                0.000000   \n",
       "25%                            0.000000                0.000000   \n",
       "50%                            0.000000                1.000000   \n",
       "75%                            1.000000                1.000000   \n",
       "max                            1.000000                1.000000   \n",
       "\n",
       "       dst_host_serror_rate_1  dst_host_rerror_rate_0  dst_host_rerror_rate_1  \\\n",
       "count           125971.000000           125971.000000           125971.000000   \n",
       "mean                 0.266426                0.819054                0.081749   \n",
       "std                  0.442092                0.384975                0.273983   \n",
       "min                  0.000000                0.000000                0.000000   \n",
       "25%                  0.000000                1.000000                0.000000   \n",
       "50%                  0.000000                1.000000                0.000000   \n",
       "75%                  1.000000                1.000000                0.000000   \n",
       "max                  1.000000                1.000000                1.000000   \n",
       "\n",
       "       dst_host_srv_serror_rate_0  dst_host_srv_serror_rate_1  \\\n",
       "count               125971.000000               125971.000000   \n",
       "mean                     0.677600                    0.271936   \n",
       "std                      0.467397                    0.444959   \n",
       "min                      0.000000                    0.000000   \n",
       "25%                      0.000000                    0.000000   \n",
       "50%                      1.000000                    0.000000   \n",
       "75%                      1.000000                    1.000000   \n",
       "max                      1.000000                    1.000000   \n",
       "\n",
       "       dst_host_srv_rerror_rate_0  dst_host_srv_rerror_rate_1       attacked  \n",
       "count               125971.000000               125971.000000  125971.000000  \n",
       "mean                     0.846338                    0.105032       0.465425  \n",
       "std                      0.360626                    0.306596       0.498805  \n",
       "min                      0.000000                    0.000000       0.000000  \n",
       "25%                      1.000000                    0.000000       0.000000  \n",
       "50%                      1.000000                    0.000000       0.000000  \n",
       "75%                      1.000000                    0.000000       1.000000  \n",
       "max                      1.000000                    1.000000       1.000000  \n",
       "\n",
       "[8 rows x 55 columns]"
      ]
     },
     "execution_count": 1002,
     "metadata": {},
     "output_type": "execute_result"
    }
   ],
   "source": [
    "t_train= telco.iloc[0:125971]\n",
    "t_train.describe()"
   ]
  },
  {
   "cell_type": "code",
   "execution_count": 1004,
   "metadata": {},
   "outputs": [
    {
     "data": {
      "text/html": [
       "<div>\n",
       "<style scoped>\n",
       "    .dataframe tbody tr th:only-of-type {\n",
       "        vertical-align: middle;\n",
       "    }\n",
       "\n",
       "    .dataframe tbody tr th {\n",
       "        vertical-align: top;\n",
       "    }\n",
       "\n",
       "    .dataframe thead th {\n",
       "        text-align: right;\n",
       "    }\n",
       "</style>\n",
       "<table border=\"1\" class=\"dataframe\">\n",
       "  <thead>\n",
       "    <tr style=\"text-align: right;\">\n",
       "      <th></th>\n",
       "      <th>duration</th>\n",
       "      <th>src_bytes</th>\n",
       "      <th>dst_bytes</th>\n",
       "      <th>land</th>\n",
       "      <th>urgent</th>\n",
       "      <th>hot</th>\n",
       "      <th>num_failed_logins</th>\n",
       "      <th>logged_in</th>\n",
       "      <th>num_compromised</th>\n",
       "      <th>root_shell</th>\n",
       "      <th>...</th>\n",
       "      <th>dst_host_srv_diff_host_rate!0.00</th>\n",
       "      <th>dst_host_serror_rate_0</th>\n",
       "      <th>dst_host_serror_rate_1</th>\n",
       "      <th>dst_host_rerror_rate_0</th>\n",
       "      <th>dst_host_rerror_rate_1</th>\n",
       "      <th>dst_host_srv_serror_rate_0</th>\n",
       "      <th>dst_host_srv_serror_rate_1</th>\n",
       "      <th>dst_host_srv_rerror_rate_0</th>\n",
       "      <th>dst_host_srv_rerror_rate_1</th>\n",
       "      <th>attacked</th>\n",
       "    </tr>\n",
       "  </thead>\n",
       "  <tbody>\n",
       "    <tr>\n",
       "      <th>count</th>\n",
       "      <td>22543.000000</td>\n",
       "      <td>22543.000000</td>\n",
       "      <td>22543.000000</td>\n",
       "      <td>22543.000000</td>\n",
       "      <td>22543.000000</td>\n",
       "      <td>22543.000000</td>\n",
       "      <td>22543.000000</td>\n",
       "      <td>22543.000000</td>\n",
       "      <td>22543.000000</td>\n",
       "      <td>22543.000000</td>\n",
       "      <td>...</td>\n",
       "      <td>22543.000000</td>\n",
       "      <td>22543.000000</td>\n",
       "      <td>22543.000000</td>\n",
       "      <td>22543.000000</td>\n",
       "      <td>22543.000000</td>\n",
       "      <td>22543.000000</td>\n",
       "      <td>22543.000000</td>\n",
       "      <td>22543.000000</td>\n",
       "      <td>22543.000000</td>\n",
       "      <td>22543.000000</td>\n",
       "    </tr>\n",
       "    <tr>\n",
       "      <th>mean</th>\n",
       "      <td>0.156412</td>\n",
       "      <td>0.661758</td>\n",
       "      <td>0.584572</td>\n",
       "      <td>0.000311</td>\n",
       "      <td>0.000444</td>\n",
       "      <td>0.044670</td>\n",
       "      <td>0.021204</td>\n",
       "      <td>0.442222</td>\n",
       "      <td>0.016369</td>\n",
       "      <td>0.002440</td>\n",
       "      <td>...</td>\n",
       "      <td>0.275651</td>\n",
       "      <td>0.795147</td>\n",
       "      <td>0.067870</td>\n",
       "      <td>0.593044</td>\n",
       "      <td>0.129264</td>\n",
       "      <td>0.839063</td>\n",
       "      <td>0.075145</td>\n",
       "      <td>0.678392</td>\n",
       "      <td>0.186399</td>\n",
       "      <td>0.569223</td>\n",
       "    </tr>\n",
       "    <tr>\n",
       "      <th>std</th>\n",
       "      <td>0.363254</td>\n",
       "      <td>0.473122</td>\n",
       "      <td>0.492807</td>\n",
       "      <td>0.017619</td>\n",
       "      <td>0.021058</td>\n",
       "      <td>0.206583</td>\n",
       "      <td>0.144067</td>\n",
       "      <td>0.496661</td>\n",
       "      <td>0.126892</td>\n",
       "      <td>0.049335</td>\n",
       "      <td>...</td>\n",
       "      <td>0.446852</td>\n",
       "      <td>0.403603</td>\n",
       "      <td>0.251529</td>\n",
       "      <td>0.491277</td>\n",
       "      <td>0.335499</td>\n",
       "      <td>0.367481</td>\n",
       "      <td>0.263631</td>\n",
       "      <td>0.467104</td>\n",
       "      <td>0.389437</td>\n",
       "      <td>0.495196</td>\n",
       "    </tr>\n",
       "    <tr>\n",
       "      <th>min</th>\n",
       "      <td>0.000000</td>\n",
       "      <td>0.000000</td>\n",
       "      <td>0.000000</td>\n",
       "      <td>0.000000</td>\n",
       "      <td>0.000000</td>\n",
       "      <td>0.000000</td>\n",
       "      <td>0.000000</td>\n",
       "      <td>0.000000</td>\n",
       "      <td>0.000000</td>\n",
       "      <td>0.000000</td>\n",
       "      <td>...</td>\n",
       "      <td>0.000000</td>\n",
       "      <td>0.000000</td>\n",
       "      <td>0.000000</td>\n",
       "      <td>0.000000</td>\n",
       "      <td>0.000000</td>\n",
       "      <td>0.000000</td>\n",
       "      <td>0.000000</td>\n",
       "      <td>0.000000</td>\n",
       "      <td>0.000000</td>\n",
       "      <td>0.000000</td>\n",
       "    </tr>\n",
       "    <tr>\n",
       "      <th>25%</th>\n",
       "      <td>0.000000</td>\n",
       "      <td>0.000000</td>\n",
       "      <td>0.000000</td>\n",
       "      <td>0.000000</td>\n",
       "      <td>0.000000</td>\n",
       "      <td>0.000000</td>\n",
       "      <td>0.000000</td>\n",
       "      <td>0.000000</td>\n",
       "      <td>0.000000</td>\n",
       "      <td>0.000000</td>\n",
       "      <td>...</td>\n",
       "      <td>0.000000</td>\n",
       "      <td>1.000000</td>\n",
       "      <td>0.000000</td>\n",
       "      <td>0.000000</td>\n",
       "      <td>0.000000</td>\n",
       "      <td>1.000000</td>\n",
       "      <td>0.000000</td>\n",
       "      <td>0.000000</td>\n",
       "      <td>0.000000</td>\n",
       "      <td>0.000000</td>\n",
       "    </tr>\n",
       "    <tr>\n",
       "      <th>50%</th>\n",
       "      <td>0.000000</td>\n",
       "      <td>1.000000</td>\n",
       "      <td>1.000000</td>\n",
       "      <td>0.000000</td>\n",
       "      <td>0.000000</td>\n",
       "      <td>0.000000</td>\n",
       "      <td>0.000000</td>\n",
       "      <td>0.000000</td>\n",
       "      <td>0.000000</td>\n",
       "      <td>0.000000</td>\n",
       "      <td>...</td>\n",
       "      <td>0.000000</td>\n",
       "      <td>1.000000</td>\n",
       "      <td>0.000000</td>\n",
       "      <td>1.000000</td>\n",
       "      <td>0.000000</td>\n",
       "      <td>1.000000</td>\n",
       "      <td>0.000000</td>\n",
       "      <td>1.000000</td>\n",
       "      <td>0.000000</td>\n",
       "      <td>1.000000</td>\n",
       "    </tr>\n",
       "    <tr>\n",
       "      <th>75%</th>\n",
       "      <td>0.000000</td>\n",
       "      <td>1.000000</td>\n",
       "      <td>1.000000</td>\n",
       "      <td>0.000000</td>\n",
       "      <td>0.000000</td>\n",
       "      <td>0.000000</td>\n",
       "      <td>0.000000</td>\n",
       "      <td>1.000000</td>\n",
       "      <td>0.000000</td>\n",
       "      <td>0.000000</td>\n",
       "      <td>...</td>\n",
       "      <td>1.000000</td>\n",
       "      <td>1.000000</td>\n",
       "      <td>0.000000</td>\n",
       "      <td>1.000000</td>\n",
       "      <td>0.000000</td>\n",
       "      <td>1.000000</td>\n",
       "      <td>0.000000</td>\n",
       "      <td>1.000000</td>\n",
       "      <td>0.000000</td>\n",
       "      <td>1.000000</td>\n",
       "    </tr>\n",
       "    <tr>\n",
       "      <th>max</th>\n",
       "      <td>1.000000</td>\n",
       "      <td>1.000000</td>\n",
       "      <td>1.000000</td>\n",
       "      <td>1.000000</td>\n",
       "      <td>1.000000</td>\n",
       "      <td>1.000000</td>\n",
       "      <td>1.000000</td>\n",
       "      <td>1.000000</td>\n",
       "      <td>1.000000</td>\n",
       "      <td>1.000000</td>\n",
       "      <td>...</td>\n",
       "      <td>1.000000</td>\n",
       "      <td>1.000000</td>\n",
       "      <td>1.000000</td>\n",
       "      <td>1.000000</td>\n",
       "      <td>1.000000</td>\n",
       "      <td>1.000000</td>\n",
       "      <td>1.000000</td>\n",
       "      <td>1.000000</td>\n",
       "      <td>1.000000</td>\n",
       "      <td>1.000000</td>\n",
       "    </tr>\n",
       "  </tbody>\n",
       "</table>\n",
       "<p>8 rows × 55 columns</p>\n",
       "</div>"
      ],
      "text/plain": [
       "           duration     src_bytes     dst_bytes          land        urgent  \\\n",
       "count  22543.000000  22543.000000  22543.000000  22543.000000  22543.000000   \n",
       "mean       0.156412      0.661758      0.584572      0.000311      0.000444   \n",
       "std        0.363254      0.473122      0.492807      0.017619      0.021058   \n",
       "min        0.000000      0.000000      0.000000      0.000000      0.000000   \n",
       "25%        0.000000      0.000000      0.000000      0.000000      0.000000   \n",
       "50%        0.000000      1.000000      1.000000      0.000000      0.000000   \n",
       "75%        0.000000      1.000000      1.000000      0.000000      0.000000   \n",
       "max        1.000000      1.000000      1.000000      1.000000      1.000000   \n",
       "\n",
       "                hot  num_failed_logins     logged_in  num_compromised  \\\n",
       "count  22543.000000       22543.000000  22543.000000     22543.000000   \n",
       "mean       0.044670           0.021204      0.442222         0.016369   \n",
       "std        0.206583           0.144067      0.496661         0.126892   \n",
       "min        0.000000           0.000000      0.000000         0.000000   \n",
       "25%        0.000000           0.000000      0.000000         0.000000   \n",
       "50%        0.000000           0.000000      0.000000         0.000000   \n",
       "75%        0.000000           0.000000      1.000000         0.000000   \n",
       "max        1.000000           1.000000      1.000000         1.000000   \n",
       "\n",
       "         root_shell      ...       dst_host_srv_diff_host_rate!0.00  \\\n",
       "count  22543.000000      ...                           22543.000000   \n",
       "mean       0.002440      ...                               0.275651   \n",
       "std        0.049335      ...                               0.446852   \n",
       "min        0.000000      ...                               0.000000   \n",
       "25%        0.000000      ...                               0.000000   \n",
       "50%        0.000000      ...                               0.000000   \n",
       "75%        0.000000      ...                               1.000000   \n",
       "max        1.000000      ...                               1.000000   \n",
       "\n",
       "       dst_host_serror_rate_0  dst_host_serror_rate_1  dst_host_rerror_rate_0  \\\n",
       "count            22543.000000            22543.000000            22543.000000   \n",
       "mean                 0.795147                0.067870                0.593044   \n",
       "std                  0.403603                0.251529                0.491277   \n",
       "min                  0.000000                0.000000                0.000000   \n",
       "25%                  1.000000                0.000000                0.000000   \n",
       "50%                  1.000000                0.000000                1.000000   \n",
       "75%                  1.000000                0.000000                1.000000   \n",
       "max                  1.000000                1.000000                1.000000   \n",
       "\n",
       "       dst_host_rerror_rate_1  dst_host_srv_serror_rate_0  \\\n",
       "count            22543.000000                22543.000000   \n",
       "mean                 0.129264                    0.839063   \n",
       "std                  0.335499                    0.367481   \n",
       "min                  0.000000                    0.000000   \n",
       "25%                  0.000000                    1.000000   \n",
       "50%                  0.000000                    1.000000   \n",
       "75%                  0.000000                    1.000000   \n",
       "max                  1.000000                    1.000000   \n",
       "\n",
       "       dst_host_srv_serror_rate_1  dst_host_srv_rerror_rate_0  \\\n",
       "count                22543.000000                22543.000000   \n",
       "mean                     0.075145                    0.678392   \n",
       "std                      0.263631                    0.467104   \n",
       "min                      0.000000                    0.000000   \n",
       "25%                      0.000000                    0.000000   \n",
       "50%                      0.000000                    1.000000   \n",
       "75%                      0.000000                    1.000000   \n",
       "max                      1.000000                    1.000000   \n",
       "\n",
       "       dst_host_srv_rerror_rate_1      attacked  \n",
       "count                22543.000000  22543.000000  \n",
       "mean                     0.186399      0.569223  \n",
       "std                      0.389437      0.495196  \n",
       "min                      0.000000      0.000000  \n",
       "25%                      0.000000      0.000000  \n",
       "50%                      0.000000      1.000000  \n",
       "75%                      0.000000      1.000000  \n",
       "max                      1.000000      1.000000  \n",
       "\n",
       "[8 rows x 55 columns]"
      ]
     },
     "execution_count": 1004,
     "metadata": {},
     "output_type": "execute_result"
    }
   ],
   "source": [
    "s_test= telco.iloc[125972:148515]\n",
    "s_test.describe()"
   ]
  },
  {
   "cell_type": "code",
   "execution_count": 1005,
   "metadata": {},
   "outputs": [
    {
     "data": {
      "text/html": [
       "<div>\n",
       "<style scoped>\n",
       "    .dataframe tbody tr th:only-of-type {\n",
       "        vertical-align: middle;\n",
       "    }\n",
       "\n",
       "    .dataframe tbody tr th {\n",
       "        vertical-align: top;\n",
       "    }\n",
       "\n",
       "    .dataframe thead th {\n",
       "        text-align: right;\n",
       "    }\n",
       "</style>\n",
       "<table border=\"1\" class=\"dataframe\">\n",
       "  <thead>\n",
       "    <tr style=\"text-align: right;\">\n",
       "      <th></th>\n",
       "      <th>duration</th>\n",
       "      <th>src_bytes</th>\n",
       "      <th>dst_bytes</th>\n",
       "      <th>land</th>\n",
       "      <th>urgent</th>\n",
       "      <th>hot</th>\n",
       "      <th>num_failed_logins</th>\n",
       "      <th>logged_in</th>\n",
       "      <th>num_compromised</th>\n",
       "      <th>root_shell</th>\n",
       "      <th>...</th>\n",
       "      <th>dst_host_same_src_port_rate!0.00</th>\n",
       "      <th>dst_host_srv_diff_host_rate!0.00</th>\n",
       "      <th>dst_host_serror_rate_0</th>\n",
       "      <th>dst_host_serror_rate_1</th>\n",
       "      <th>dst_host_rerror_rate_0</th>\n",
       "      <th>dst_host_rerror_rate_1</th>\n",
       "      <th>dst_host_srv_serror_rate_0</th>\n",
       "      <th>dst_host_srv_serror_rate_1</th>\n",
       "      <th>dst_host_srv_rerror_rate_0</th>\n",
       "      <th>dst_host_srv_rerror_rate_1</th>\n",
       "    </tr>\n",
       "  </thead>\n",
       "  <tbody>\n",
       "    <tr>\n",
       "      <th>0</th>\n",
       "      <td>0</td>\n",
       "      <td>1</td>\n",
       "      <td>0</td>\n",
       "      <td>0</td>\n",
       "      <td>0</td>\n",
       "      <td>0</td>\n",
       "      <td>0</td>\n",
       "      <td>0</td>\n",
       "      <td>0</td>\n",
       "      <td>0</td>\n",
       "      <td>...</td>\n",
       "      <td>1</td>\n",
       "      <td>0</td>\n",
       "      <td>1</td>\n",
       "      <td>0</td>\n",
       "      <td>1</td>\n",
       "      <td>0</td>\n",
       "      <td>1</td>\n",
       "      <td>0</td>\n",
       "      <td>1</td>\n",
       "      <td>0</td>\n",
       "    </tr>\n",
       "    <tr>\n",
       "      <th>1</th>\n",
       "      <td>0</td>\n",
       "      <td>0</td>\n",
       "      <td>0</td>\n",
       "      <td>0</td>\n",
       "      <td>0</td>\n",
       "      <td>0</td>\n",
       "      <td>0</td>\n",
       "      <td>0</td>\n",
       "      <td>0</td>\n",
       "      <td>0</td>\n",
       "      <td>...</td>\n",
       "      <td>0</td>\n",
       "      <td>0</td>\n",
       "      <td>0</td>\n",
       "      <td>1</td>\n",
       "      <td>1</td>\n",
       "      <td>0</td>\n",
       "      <td>0</td>\n",
       "      <td>1</td>\n",
       "      <td>1</td>\n",
       "      <td>0</td>\n",
       "    </tr>\n",
       "    <tr>\n",
       "      <th>2</th>\n",
       "      <td>0</td>\n",
       "      <td>1</td>\n",
       "      <td>1</td>\n",
       "      <td>0</td>\n",
       "      <td>0</td>\n",
       "      <td>0</td>\n",
       "      <td>0</td>\n",
       "      <td>1</td>\n",
       "      <td>0</td>\n",
       "      <td>0</td>\n",
       "      <td>...</td>\n",
       "      <td>1</td>\n",
       "      <td>1</td>\n",
       "      <td>0</td>\n",
       "      <td>0</td>\n",
       "      <td>1</td>\n",
       "      <td>0</td>\n",
       "      <td>0</td>\n",
       "      <td>0</td>\n",
       "      <td>0</td>\n",
       "      <td>0</td>\n",
       "    </tr>\n",
       "    <tr>\n",
       "      <th>3</th>\n",
       "      <td>0</td>\n",
       "      <td>1</td>\n",
       "      <td>1</td>\n",
       "      <td>0</td>\n",
       "      <td>0</td>\n",
       "      <td>0</td>\n",
       "      <td>0</td>\n",
       "      <td>1</td>\n",
       "      <td>0</td>\n",
       "      <td>0</td>\n",
       "      <td>...</td>\n",
       "      <td>0</td>\n",
       "      <td>0</td>\n",
       "      <td>1</td>\n",
       "      <td>0</td>\n",
       "      <td>1</td>\n",
       "      <td>0</td>\n",
       "      <td>1</td>\n",
       "      <td>0</td>\n",
       "      <td>1</td>\n",
       "      <td>0</td>\n",
       "    </tr>\n",
       "    <tr>\n",
       "      <th>4</th>\n",
       "      <td>0</td>\n",
       "      <td>0</td>\n",
       "      <td>0</td>\n",
       "      <td>0</td>\n",
       "      <td>0</td>\n",
       "      <td>0</td>\n",
       "      <td>0</td>\n",
       "      <td>0</td>\n",
       "      <td>0</td>\n",
       "      <td>0</td>\n",
       "      <td>...</td>\n",
       "      <td>0</td>\n",
       "      <td>0</td>\n",
       "      <td>1</td>\n",
       "      <td>0</td>\n",
       "      <td>0</td>\n",
       "      <td>1</td>\n",
       "      <td>1</td>\n",
       "      <td>0</td>\n",
       "      <td>0</td>\n",
       "      <td>1</td>\n",
       "    </tr>\n",
       "  </tbody>\n",
       "</table>\n",
       "<p>5 rows × 54 columns</p>\n",
       "</div>"
      ],
      "text/plain": [
       "   duration  src_bytes  dst_bytes  land  urgent  hot  num_failed_logins  \\\n",
       "0         0          1          0     0       0    0                  0   \n",
       "1         0          0          0     0       0    0                  0   \n",
       "2         0          1          1     0       0    0                  0   \n",
       "3         0          1          1     0       0    0                  0   \n",
       "4         0          0          0     0       0    0                  0   \n",
       "\n",
       "   logged_in  num_compromised  root_shell             ...              \\\n",
       "0          0                0           0             ...               \n",
       "1          0                0           0             ...               \n",
       "2          1                0           0             ...               \n",
       "3          1                0           0             ...               \n",
       "4          0                0           0             ...               \n",
       "\n",
       "   dst_host_same_src_port_rate!0.00  dst_host_srv_diff_host_rate!0.00  \\\n",
       "0                                 1                                 0   \n",
       "1                                 0                                 0   \n",
       "2                                 1                                 1   \n",
       "3                                 0                                 0   \n",
       "4                                 0                                 0   \n",
       "\n",
       "   dst_host_serror_rate_0  dst_host_serror_rate_1  dst_host_rerror_rate_0  \\\n",
       "0                       1                       0                       1   \n",
       "1                       0                       1                       1   \n",
       "2                       0                       0                       1   \n",
       "3                       1                       0                       1   \n",
       "4                       1                       0                       0   \n",
       "\n",
       "   dst_host_rerror_rate_1  dst_host_srv_serror_rate_0  \\\n",
       "0                       0                           1   \n",
       "1                       0                           0   \n",
       "2                       0                           0   \n",
       "3                       0                           1   \n",
       "4                       1                           1   \n",
       "\n",
       "   dst_host_srv_serror_rate_1  dst_host_srv_rerror_rate_0  \\\n",
       "0                           0                           1   \n",
       "1                           1                           1   \n",
       "2                           0                           0   \n",
       "3                           0                           1   \n",
       "4                           0                           0   \n",
       "\n",
       "   dst_host_srv_rerror_rate_1  \n",
       "0                           0  \n",
       "1                           0  \n",
       "2                           0  \n",
       "3                           0  \n",
       "4                           1  \n",
       "\n",
       "[5 rows x 54 columns]"
      ]
     },
     "execution_count": 1005,
     "metadata": {},
     "output_type": "execute_result"
    }
   ],
   "source": [
    "X= t_train.iloc[:, :-1]\n",
    "X.head()"
   ]
  },
  {
   "cell_type": "code",
   "execution_count": 1006,
   "metadata": {},
   "outputs": [
    {
     "data": {
      "text/plain": [
       "0    0\n",
       "1    1\n",
       "2    0\n",
       "3    0\n",
       "4    1\n",
       "Name: attacked, dtype: uint8"
      ]
     },
     "execution_count": 1006,
     "metadata": {},
     "output_type": "execute_result"
    }
   ],
   "source": [
    "Y= t_train[t_train.columns[-1]]\n",
    "Y.head()"
   ]
  },
  {
   "cell_type": "markdown",
   "metadata": {},
   "source": [
    "### Logistic Regression"
   ]
  },
  {
   "cell_type": "code",
   "execution_count": 1010,
   "metadata": {},
   "outputs": [],
   "source": [
    "import sklearn.model_selection as model_selection\n",
    "X_train, X_test, Y_train, Y_test = model_selection.train_test_split(X,Y,test_size=0.2, random_state = 200)"
   ]
  },
  {
   "cell_type": "code",
   "execution_count": 1011,
   "metadata": {},
   "outputs": [],
   "source": [
    "#Import libraries\n",
    "from sklearn.linear_model import LogisticRegression"
   ]
  },
  {
   "cell_type": "code",
   "execution_count": 1012,
   "metadata": {},
   "outputs": [
    {
     "data": {
      "text/plain": [
       "LogisticRegression(C=1.0, class_weight=None, dual=False, fit_intercept=True,\n",
       "          intercept_scaling=1, max_iter=100, multi_class='ovr', n_jobs=1,\n",
       "          penalty='l2', random_state=None, solver='liblinear', tol=0.0001,\n",
       "          verbose=0, warm_start=False)"
      ]
     },
     "execution_count": 1012,
     "metadata": {},
     "output_type": "execute_result"
    }
   ],
   "source": [
    "logreg = LogisticRegression()\n",
    "logreg.fit( X_train, Y_train)"
   ]
  },
  {
   "cell_type": "code",
   "execution_count": 1013,
   "metadata": {},
   "outputs": [
    {
     "data": {
      "text/plain": [
       "0.9813851954752927"
      ]
     },
     "execution_count": 1013,
     "metadata": {},
     "output_type": "execute_result"
    }
   ],
   "source": [
    "logreg.score(X_test,Y_test)"
   ]
  },
  {
   "cell_type": "markdown",
   "metadata": {},
   "source": [
    "### Bagging Classifier"
   ]
  },
  {
   "cell_type": "code",
   "execution_count": 1014,
   "metadata": {},
   "outputs": [],
   "source": [
    "from sklearn.ensemble import BaggingClassifier\n",
    "from sklearn.tree import DecisionTreeClassifier"
   ]
  },
  {
   "cell_type": "code",
   "execution_count": 1015,
   "metadata": {},
   "outputs": [],
   "source": [
    "clf=BaggingClassifier(oob_score=True,n_jobs=-1,n_estimators=20,random_state=400,\n",
    "                      base_estimator=DecisionTreeClassifier())"
   ]
  },
  {
   "cell_type": "code",
   "execution_count": 1016,
   "metadata": {},
   "outputs": [
    {
     "name": "stderr",
     "output_type": "stream",
     "text": [
      "C:\\Users\\Sreenivas\\Anaconda3\\lib\\site-packages\\sklearn\\ensemble\\bagging.py:605: UserWarning: Some inputs do not have OOB scores. This probably means too few estimators were used to compute any reliable oob estimates.\n",
      "  warn(\"Some inputs do not have OOB scores. \"\n",
      "C:\\Users\\Sreenivas\\Anaconda3\\lib\\site-packages\\sklearn\\ensemble\\bagging.py:610: RuntimeWarning: invalid value encountered in true_divide\n",
      "  predictions.sum(axis=1)[:, np.newaxis])\n"
     ]
    },
    {
     "data": {
      "text/plain": [
       "BaggingClassifier(base_estimator=DecisionTreeClassifier(class_weight=None, criterion='gini', max_depth=None,\n",
       "            max_features=None, max_leaf_nodes=None,\n",
       "            min_impurity_decrease=0.0, min_impurity_split=None,\n",
       "            min_samples_leaf=1, min_samples_split=2,\n",
       "            min_weight_fraction_leaf=0.0, presort=False, random_state=None,\n",
       "            splitter='best'),\n",
       "         bootstrap=True, bootstrap_features=False, max_features=1.0,\n",
       "         max_samples=1.0, n_estimators=20, n_jobs=-1, oob_score=True,\n",
       "         random_state=400, verbose=0, warm_start=False)"
      ]
     },
     "execution_count": 1016,
     "metadata": {},
     "output_type": "execute_result"
    }
   ],
   "source": [
    "clf.fit(X_train,Y_train)"
   ]
  },
  {
   "cell_type": "code",
   "execution_count": 1017,
   "metadata": {},
   "outputs": [
    {
     "data": {
      "text/plain": [
       "0.9925676748432166"
      ]
     },
     "execution_count": 1017,
     "metadata": {},
     "output_type": "execute_result"
    }
   ],
   "source": [
    "clf.oob_score_"
   ]
  },
  {
   "cell_type": "code",
   "execution_count": 1018,
   "metadata": {},
   "outputs": [
    {
     "data": {
      "text/plain": [
       "0.9936892240523914"
      ]
     },
     "execution_count": 1018,
     "metadata": {},
     "output_type": "execute_result"
    }
   ],
   "source": [
    "clf.score(X_test,Y_test)"
   ]
  },
  {
   "cell_type": "markdown",
   "metadata": {},
   "source": [
    "### Feature Engineering"
   ]
  },
  {
   "cell_type": "code",
   "execution_count": 1019,
   "metadata": {},
   "outputs": [
    {
     "name": "stdout",
     "output_type": "stream",
     "text": [
      "[1.30924152e-02 2.58752402e-02 6.68911265e-01 0.00000000e+00\n",
      " 0.00000000e+00 2.22011687e-02 0.00000000e+00 1.03119831e-03\n",
      " 1.16774745e-03 2.16719283e-05 6.39521094e-05 5.99240659e-04\n",
      " 1.38037573e-04 9.38327587e-05 1.25163734e-04 8.72384708e-04\n",
      " 1.84221265e-03 5.72582501e-02 4.69537108e-02 6.23087642e-03\n",
      " 1.23399819e-03 3.44653343e-04 2.53163649e-04 1.18618717e-03\n",
      " 1.61746336e-04 9.40854219e-04 2.53312196e-03 1.10323281e-02\n",
      " 2.43314395e-04 8.57406116e-03 3.73554007e-06 5.00301919e-05\n",
      " 6.68314647e-04 2.53356172e-04 2.00378071e-04 1.95591720e-04\n",
      " 1.12833482e-04 7.95529059e-02 9.50033581e-04 3.23997089e-04\n",
      " 1.91335642e-03 9.11238608e-04 2.17931324e-03 8.43803692e-03\n",
      " 4.78168003e-04 5.49586375e-03 1.18277969e-03 1.24482913e-05\n",
      " 1.24466079e-02 1.82768662e-04 5.45954804e-04 7.16132349e-04\n",
      " 1.58268548e-03 8.62167272e-03]\n"
     ]
    }
   ],
   "source": [
    "print (clf.estimators_[0].feature_importances_)"
   ]
  },
  {
   "cell_type": "code",
   "execution_count": 1020,
   "metadata": {},
   "outputs": [],
   "source": [
    "imp=[]\n",
    "for i in clf.estimators_:\n",
    "    imp.append(i.feature_importances_)\n",
    "imp=np.mean(imp,axis=0)"
   ]
  },
  {
   "cell_type": "code",
   "execution_count": 1021,
   "metadata": {},
   "outputs": [],
   "source": [
    "feature_importance=pd.Series(imp,index=X.columns.tolist())"
   ]
  },
  {
   "cell_type": "code",
   "execution_count": 1022,
   "metadata": {
    "scrolled": true
   },
   "outputs": [
    {
     "data": {
      "text/plain": [
       "dst_bytes                           0.667201\n",
       "diff_srv_rate_0                     0.051841\n",
       "service_private                     0.047945\n",
       "prtcl_type_tcp                      0.040351\n",
       "hot                                 0.022055\n",
       "src_bytes                           0.019220\n",
       "dst_host_count_255                  0.017637\n",
       "dst_host_rerror_rate_0              0.013694\n",
       "dst_host_same_src_port_rate!0.00    0.012261\n",
       "srv_count<10                        0.011446\n",
       "logged_in                           0.010029\n",
       "service_http                        0.008923\n",
       "serror_rate_1                       0.007919\n",
       "flag_SF                             0.007528\n",
       "duration                            0.007371\n",
       "dst_host_diff_srv_rate!0.00         0.006254\n",
       "dst_host_srv_rerror_rate_1          0.006249\n",
       "dst_host_same_srv_rate!1.00         0.005788\n",
       "dst_host_srv_diff_host_rate!0.00    0.004785\n",
       "prtcl_type_udp                      0.004749\n",
       "count_2_to_10                       0.004389\n",
       "dst_host_srv_rerror_rate_0          0.002430\n",
       "dst_host_srv_serror_rate_1          0.002299\n",
       "count_1                             0.002162\n",
       "dst_host_serror_rate_0              0.001955\n",
       "wrng_frgmt_1                        0.001613\n",
       "num_compromised                     0.001610\n",
       "dst_host_srv_count_254&255          0.001279\n",
       "srv_diff_host_rate_0                0.001195\n",
       "rerror_rate_0                       0.000855\n",
       "flag_REJ                            0.000780\n",
       "srv_rerror_rate_0                   0.000649\n",
       "dst_host_rerror_rate_1              0.000635\n",
       "dst_host_srv_serror_rate_0          0.000610\n",
       "is_guest_login                      0.000592\n",
       "num_root                            0.000513\n",
       "serror_rate_0                       0.000440\n",
       "same_srv_rate_1                     0.000436\n",
       "flag_S0                             0.000345\n",
       "num_file_creations                  0.000260\n",
       "srv_diff_host_rate_1                0.000241\n",
       "wrng_frgmt_3                        0.000228\n",
       "num_access_files                    0.000185\n",
       "srv_serror_rate_1                   0.000181\n",
       "num_shells                          0.000175\n",
       "dst_host_serror_rate_1              0.000170\n",
       "srv_rerror_rate_1                   0.000154\n",
       "rerror_rate_1                       0.000109\n",
       "su_attempted                        0.000079\n",
       "srv_serror_rate_0                   0.000072\n",
       "land                                0.000045\n",
       "root_shell                          0.000035\n",
       "urgent                              0.000023\n",
       "num_failed_logins                   0.000011\n",
       "dtype: float64"
      ]
     },
     "execution_count": 1022,
     "metadata": {},
     "output_type": "execute_result"
    }
   ],
   "source": [
    "feature_importance.sort_values(ascending=False)"
   ]
  }
 ],
 "metadata": {
  "kernelspec": {
   "display_name": "Python 3",
   "language": "python",
   "name": "python3"
  },
  "language_info": {
   "codemirror_mode": {
    "name": "ipython",
    "version": 3
   },
   "file_extension": ".py",
   "mimetype": "text/x-python",
   "name": "python",
   "nbconvert_exporter": "python",
   "pygments_lexer": "ipython3",
   "version": "3.6.5"
  }
 },
 "nbformat": 4,
 "nbformat_minor": 2
}
